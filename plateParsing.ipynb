{
 "cells": [
  {
   "cell_type": "code",
   "execution_count": 28,
   "metadata": {},
   "outputs": [],
   "source": [
    "import pandas as pd\n",
    "import numpy as np\n",
    "import seaborn as sns\n",
    "import matplotlib.pyplot as plt\n",
    "# import catheat\n",
    "import openpyxl as xl\n",
    "from openpyxl.utils.dataframe import dataframe_to_rows\n",
    "import logging"
   ]
  },
  {
   "cell_type": "code",
   "execution_count": 29,
   "metadata": {
    "code_folding": [
     0
    ]
   },
   "outputs": [],
   "source": [
    "def is_number(s):\n",
    "    try:\n",
    "        float(s)\n",
    "        return True\n",
    "    except ValueError:\n",
    "        pass"
   ]
  },
  {
   "cell_type": "code",
   "execution_count": 30,
   "metadata": {},
   "outputs": [],
   "source": [
    "mastersheetCats = ['Tag', 'Cage', 'Ear', 'Sex', 'Color', 'Genotype', 'DOB','DOD', 'Father', 'Mother', 'Lineage', 'PlatePos']"
   ]
  },
  {
   "cell_type": "code",
   "execution_count": 31,
   "metadata": {
    "code_folding": []
   },
   "outputs": [],
   "source": [
    "def parseFrame(fn):\n",
    "    df = pd.read_excel(fn, dtype={'Column': str, 'Tag': str}).dropna(how='all') # drop empty columns and typecast things that would otherwise be read as numbers\n",
    "    if 'Strain' in df.columns: #not really necessary anymore\n",
    "        df = df.rename(columns={'Strain': 'Lineage'})\n",
    "    df.Column = df.Column.str.zfill(2)\n",
    "    df.Lineage = df.Lineage.fillna(\"--\")\n",
    "    df[['Father', 'Mother']] = df.Parents.str.split(\"x\", expand=True)\n",
    "    df['TagClean'] = df.Tag.apply(lambda x: \"t\" + str(x)\n",
    "                                  if is_number(x) else x)\n",
    "    df['PlatePos'] = [\n",
    "        \"{}-{}{}\".format(plate, row, col)\n",
    "        for plate, row, col in zip(df.Plate, df.Row, df.Column)\n",
    "    ]\n",
    "    df['Info'] = [\n",
    "        '\\n'.join([str(x), str(y)]) for x, y in zip(df['Tag'], df['Lineage'])\n",
    "    ]\n",
    "    locs = pd.read_pickle('96-wellLocs.pkl').sort_values(\n",
    "        ['Column',\n",
    "         'Row']).reset_index(drop=True)  # impt standard plate indexing\n",
    "    df = locs.merge(df, how='outer')\n",
    "#     logging.log(msg = \"Returned parsed sample sheet\", level = 0)\n",
    "    return df"
   ]
  },
  {
   "cell_type": "code",
   "execution_count": 32,
   "metadata": {
    "code_folding": [
     0
    ],
    "scrolled": true
   },
   "outputs": [],
   "source": [
    "# def makeExcel(fn, wb, df):\n",
    "#     '''Takes the filename for naming the sheet and a pyxl workbook'''\n",
    "#     sheetname = fn.rstrip('.xlsx') + '_CleanLayout'\n",
    "#     wb = xl.load_workbook(fn)\n",
    "#     ws = wb.create_sheet(sheetname)    \n",
    "#     layout = df.pivot(index='Row', columns='Column',\n",
    "#                       values=['Info']).fillna(\"empty\")\n",
    "#     rows = dataframe_to_rows(layout['Info'],\n",
    "#                              index=True,\n",
    "#                              header=True)\n",
    "#     for r in rows:\n",
    "#         ws.append(r)\n",
    "#     for cell in ws['A'] + ws[1]:\n",
    "#         cell.style = 'Pandas'\n",
    "#     wb.save(fn)\n",
    "#     return fn"
   ]
  },
  {
   "cell_type": "code",
   "execution_count": 33,
   "metadata": {
    "code_folding": []
   },
   "outputs": [],
   "source": [
    "def makeCleanLayout(fn, wb, df):\n",
    "    sheetname = fn.rstrip('.xlsx') + '_CleanLayout'\n",
    "    ws = wb.create_sheet(sheetname)    \n",
    "    layout = df.pivot(index='Row', columns='Column',\n",
    "                      values=['Info']).fillna(\"empty\")\n",
    "    rows = dataframe_to_rows(layout['Info'],\n",
    "                             index=True,\n",
    "                             header=True)\n",
    "    for r in rows:\n",
    "        ws.append(r)\n",
    "    for cell in ws['A'] + ws[1]:\n",
    "        cell.style = 'Pandas'\n",
    "#     logging.log(msg = \"Returning clean layout\")\n",
    "    return wb"
   ]
  },
  {
   "cell_type": "code",
   "execution_count": 34,
   "metadata": {
    "code_folding": []
   },
   "outputs": [],
   "source": [
    "def makeCleanSampleList(fn, wb, df):\n",
    "    sheetname = fn.rstrip('.xlsx') + \"_CleanSampleList\"\n",
    "    ws = wb.create_sheet(sheetname)\n",
    "    cleanSamples = df[['Plate', 'Row', 'Column', 'TagClean', 'Lineage']]\n",
    "    rows = dataframe_to_rows(cleanSamples,\n",
    "                             index=False,\n",
    "                             header=True)\n",
    "    for r in rows:\n",
    "        ws.append(r)\n",
    "    return wb"
   ]
  },
  {
   "cell_type": "code",
   "execution_count": 35,
   "metadata": {
    "code_folding": []
   },
   "outputs": [],
   "source": [
    "def makeCleanMasterSheet(fn, wb, df, cats=mastersheetCats):\n",
    "    sheetname = fn.rstrip('.xlsx') + \"_Mastersheet\"\n",
    "    ws = wb.create_sheet(sheetname)\n",
    "    master = df[cats].fillna(\"\")\n",
    "    rows = dataframe_to_rows(master,\n",
    "                             index=False,\n",
    "                             header=True)\n",
    "    for r in rows:\n",
    "        ws.append(r)\n",
    "    return wb\n"
   ]
  },
  {
   "cell_type": "code",
   "execution_count": 36,
   "metadata": {
    "code_folding": [
     0
    ]
   },
   "outputs": [],
   "source": [
    "def addHeaders(wb, operator = \"KL\"):\n",
    "    for sheet in wb.sheetnames:\n",
    "        wb[sheet].oddHeader.left.text = \"&[Tab] \\\n",
    "                                            KL - &[Date]\"\n",
    "    return wb"
   ]
  },
  {
   "cell_type": "code",
   "execution_count": 37,
   "metadata": {},
   "outputs": [],
   "source": [
    "def process(fn, wb, df):\n",
    "    wb = makeCleanLayout(fn, wb, df)\n",
    "    wb = makeCleanSampleList(fn, wb, df)\n",
    "    wb = makeCleanMasterSheet(fn, wb, df)\n",
    "    wb = addHeaders(wb)\n",
    "    logging.log(\"Saving file\")\n",
    "    wb.save(fn)\n",
    "    return wb"
   ]
  },
  {
   "cell_type": "code",
   "execution_count": 38,
   "metadata": {},
   "outputs": [],
   "source": [
    "fn = 'T1129040_20-12-03.xlsx'"
   ]
  },
  {
   "cell_type": "code",
   "execution_count": 39,
   "metadata": {},
   "outputs": [],
   "source": [
    "wb = xl.load_workbook(fn)\n",
    "df = parseFrame(fn)\n",
    "# fn = \"testoutput.xlsx\""
   ]
  },
  {
   "cell_type": "code",
   "execution_count": 40,
   "metadata": {},
   "outputs": [
    {
     "name": "stderr",
     "output_type": "stream",
     "text": [
      "/home/kathleen/.conda/envs/pipelinePrep/lib/python3.8/site-packages/openpyxl/workbook/child.py:99: UserWarning: Title is more than 31 characters. Some applications may not be able to read the file\n",
      "  warnings.warn(\"Title is more than 31 characters. Some applications may not be able to read the file\")\n"
     ]
    }
   ],
   "source": [
    "wb = makeCleanLayout(fn, wb, df)\n",
    "wb = makeCleanSampleList(fn, wb, df)\n",
    "wb = makeCleanMasterSheet(fn, wb, df)\n",
    "wb = addHeaders(wb)\n"
   ]
  },
  {
   "cell_type": "code",
   "execution_count": 41,
   "metadata": {},
   "outputs": [],
   "source": [
    "wb.save(fn)"
   ]
  },
  {
   "cell_type": "code",
   "execution_count": 26,
   "metadata": {},
   "outputs": [],
   "source": [
    "for fn in fns:\n",
    "    wb = xl.load_workbook(fn)\n",
    "    df = parseFrame(fn)\n",
    "    wb = makeCleanLayout(fn, wb, df)\n",
    "    wb = makeCleanSampleList(fn, wb, df)\n",
    "    wb = makeCleanMasterSheet(fn, wb, df)\n",
    "    wb.save(fn)"
   ]
  }
 ],
 "metadata": {
  "kernelspec": {
   "display_name": "Python 3",
   "language": "python",
   "name": "python3"
  },
  "language_info": {
   "codemirror_mode": {
    "name": "ipython",
    "version": 3
   },
   "file_extension": ".py",
   "mimetype": "text/x-python",
   "name": "python",
   "nbconvert_exporter": "python",
   "pygments_lexer": "ipython3",
   "version": "3.8.5"
  }
 },
 "nbformat": 4,
 "nbformat_minor": 2
}
