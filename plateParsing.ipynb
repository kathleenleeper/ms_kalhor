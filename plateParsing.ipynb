{
 "cells": [
  {
   "cell_type": "code",
   "execution_count": 1,
   "metadata": {},
   "outputs": [],
   "source": [
    "import pandas as pd\n",
    "import numpy as np\n",
    "import seaborn as sns\n",
    "import matplotlib.pyplot as plt\n",
    "# import catheat\n",
    "import openpyxl as xl\n",
    "from openpyxl.utils.dataframe import dataframe_to_rows\n",
    "import logging"
   ]
  },
  {
   "cell_type": "code",
   "execution_count": 2,
   "metadata": {},
   "outputs": [],
   "source": [
    "# fn =\n",
    "# fn = T979199.xlsx\n",
    "# fn = 'T962919_2020-01-23.xlsx'\n",
    "# fn = 'T1004640_2-14-20.xlsx'\n",
    "# fn = 'T965----05_2020-02-28.xlsx'\n",
    "# fn = '20200323_plateT965523.xlsx'"
   ]
  },
  {
   "cell_type": "code",
   "execution_count": 3,
   "metadata": {},
   "outputs": [],
   "source": [
    "# fn = 'SamplePlates/T965520_200630.xlsx'"
   ]
  },
  {
   "cell_type": "code",
   "execution_count": 22,
   "metadata": {},
   "outputs": [],
   "source": [
    "def is_number(s):\n",
    "    try:\n",
    "        float(s)\n",
    "        return True\n",
    "    except ValueError:\n",
    "        pass"
   ]
  },
  {
   "cell_type": "code",
   "execution_count": 4,
   "metadata": {},
   "outputs": [],
   "source": [
    "mastersheetCats = ['Tag', 'Cage', 'Ear', 'Sex', 'Color', 'Genotype', 'DOB','DOD', 'Father', 'Mother', 'Lineage', 'PlatePos']"
   ]
  },
  {
   "cell_type": "code",
   "execution_count": 23,
   "metadata": {
    "code_folding": [
     0
    ]
   },
   "outputs": [],
   "source": [
    "def parseFrame(fn):\n",
    "    df = pd.read_excel(fn, dtype={'Column': str, 'Tag': str}).dropna(how='all')\n",
    "    if 'Strain' in df.columns:\n",
    "        df = df.rename(columns={'Strain': 'Lineage'})\n",
    "    df.Column = df.Column.str.zfill(2)\n",
    "    df.Lineage = df.Lineage.fillna(\"--\")\n",
    "    df[['Father', 'Mother']] = df.Parents.str.split(\"x\", expand=True)\n",
    "    df['TagClean'] = df.Tag.apply(lambda x: \"t\" + str(x)\n",
    "                                  if is_number(x) else x)\n",
    "    df['PlatePos'] = [\n",
    "        \"{}-{}{}\".format(plate, row, col)\n",
    "        for plate, row, col in zip(df.Plate, df.Row, df.Column)\n",
    "    ]\n",
    "    df['Info'] = [\n",
    "        '\\n'.join([str(x), str(y)]) for x, y in zip(df['Tag'], df['Lineage'])\n",
    "    ]\n",
    "    locs = pd.read_pickle('96-wellLocs.pkl').sort_values(\n",
    "        ['Column',\n",
    "         'Row']).reset_index(drop=True)  # impt standard plate indexing\n",
    "    df = locs.merge(df, how='outer')\n",
    "    return df"
   ]
  },
  {
   "cell_type": "code",
   "execution_count": 6,
   "metadata": {
    "code_folding": [
     0
    ],
    "scrolled": true
   },
   "outputs": [],
   "source": [
    "# def makeExcel(fn, wb, df):\n",
    "#     '''Takes the filename for naming the sheet and a pyxl workbook'''\n",
    "#     sheetname = fn.rstrip('.xlsx') + '_CleanLayout'\n",
    "#     wb = xl.load_workbook(fn)\n",
    "#     ws = wb.create_sheet(sheetname)    \n",
    "#     layout = df.pivot(index='Row', columns='Column',\n",
    "#                       values=['Info']).fillna(\"empty\")\n",
    "#     rows = dataframe_to_rows(layout['Info'],\n",
    "#                              index=True,\n",
    "#                              header=True)\n",
    "#     for r in rows:\n",
    "#         ws.append(r)\n",
    "#     for cell in ws['A'] + ws[1]:\n",
    "#         cell.style = 'Pandas'\n",
    "#     wb.save(fn)\n",
    "#     return fn"
   ]
  },
  {
   "cell_type": "code",
   "execution_count": 7,
   "metadata": {
    "code_folding": []
   },
   "outputs": [],
   "source": [
    "def makeCleanLayout(fn, wb, df):\n",
    "    sheetname = fn.rstrip('.xlsx') + '_CleanLayout'\n",
    "    ws = wb.create_sheet(sheetname)    \n",
    "    layout = df.pivot(index='Row', columns='Column',\n",
    "                      values=['Info']).fillna(\"empty\")\n",
    "    rows = dataframe_to_rows(layout['Info'],\n",
    "                             index=True,\n",
    "                             header=True)\n",
    "    for r in rows:\n",
    "        ws.append(r)\n",
    "    for cell in ws['A'] + ws[1]:\n",
    "        cell.style = 'Pandas'\n",
    "    return wb"
   ]
  },
  {
   "cell_type": "code",
   "execution_count": 8,
   "metadata": {
    "code_folding": []
   },
   "outputs": [],
   "source": [
    "def makeCleanSampleList(fn, wb, df):\n",
    "    sheetname = fn.rstrip('.xlsx') + \"_CleanSampleList\"\n",
    "    ws = wb.create_sheet(sheetname)\n",
    "    cleanSamples = df[['Plate', 'Row', 'Column', 'TagClean', 'Lineage']]\n",
    "    rows = dataframe_to_rows(cleanSamples,\n",
    "                             index=False,\n",
    "                             header=True)\n",
    "    for r in rows:\n",
    "        ws.append(r)\n",
    "    return wb"
   ]
  },
  {
   "cell_type": "code",
   "execution_count": 9,
   "metadata": {
    "code_folding": []
   },
   "outputs": [],
   "source": [
    "def makeCleanMasterSheet(fn, wb, df, cats=mastersheetCats):\n",
    "    sheetname = fn.rstrip('.xlsx') + \"_Mastersheet\"\n",
    "    ws = wb.create_sheet(sheetname)\n",
    "    master = df[cats].fillna(\"\")\n",
    "    rows = dataframe_to_rows(master,\n",
    "                             index=False,\n",
    "                             header=True)\n",
    "    for r in rows:\n",
    "        ws.append(r)\n",
    "    return wb\n"
   ]
  },
  {
   "cell_type": "code",
   "execution_count": 10,
   "metadata": {
    "code_folding": [
     0
    ]
   },
   "outputs": [],
   "source": [
    "def addHeaders(wb, operator = \"KL\"):\n",
    "    for sheet in wb.sheetnames:\n",
    "        wb[sheet].oddHeader.left.text = \"&[Tab] \\\n",
    "                                            KL - &[Date]\"\n",
    "    return wb"
   ]
  },
  {
   "cell_type": "code",
   "execution_count": null,
   "metadata": {},
   "outputs": [],
   "source": []
  },
  {
   "cell_type": "code",
   "execution_count": 11,
   "metadata": {},
   "outputs": [
    {
     "ename": "NameError",
     "evalue": "name 'fn' is not defined",
     "output_type": "error",
     "traceback": [
      "\u001b[0;31m---------------------------------------------------------------------------\u001b[0m",
      "\u001b[0;31mNameError\u001b[0m                                 Traceback (most recent call last)",
      "\u001b[0;32m<ipython-input-11-4c5d2cac99c2>\u001b[0m in \u001b[0;36m<module>\u001b[0;34m\u001b[0m\n\u001b[0;32m----> 1\u001b[0;31m \u001b[0mwb\u001b[0m \u001b[0;34m=\u001b[0m \u001b[0mxl\u001b[0m\u001b[0;34m.\u001b[0m\u001b[0mload_workbook\u001b[0m\u001b[0;34m(\u001b[0m\u001b[0mfn\u001b[0m\u001b[0;34m)\u001b[0m\u001b[0;34m\u001b[0m\u001b[0;34m\u001b[0m\u001b[0m\n\u001b[0m\u001b[1;32m      2\u001b[0m \u001b[0mdf\u001b[0m \u001b[0;34m=\u001b[0m \u001b[0mparseFrame\u001b[0m\u001b[0;34m(\u001b[0m\u001b[0mfn\u001b[0m\u001b[0;34m)\u001b[0m\u001b[0;34m\u001b[0m\u001b[0;34m\u001b[0m\u001b[0m\n\u001b[1;32m      3\u001b[0m \u001b[0;31m# fn = \"testoutput.xlsx\"\u001b[0m\u001b[0;34m\u001b[0m\u001b[0;34m\u001b[0m\u001b[0;34m\u001b[0m\u001b[0m\n",
      "\u001b[0;31mNameError\u001b[0m: name 'fn' is not defined"
     ]
    }
   ],
   "source": [
    "wb = xl.load_workbook(fn)\n",
    "df = parseFrame(fn)\n",
    "# fn = \"testoutput.xlsx\""
   ]
  },
  {
   "cell_type": "code",
   "execution_count": 42,
   "metadata": {},
   "outputs": [
    {
     "name": "stderr",
     "output_type": "stream",
     "text": [
      "/home/gremlin/.conda/envs/pipelinePrep/lib/python3.7/site-packages/openpyxl/workbook/child.py:99: UserWarning: Title is more than 31 characters. Some applications may not be able to read the file\n",
      "  warnings.warn(\"Title is more than 31 characters. Some applications may not be able to read the file\")\n"
     ]
    }
   ],
   "source": [
    "wb = makeCleanLayout(fn, wb, df)\n",
    "wb = makeCleanSampleList(fn, wb, df)\n",
    "wb = makeCleanMasterSheet(fn, wb, df)\n",
    "wb = addHeaders(wb)"
   ]
  },
  {
   "cell_type": "code",
   "execution_count": 44,
   "metadata": {},
   "outputs": [],
   "source": [
    "wb.save(fn)"
   ]
  },
  {
   "cell_type": "code",
   "execution_count": 25,
   "metadata": {},
   "outputs": [],
   "source": [
    "fns = ['T965529_200730.xlsx', 'T965520_200630.xlsx']"
   ]
  },
  {
   "cell_type": "code",
   "execution_count": 26,
   "metadata": {},
   "outputs": [],
   "source": [
    "for fn in fns:\n",
    "    wb = xl.load_workbook(fn)\n",
    "    df = parseFrame(fn)\n",
    "    wb = makeCleanLayout(fn, wb, df)\n",
    "    wb = makeCleanSampleList(fn, wb, df)\n",
    "    wb.save(fn)"
   ]
  }
 ],
 "metadata": {
  "kernelspec": {
   "display_name": "Python 3",
   "language": "python",
   "name": "python3"
  },
  "language_info": {
   "codemirror_mode": {
    "name": "ipython",
    "version": 3
   },
   "file_extension": ".py",
   "mimetype": "text/x-python",
   "name": "python",
   "nbconvert_exporter": "python",
   "pygments_lexer": "ipython3",
   "version": "3.8.1"
  }
 },
 "nbformat": 4,
 "nbformat_minor": 2
}
