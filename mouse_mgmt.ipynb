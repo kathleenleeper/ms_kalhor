{
 "cells": [
  {
   "cell_type": "code",
   "execution_count": 49,
   "metadata": {
    "code_folding": []
   },
   "outputs": [],
   "source": [
    "from ColonyMgmt import * \n",
    "import seaborn as sns"
   ]
  },
  {
   "cell_type": "markdown",
   "metadata": {
    "code_folding": []
   },
   "source": [
    "# wish list\n",
    "\n",
    "* highlight file time if > 1 hr old\n",
    "* google scripts API to circumvent this issue entirely\n",
    "* clean up wrapping and helper functions"
   ]
  },
  {
   "cell_type": "markdown",
   "metadata": {},
   "source": [
    "## some useful helper functions to consider\n",
    "Convert a given string to {current-date}{string}.csv\n",
    "\n",
    "```\n",
    "makefn('string')\n",
    "```\n",
    "\n",
    "### helpful consolidators\n",
    "Creates two dataframes of all cages + dispensible % > .2, and either saves them independently or pops them back for  further manip.\n",
    "```\n",
    "makeConsolidations(df, save = True, popBack = False)\n",
    "```    \n",
    "                  \n",
    "\n",
    "### helpful for euthanizing many animals\n",
    "```\n",
    "df.fillna(\"-\").groupby(['Cage','DOD']).agg({'Tag':'unique', 'Lineage': 'unique'}).to_csv(fn)\n",
    "```"
   ]
  },
  {
   "cell_type": "code",
   "execution_count": 29,
   "metadata": {},
   "outputs": [],
   "source": [
    "file = '05227_mastersheet - HopkinsColony.tsv'\n",
    "cats = ['Tag', 'Ear', 'Sex', 'Color', 'DOB', 'Lineage', 'Genotype', 'Father', 'Mother']"
   ]
  },
  {
   "cell_type": "code",
   "execution_count": 3,
   "metadata": {},
   "outputs": [
    {
     "name": "stdout",
     "output_type": "stream",
     "text": [
      "mtime: 2020-12-15 18:39:09\n"
     ]
    }
   ],
   "source": [
    "ts = os.path.getmtime(file)\n",
    "print(\"mtime:\", dt.utcfromtimestamp(ts).strftime('%Y-%m-%d %H:%M:%S'))"
   ]
  },
  {
   "cell_type": "code",
   "execution_count": 22,
   "metadata": {
    "scrolled": true
   },
   "outputs": [
    {
     "name": "stdout",
     "output_type": "stream",
     "text": [
      "Read in CSV: 05227_mastersheet - HopkinsColony.tsv.\n",
      "File was last modified at: 2020-12-15 18:41:17\n",
      "\n",
      "Animals without gender given temp. gender\n",
      "Animals without cage given temp. cage\n",
      "Animals without specified lineage given NA\n",
      "calculted total dispensible counts\n",
      "calculated total cage sizes\n",
      "calculated % disp\n",
      "certainly cage reorg time\n",
      "after removing transferred {'numCages': 199, 'numMice': 513}\n",
      "Parsed ear tags for Excel formatting\n"
     ]
    }
   ],
   "source": [
    "df = importCleanDF(file,\n",
    "                   dropDeads=False,\n",
    "                   dropTransfers=True)\n",
    "\n",
    "df = df[~df.DOD.str.contains(\"euthan|fd\")]"
   ]
  },
  {
   "cell_type": "code",
   "execution_count": 23,
   "metadata": {},
   "outputs": [
    {
     "name": "stdout",
     "output_type": "stream",
     "text": [
      "0 1763PB#7\n",
      "1 LSL-Cas9 x SynCre\n",
      "2 1763PB#3\n",
      "3 LSL-Cas9 x hCD2\n",
      "4 1853PBF#1\n",
      "5 1685ins21#2\n",
      "6 Cas9\n",
      "7 Cas9 x PB3\n",
      "8 PB#21\n"
     ]
    }
   ],
   "source": [
    "# check that lineages are correct\n",
    "for num, el in enumerate(df.Lineage.unique()):\n",
    "    print(num, el)"
   ]
  },
  {
   "cell_type": "code",
   "execution_count": 48,
   "metadata": {},
   "outputs": [],
   "source": [
    "# mask = ~df.TagClean.isin(tier1) \n",
    "experimental = df.Lineage.str.contains(\"Cas9 x\")\n",
    "PB = df.Lineage.str.contains(\"PB#\")\n",
    "tier1 = df.DOD.str.contains(\"tier1_confirmed|breed\")\n",
    "femalesM = (df.Sex.str.lower() == \"f\")\n",
    "malesM = (df.Sex.str.lower() == \"m\")\n",
    "not_ancient = df.DOB > '2020-04-01'\n",
    "ins = df.Lineage.str.contains(\"ins\")\n",
    "not_new = df.DOB < '2020-10-20'\n",
    "pb3 = df.Lineage.str.contains(\"PB#\")\n"
   ]
  },
  {
   "cell_type": "code",
   "execution_count": null,
   "metadata": {},
   "outputs": [],
   "source": []
  },
  {
   "cell_type": "code",
   "execution_count": 23,
   "metadata": {},
   "outputs": [],
   "source": [
    "df[ins & not_new][cats+['DOD']].to_clipboard(index=False)\n"
   ]
  },
  {
   "cell_type": "code",
   "execution_count": 17,
   "metadata": {},
   "outputs": [
    {
     "name": "stdout",
     "output_type": "stream",
     "text": [
      "Saved CSV with fns AllCages_2020-December-01.csv\n",
      "Saved CSV with fns FemaleCons_2020-December-01.csv\n",
      "returning 2 frames\n"
     ]
    }
   ],
   "source": [
    "# a, b = makeConsolidations(df, save = True, popBack = True)"
   ]
  },
  {
   "cell_type": "code",
   "execution_count": 5,
   "metadata": {},
   "outputs": [
    {
     "data": {
      "text/html": [
       "<div>\n",
       "<style scoped>\n",
       "    .dataframe tbody tr th:only-of-type {\n",
       "        vertical-align: middle;\n",
       "    }\n",
       "\n",
       "    .dataframe tbody tr th {\n",
       "        vertical-align: top;\n",
       "    }\n",
       "\n",
       "    .dataframe thead tr th {\n",
       "        text-align: left;\n",
       "    }\n",
       "\n",
       "    .dataframe thead tr:last-of-type th {\n",
       "        text-align: right;\n",
       "    }\n",
       "</style>\n",
       "<table border=\"1\" class=\"dataframe\">\n",
       "  <thead>\n",
       "    <tr>\n",
       "      <th></th>\n",
       "      <th></th>\n",
       "      <th>Cage</th>\n",
       "      <th>Sex</th>\n",
       "      <th colspan=\"2\" halign=\"left\">Tag</th>\n",
       "    </tr>\n",
       "    <tr>\n",
       "      <th></th>\n",
       "      <th></th>\n",
       "      <th>nunique</th>\n",
       "      <th>unique</th>\n",
       "      <th>nunique</th>\n",
       "      <th>unique</th>\n",
       "    </tr>\n",
       "    <tr>\n",
       "      <th>Lineage</th>\n",
       "      <th>DOD</th>\n",
       "      <th></th>\n",
       "      <th></th>\n",
       "      <th></th>\n",
       "      <th></th>\n",
       "    </tr>\n",
       "  </thead>\n",
       "  <tbody>\n",
       "    <tr>\n",
       "      <th rowspan=\"4\" valign=\"top\">1685ins21#2</th>\n",
       "      <th>-</th>\n",
       "      <td>12</td>\n",
       "      <td>[M, F]</td>\n",
       "      <td>39</td>\n",
       "      <td>[5491, 5492, 5493, 5494, 5495, 5496, 5497, 549...</td>\n",
       "    </tr>\n",
       "    <tr>\n",
       "      <th>breeding-confirmed-201014</th>\n",
       "      <td>4</td>\n",
       "      <td>[M, F]</td>\n",
       "      <td>11</td>\n",
       "      <td>[5042, 5370, 5418, 5044, 5368, 5371, 5367, 541...</td>\n",
       "    </tr>\n",
       "    <tr>\n",
       "      <th>dispensible</th>\n",
       "      <td>2</td>\n",
       "      <td>[M, F]</td>\n",
       "      <td>2</td>\n",
       "      <td>[5043, 5132]</td>\n",
       "    </tr>\n",
       "    <tr>\n",
       "      <th>fertile male</th>\n",
       "      <td>1</td>\n",
       "      <td>[M]</td>\n",
       "      <td>1</td>\n",
       "      <td>[5363]</td>\n",
       "    </tr>\n",
       "    <tr>\n",
       "      <th rowspan=\"8\" valign=\"top\">1763PB#3</th>\n",
       "      <th>-</th>\n",
       "      <td>2</td>\n",
       "      <td>[M]</td>\n",
       "      <td>5</td>\n",
       "      <td>[5401, 5403, 5404, 5407, 5408]</td>\n",
       "    </tr>\n",
       "    <tr>\n",
       "      <th>dispensible</th>\n",
       "      <td>1</td>\n",
       "      <td>[M]</td>\n",
       "      <td>1</td>\n",
       "      <td>[5402]</td>\n",
       "    </tr>\n",
       "    <tr>\n",
       "      <th>experimentalbreeder-201029</th>\n",
       "      <td>2</td>\n",
       "      <td>[M]</td>\n",
       "      <td>2</td>\n",
       "      <td>[5373, 5390]</td>\n",
       "    </tr>\n",
       "    <tr>\n",
       "      <th>pb21breeder_tier2-201015</th>\n",
       "      <td>3</td>\n",
       "      <td>[F]</td>\n",
       "      <td>3</td>\n",
       "      <td>[5384, 5395, 5399]</td>\n",
       "    </tr>\n",
       "    <tr>\n",
       "      <th>pb21breeders_tier1_confirmed-201015</th>\n",
       "      <td>3</td>\n",
       "      <td>[F]</td>\n",
       "      <td>6</td>\n",
       "      <td>[5382, 5383, 5385, 5387, 5393, 5397]</td>\n",
       "    </tr>\n",
       "    <tr>\n",
       "      <th>pb21breeders_tier2_201015</th>\n",
       "      <td>1</td>\n",
       "      <td>[F]</td>\n",
       "      <td>1</td>\n",
       "      <td>[5414]</td>\n",
       "    </tr>\n",
       "    <tr>\n",
       "      <th>pb3breeder_tier1_confirmed-201101</th>\n",
       "      <td>7</td>\n",
       "      <td>[F, M]</td>\n",
       "      <td>18</td>\n",
       "      <td>[5374, 5410*, 5413, 5375, 5378, 5412*, 5376, 5...</td>\n",
       "    </tr>\n",
       "    <tr>\n",
       "      <th>pb3breeder_tier2_putative-201104</th>\n",
       "      <td>1</td>\n",
       "      <td>[M]</td>\n",
       "      <td>1</td>\n",
       "      <td>[5406]</td>\n",
       "    </tr>\n",
       "    <tr>\n",
       "      <th rowspan=\"8\" valign=\"top\">1763PB#7</th>\n",
       "      <th>-</th>\n",
       "      <td>17</td>\n",
       "      <td>[F, M]</td>\n",
       "      <td>38</td>\n",
       "      <td>[5014, 5197, 5244, 5135, 5137, 5139, 5196, 528...</td>\n",
       "    </tr>\n",
       "    <tr>\n",
       "      <th>breeder-may20</th>\n",
       "      <td>3</td>\n",
       "      <td>[F]</td>\n",
       "      <td>3</td>\n",
       "      <td>[5283, 5072, 5114]</td>\n",
       "    </tr>\n",
       "    <tr>\n",
       "      <th>breeding-confirmed-201019</th>\n",
       "      <td>5</td>\n",
       "      <td>[F, m, M]</td>\n",
       "      <td>11</td>\n",
       "      <td>[5245, 5427, 5439, 5449, 5252, 5426, 5443, 527...</td>\n",
       "    </tr>\n",
       "    <tr>\n",
       "      <th>breeding-confirmed-201021</th>\n",
       "      <td>1</td>\n",
       "      <td>[F]</td>\n",
       "      <td>2</td>\n",
       "      <td>[5242, 5435]</td>\n",
       "    </tr>\n",
       "    <tr>\n",
       "      <th>dispensible</th>\n",
       "      <td>1</td>\n",
       "      <td>[M]</td>\n",
       "      <td>1</td>\n",
       "      <td>[5133]</td>\n",
       "    </tr>\n",
       "    <tr>\n",
       "      <th>fertile male</th>\n",
       "      <td>4</td>\n",
       "      <td>[M]</td>\n",
       "      <td>4</td>\n",
       "      <td>[5005, 5239, 5424, 5444]</td>\n",
       "    </tr>\n",
       "    <tr>\n",
       "      <th>pb21breeder_tier2-201015</th>\n",
       "      <td>1</td>\n",
       "      <td>[M]</td>\n",
       "      <td>1</td>\n",
       "      <td>[5136]</td>\n",
       "    </tr>\n",
       "    <tr>\n",
       "      <th>pb21breeders_tier1_confirmed-201015</th>\n",
       "      <td>3</td>\n",
       "      <td>[M, m]</td>\n",
       "      <td>3</td>\n",
       "      <td>[5134, 5445, 5448]</td>\n",
       "    </tr>\n",
       "    <tr>\n",
       "      <th rowspan=\"5\" valign=\"top\">1853PBF#1</th>\n",
       "      <th>-</th>\n",
       "      <td>2</td>\n",
       "      <td>[M]</td>\n",
       "      <td>3</td>\n",
       "      <td>[5346, 5350, 5351]</td>\n",
       "    </tr>\n",
       "    <tr>\n",
       "      <th>breeder-may20</th>\n",
       "      <td>1</td>\n",
       "      <td>[F]</td>\n",
       "      <td>2</td>\n",
       "      <td>[5075, 5076]</td>\n",
       "    </tr>\n",
       "    <tr>\n",
       "      <th>dispensible</th>\n",
       "      <td>2</td>\n",
       "      <td>[M, F]</td>\n",
       "      <td>4</td>\n",
       "      <td>[5186, 5213, 5214, 5215]</td>\n",
       "    </tr>\n",
       "    <tr>\n",
       "      <th>pbfbreeder_tier1_confirmed-201101</th>\n",
       "      <td>3</td>\n",
       "      <td>[M, F]</td>\n",
       "      <td>9</td>\n",
       "      <td>[5348, 5355, 5359, 5349, 5354, 5357, 5352, 535...</td>\n",
       "    </tr>\n",
       "    <tr>\n",
       "      <th>pbfbreeder_tier2_putative-201104</th>\n",
       "      <td>4</td>\n",
       "      <td>[M, F]</td>\n",
       "      <td>5</td>\n",
       "      <td>[5187, 5347, 5358*, 5360, 5361]</td>\n",
       "    </tr>\n",
       "    <tr>\n",
       "      <th rowspan=\"2\" valign=\"top\">Cas9</th>\n",
       "      <th>-</th>\n",
       "      <td>9</td>\n",
       "      <td>[M, F]</td>\n",
       "      <td>19</td>\n",
       "      <td>[5312, 5313, 5314, 5334, 5335, 5336, 5429, 543...</td>\n",
       "    </tr>\n",
       "    <tr>\n",
       "      <th>experimental breeder</th>\n",
       "      <td>2</td>\n",
       "      <td>[F]</td>\n",
       "      <td>4</td>\n",
       "      <td>[5460, 5461, 5458, 5459]</td>\n",
       "    </tr>\n",
       "    <tr>\n",
       "      <th rowspan=\"3\" valign=\"top\">Cas9 x PB3</th>\n",
       "      <th>-</th>\n",
       "      <td>2</td>\n",
       "      <td>[M, F]</td>\n",
       "      <td>7</td>\n",
       "      <td>[5339, 5340, 5341, 5342, 5343, 5344, 5345]</td>\n",
       "    </tr>\n",
       "    <tr>\n",
       "      <th>dispensible</th>\n",
       "      <td>1</td>\n",
       "      <td>[M]</td>\n",
       "      <td>1</td>\n",
       "      <td>[5318]</td>\n",
       "    </tr>\n",
       "    <tr>\n",
       "      <th>vickie (experimental)</th>\n",
       "      <td>2</td>\n",
       "      <td>[F, M]</td>\n",
       "      <td>3</td>\n",
       "      <td>[5310, 5311, 5316]</td>\n",
       "    </tr>\n",
       "    <tr>\n",
       "      <th rowspan=\"5\" valign=\"top\">LSL-Cas9 x SynCre</th>\n",
       "      <th>-</th>\n",
       "      <td>1</td>\n",
       "      <td>[M]</td>\n",
       "      <td>1</td>\n",
       "      <td>[5258]</td>\n",
       "    </tr>\n",
       "    <tr>\n",
       "      <th>breeder-jun01</th>\n",
       "      <td>1</td>\n",
       "      <td>[M]</td>\n",
       "      <td>1</td>\n",
       "      <td>[5219]</td>\n",
       "    </tr>\n",
       "    <tr>\n",
       "      <th>breeder-jun01backup</th>\n",
       "      <td>1</td>\n",
       "      <td>[M]</td>\n",
       "      <td>1</td>\n",
       "      <td>[5172]</td>\n",
       "    </tr>\n",
       "    <tr>\n",
       "      <th>breeding</th>\n",
       "      <td>1</td>\n",
       "      <td>[F]</td>\n",
       "      <td>2</td>\n",
       "      <td>[5324, 5325]</td>\n",
       "    </tr>\n",
       "    <tr>\n",
       "      <th>dispensible</th>\n",
       "      <td>4</td>\n",
       "      <td>[F, M]</td>\n",
       "      <td>6</td>\n",
       "      <td>[5029, 5173, 5174, 5216, 5217, 5218]</td>\n",
       "    </tr>\n",
       "    <tr>\n",
       "      <th rowspan=\"5\" valign=\"top\">LSL-Cas9 x hCD2</th>\n",
       "      <th>-</th>\n",
       "      <td>5</td>\n",
       "      <td>[M, F]</td>\n",
       "      <td>10</td>\n",
       "      <td>[5178, 5201, 5222, 5261, 5262, 5263, 5264, 526...</td>\n",
       "    </tr>\n",
       "    <tr>\n",
       "      <th>breeder-jun01</th>\n",
       "      <td>1</td>\n",
       "      <td>[M]</td>\n",
       "      <td>1</td>\n",
       "      <td>[5179]</td>\n",
       "    </tr>\n",
       "    <tr>\n",
       "      <th>breeder-jun01backup</th>\n",
       "      <td>1</td>\n",
       "      <td>[F]</td>\n",
       "      <td>1</td>\n",
       "      <td>[5229*]</td>\n",
       "    </tr>\n",
       "    <tr>\n",
       "      <th>breeding</th>\n",
       "      <td>2</td>\n",
       "      <td>[M, F]</td>\n",
       "      <td>4</td>\n",
       "      <td>[5116, 5181, 5199*, 5227]</td>\n",
       "    </tr>\n",
       "    <tr>\n",
       "      <th>dispensible</th>\n",
       "      <td>4</td>\n",
       "      <td>[M, F]</td>\n",
       "      <td>6</td>\n",
       "      <td>[5177, 5200, 5223, 5225, 5226*, 5228]</td>\n",
       "    </tr>\n",
       "  </tbody>\n",
       "</table>\n",
       "</div>"
      ],
      "text/plain": [
       "                                                         Cage        Sex  \\\n",
       "                                                      nunique     unique   \n",
       "Lineage           DOD                                                      \n",
       "1685ins21#2       -                                        12     [M, F]   \n",
       "                  breeding-confirmed-201014                 4     [M, F]   \n",
       "                  dispensible                               2     [M, F]   \n",
       "                  fertile male                              1        [M]   \n",
       "1763PB#3          -                                         2        [M]   \n",
       "                  dispensible                               1        [M]   \n",
       "                  experimentalbreeder-201029                2        [M]   \n",
       "                  pb21breeder_tier2-201015                  3        [F]   \n",
       "                  pb21breeders_tier1_confirmed-201015       3        [F]   \n",
       "                  pb21breeders_tier2_201015                 1        [F]   \n",
       "                  pb3breeder_tier1_confirmed-201101         7     [F, M]   \n",
       "                  pb3breeder_tier2_putative-201104          1        [M]   \n",
       "1763PB#7          -                                        17     [F, M]   \n",
       "                  breeder-may20                             3        [F]   \n",
       "                  breeding-confirmed-201019                 5  [F, m, M]   \n",
       "                  breeding-confirmed-201021                 1        [F]   \n",
       "                  dispensible                               1        [M]   \n",
       "                  fertile male                              4        [M]   \n",
       "                  pb21breeder_tier2-201015                  1        [M]   \n",
       "                  pb21breeders_tier1_confirmed-201015       3     [M, m]   \n",
       "1853PBF#1         -                                         2        [M]   \n",
       "                  breeder-may20                             1        [F]   \n",
       "                  dispensible                               2     [M, F]   \n",
       "                  pbfbreeder_tier1_confirmed-201101         3     [M, F]   \n",
       "                  pbfbreeder_tier2_putative-201104          4     [M, F]   \n",
       "Cas9              -                                         9     [M, F]   \n",
       "                  experimental breeder                      2        [F]   \n",
       "Cas9 x PB3        -                                         2     [M, F]   \n",
       "                  dispensible                               1        [M]   \n",
       "                  vickie (experimental)                     2     [F, M]   \n",
       "LSL-Cas9 x SynCre -                                         1        [M]   \n",
       "                  breeder-jun01                             1        [M]   \n",
       "                  breeder-jun01backup                       1        [M]   \n",
       "                  breeding                                  1        [F]   \n",
       "                  dispensible                               4     [F, M]   \n",
       "LSL-Cas9 x hCD2   -                                         5     [M, F]   \n",
       "                  breeder-jun01                             1        [M]   \n",
       "                  breeder-jun01backup                       1        [F]   \n",
       "                  breeding                                  2     [M, F]   \n",
       "                  dispensible                               4     [M, F]   \n",
       "\n",
       "                                                          Tag  \\\n",
       "                                                      nunique   \n",
       "Lineage           DOD                                           \n",
       "1685ins21#2       -                                        39   \n",
       "                  breeding-confirmed-201014                11   \n",
       "                  dispensible                               2   \n",
       "                  fertile male                              1   \n",
       "1763PB#3          -                                         5   \n",
       "                  dispensible                               1   \n",
       "                  experimentalbreeder-201029                2   \n",
       "                  pb21breeder_tier2-201015                  3   \n",
       "                  pb21breeders_tier1_confirmed-201015       6   \n",
       "                  pb21breeders_tier2_201015                 1   \n",
       "                  pb3breeder_tier1_confirmed-201101        18   \n",
       "                  pb3breeder_tier2_putative-201104          1   \n",
       "1763PB#7          -                                        38   \n",
       "                  breeder-may20                             3   \n",
       "                  breeding-confirmed-201019                11   \n",
       "                  breeding-confirmed-201021                 2   \n",
       "                  dispensible                               1   \n",
       "                  fertile male                              4   \n",
       "                  pb21breeder_tier2-201015                  1   \n",
       "                  pb21breeders_tier1_confirmed-201015       3   \n",
       "1853PBF#1         -                                         3   \n",
       "                  breeder-may20                             2   \n",
       "                  dispensible                               4   \n",
       "                  pbfbreeder_tier1_confirmed-201101         9   \n",
       "                  pbfbreeder_tier2_putative-201104          5   \n",
       "Cas9              -                                        19   \n",
       "                  experimental breeder                      4   \n",
       "Cas9 x PB3        -                                         7   \n",
       "                  dispensible                               1   \n",
       "                  vickie (experimental)                     3   \n",
       "LSL-Cas9 x SynCre -                                         1   \n",
       "                  breeder-jun01                             1   \n",
       "                  breeder-jun01backup                       1   \n",
       "                  breeding                                  2   \n",
       "                  dispensible                               6   \n",
       "LSL-Cas9 x hCD2   -                                        10   \n",
       "                  breeder-jun01                             1   \n",
       "                  breeder-jun01backup                       1   \n",
       "                  breeding                                  4   \n",
       "                  dispensible                               6   \n",
       "\n",
       "                                                                                                          \n",
       "                                                                                                  unique  \n",
       "Lineage           DOD                                                                                     \n",
       "1685ins21#2       -                                    [5491, 5492, 5493, 5494, 5495, 5496, 5497, 549...  \n",
       "                  breeding-confirmed-201014            [5042, 5370, 5418, 5044, 5368, 5371, 5367, 541...  \n",
       "                  dispensible                                                               [5043, 5132]  \n",
       "                  fertile male                                                                    [5363]  \n",
       "1763PB#3          -                                                       [5401, 5403, 5404, 5407, 5408]  \n",
       "                  dispensible                                                                     [5402]  \n",
       "                  experimentalbreeder-201029                                                [5373, 5390]  \n",
       "                  pb21breeder_tier2-201015                                            [5384, 5395, 5399]  \n",
       "                  pb21breeders_tier1_confirmed-201015               [5382, 5383, 5385, 5387, 5393, 5397]  \n",
       "                  pb21breeders_tier2_201015                                                       [5414]  \n",
       "                  pb3breeder_tier1_confirmed-201101    [5374, 5410*, 5413, 5375, 5378, 5412*, 5376, 5...  \n",
       "                  pb3breeder_tier2_putative-201104                                                [5406]  \n",
       "1763PB#7          -                                    [5014, 5197, 5244, 5135, 5137, 5139, 5196, 528...  \n",
       "                  breeder-may20                                                       [5283, 5072, 5114]  \n",
       "                  breeding-confirmed-201019            [5245, 5427, 5439, 5449, 5252, 5426, 5443, 527...  \n",
       "                  breeding-confirmed-201021                                                 [5242, 5435]  \n",
       "                  dispensible                                                                     [5133]  \n",
       "                  fertile male                                                  [5005, 5239, 5424, 5444]  \n",
       "                  pb21breeder_tier2-201015                                                        [5136]  \n",
       "                  pb21breeders_tier1_confirmed-201015                                 [5134, 5445, 5448]  \n",
       "1853PBF#1         -                                                                   [5346, 5350, 5351]  \n",
       "                  breeder-may20                                                             [5075, 5076]  \n",
       "                  dispensible                                                   [5186, 5213, 5214, 5215]  \n",
       "                  pbfbreeder_tier1_confirmed-201101    [5348, 5355, 5359, 5349, 5354, 5357, 5352, 535...  \n",
       "                  pbfbreeder_tier2_putative-201104                       [5187, 5347, 5358*, 5360, 5361]  \n",
       "Cas9              -                                    [5312, 5313, 5314, 5334, 5335, 5336, 5429, 543...  \n",
       "                  experimental breeder                                          [5460, 5461, 5458, 5459]  \n",
       "Cas9 x PB3        -                                           [5339, 5340, 5341, 5342, 5343, 5344, 5345]  \n",
       "                  dispensible                                                                     [5318]  \n",
       "                  vickie (experimental)                                               [5310, 5311, 5316]  \n",
       "LSL-Cas9 x SynCre -                                                                               [5258]  \n",
       "                  breeder-jun01                                                                   [5219]  \n",
       "                  breeder-jun01backup                                                             [5172]  \n",
       "                  breeding                                                                  [5324, 5325]  \n",
       "                  dispensible                                       [5029, 5173, 5174, 5216, 5217, 5218]  \n",
       "LSL-Cas9 x hCD2   -                                    [5178, 5201, 5222, 5261, 5262, 5263, 5264, 526...  \n",
       "                  breeder-jun01                                                                   [5179]  \n",
       "                  breeder-jun01backup                                                            [5229*]  \n",
       "                  breeding                                                     [5116, 5181, 5199*, 5227]  \n",
       "                  dispensible                                      [5177, 5200, 5223, 5225, 5226*, 5228]  "
      ]
     },
     "execution_count": 5,
     "metadata": {},
     "output_type": "execute_result"
    }
   ],
   "source": [
    "df.groupby(['Lineage', 'DOD']).agg({'Cage': 'nunique', 'Sex':'unique', 'Tag': ['nunique','unique'], })"
   ]
  },
  {
   "cell_type": "markdown",
   "metadata": {},
   "source": [
    "# speciality functions - check breedings, splitting genotypes"
   ]
  },
  {
   "cell_type": "code",
   "execution_count": 22,
   "metadata": {},
   "outputs": [
    {
     "data": {
      "text/html": [
       "<div>\n",
       "<style scoped>\n",
       "    .dataframe tbody tr th:only-of-type {\n",
       "        vertical-align: middle;\n",
       "    }\n",
       "\n",
       "    .dataframe tbody tr th {\n",
       "        vertical-align: top;\n",
       "    }\n",
       "\n",
       "    .dataframe thead th {\n",
       "        text-align: right;\n",
       "    }\n",
       "</style>\n",
       "<table border=\"1\" class=\"dataframe\">\n",
       "  <thead>\n",
       "    <tr style=\"text-align: right;\">\n",
       "      <th></th>\n",
       "      <th>Tag</th>\n",
       "      <th>Lineage</th>\n",
       "      <th>Date</th>\n",
       "      <th>SourceFn</th>\n",
       "    </tr>\n",
       "  </thead>\n",
       "  <tbody>\n",
       "    <tr>\n",
       "      <th>79</th>\n",
       "      <td>NaN</td>\n",
       "      <td>PBF</td>\n",
       "      <td>2020-10-09</td>\n",
       "      <td>Breedings/PBF-2020-10-09_cage_compositions2(se...</td>\n",
       "    </tr>\n",
       "  </tbody>\n",
       "</table>\n",
       "</div>"
      ],
      "text/plain": [
       "    Tag Lineage        Date                                           SourceFn\n",
       "79  NaN     PBF  2020-10-09  Breedings/PBF-2020-10-09_cage_compositions2(se..."
      ]
     },
     "execution_count": 22,
     "metadata": {},
     "output_type": "execute_result"
    }
   ],
   "source": [
    "source_dir = \"Breedings\"\n",
    "date = \"2020-10-09\"\n",
    "\n",
    "breeders = getBreedingList(source_dir, date)\n",
    "tier2 = set(breeders.query('SourceFn.str.contains(\"compositions2\")')['Tag'])\n",
    "tier1 = set(breeders.query('SourceFn.str.contains(\"compositions1\")')['Tag'])\n",
    "\n",
    "# syntax to check if breeder list against colony list\n",
    "df[df['Tag'].isin(tier1) & df['Tag'].notnull()] \n",
    "\n",
    "#if any of the breeding pairs have an NA in them -- i.e. a pair that is set up with only one female, this will match *all* animals that also have a null tag. Check with the below line to see if this is the case.\n",
    "breeders.query('Tag.isnull()')\n"
   ]
  },
  {
   "cell_type": "code",
   "execution_count": 27,
   "metadata": {},
   "outputs": [
    {
     "data": {
      "text/html": [
       "<div>\n",
       "<style scoped>\n",
       "    .dataframe tbody tr th:only-of-type {\n",
       "        vertical-align: middle;\n",
       "    }\n",
       "\n",
       "    .dataframe tbody tr th {\n",
       "        vertical-align: top;\n",
       "    }\n",
       "\n",
       "    .dataframe thead th {\n",
       "        text-align: right;\n",
       "    }\n",
       "</style>\n",
       "<table border=\"1\" class=\"dataframe\">\n",
       "  <thead>\n",
       "    <tr style=\"text-align: right;\">\n",
       "      <th></th>\n",
       "      <th>Tag</th>\n",
       "      <th>Lineage</th>\n",
       "      <th>Date</th>\n",
       "      <th>SourceFn</th>\n",
       "    </tr>\n",
       "  </thead>\n",
       "  <tbody>\n",
       "    <tr>\n",
       "      <th>37</th>\n",
       "      <td>5072</td>\n",
       "      <td>PB7</td>\n",
       "      <td>2020-10-09</td>\n",
       "      <td>Breedings/PB7-2020-10-09_cage_compositions2(se...</td>\n",
       "    </tr>\n",
       "    <tr>\n",
       "      <th>6</th>\n",
       "      <td>5134</td>\n",
       "      <td>PB7</td>\n",
       "      <td>2020-10-09</td>\n",
       "      <td>Breedings/PB7-2020-10-09_cage_compositions2(se...</td>\n",
       "    </tr>\n",
       "    <tr>\n",
       "      <th>13</th>\n",
       "      <td>5134</td>\n",
       "      <td>PB21</td>\n",
       "      <td>2020-10-0</td>\n",
       "      <td>Breedings/PB21-2020-10-09_cage_compositions1(b...</td>\n",
       "    </tr>\n",
       "    <tr>\n",
       "      <th>7</th>\n",
       "      <td>5135</td>\n",
       "      <td>PB7</td>\n",
       "      <td>2020-10-09</td>\n",
       "      <td>Breedings/PB7-2020-10-09_cage_compositions2(se...</td>\n",
       "    </tr>\n",
       "    <tr>\n",
       "      <th>26</th>\n",
       "      <td>5136</td>\n",
       "      <td>PB21</td>\n",
       "      <td>2020-10-0</td>\n",
       "      <td>Breedings/PB21-2020-10-09_cage_compositions2(s...</td>\n",
       "    </tr>\n",
       "    <tr>\n",
       "      <th>17</th>\n",
       "      <td>5187</td>\n",
       "      <td>PBF</td>\n",
       "      <td>2020-10-09</td>\n",
       "      <td>Breedings/PBF-2020-10-09_cage_compositions2(se...</td>\n",
       "    </tr>\n",
       "    <tr>\n",
       "      <th>38</th>\n",
       "      <td>5197</td>\n",
       "      <td>PB7</td>\n",
       "      <td>2020-10-09</td>\n",
       "      <td>Breedings/PB7-2020-10-09_cage_compositions2(se...</td>\n",
       "    </tr>\n",
       "    <tr>\n",
       "      <th>68</th>\n",
       "      <td>5280</td>\n",
       "      <td>PB7</td>\n",
       "      <td>2020-10-09</td>\n",
       "      <td>Breedings/PB7-2020-10-09_cage_compositions2(se...</td>\n",
       "    </tr>\n",
       "    <tr>\n",
       "      <th>69</th>\n",
       "      <td>5283</td>\n",
       "      <td>PB7</td>\n",
       "      <td>2020-10-09</td>\n",
       "      <td>Breedings/PB7-2020-10-09_cage_compositions2(se...</td>\n",
       "    </tr>\n",
       "    <tr>\n",
       "      <th>16</th>\n",
       "      <td>5347</td>\n",
       "      <td>PBF</td>\n",
       "      <td>2020-10-09</td>\n",
       "      <td>Breedings/PBF-2020-10-09_cage_compositions2(se...</td>\n",
       "    </tr>\n",
       "    <tr>\n",
       "      <th>48</th>\n",
       "      <td>5358</td>\n",
       "      <td>PBF</td>\n",
       "      <td>2020-10-09</td>\n",
       "      <td>Breedings/PBF-2020-10-09_cage_compositions2(se...</td>\n",
       "    </tr>\n",
       "    <tr>\n",
       "      <th>47</th>\n",
       "      <td>5360</td>\n",
       "      <td>PBF</td>\n",
       "      <td>2020-10-09</td>\n",
       "      <td>Breedings/PBF-2020-10-09_cage_compositions2(se...</td>\n",
       "    </tr>\n",
       "    <tr>\n",
       "      <th>78</th>\n",
       "      <td>5361</td>\n",
       "      <td>PBF</td>\n",
       "      <td>2020-10-09</td>\n",
       "      <td>Breedings/PBF-2020-10-09_cage_compositions2(se...</td>\n",
       "    </tr>\n",
       "    <tr>\n",
       "      <th>8</th>\n",
       "      <td>5373</td>\n",
       "      <td>PB3</td>\n",
       "      <td>2020-10-09</td>\n",
       "      <td>Breedings/PB3-2020-10-09_cage_compositions2(se...</td>\n",
       "    </tr>\n",
       "    <tr>\n",
       "      <th>70</th>\n",
       "      <td>5383</td>\n",
       "      <td>PB3</td>\n",
       "      <td>2020-10-09</td>\n",
       "      <td>Breedings/PB3-2020-10-09_cage_compositions2(se...</td>\n",
       "    </tr>\n",
       "    <tr>\n",
       "      <th>44</th>\n",
       "      <td>5383</td>\n",
       "      <td>PB21</td>\n",
       "      <td>2020-10-0</td>\n",
       "      <td>Breedings/PB21-2020-10-09_cage_compositions1(b...</td>\n",
       "    </tr>\n",
       "    <tr>\n",
       "      <th>87</th>\n",
       "      <td>5384</td>\n",
       "      <td>PB21</td>\n",
       "      <td>2020-10-0</td>\n",
       "      <td>Breedings/PB21-2020-10-09_cage_compositions2(s...</td>\n",
       "    </tr>\n",
       "    <tr>\n",
       "      <th>40</th>\n",
       "      <td>5385</td>\n",
       "      <td>PB3</td>\n",
       "      <td>2020-10-09</td>\n",
       "      <td>Breedings/PB3-2020-10-09_cage_compositions2(se...</td>\n",
       "    </tr>\n",
       "    <tr>\n",
       "      <th>45</th>\n",
       "      <td>5385</td>\n",
       "      <td>PB21</td>\n",
       "      <td>2020-10-0</td>\n",
       "      <td>Breedings/PB21-2020-10-09_cage_compositions1(b...</td>\n",
       "    </tr>\n",
       "    <tr>\n",
       "      <th>71</th>\n",
       "      <td>5387</td>\n",
       "      <td>PB3</td>\n",
       "      <td>2020-10-09</td>\n",
       "      <td>Breedings/PB3-2020-10-09_cage_compositions2(se...</td>\n",
       "    </tr>\n",
       "    <tr>\n",
       "      <th>76</th>\n",
       "      <td>5387</td>\n",
       "      <td>PB21</td>\n",
       "      <td>2020-10-0</td>\n",
       "      <td>Breedings/PB21-2020-10-09_cage_compositions1(b...</td>\n",
       "    </tr>\n",
       "    <tr>\n",
       "      <th>39</th>\n",
       "      <td>5393</td>\n",
       "      <td>PB3</td>\n",
       "      <td>2020-10-09</td>\n",
       "      <td>Breedings/PB3-2020-10-09_cage_compositions2(se...</td>\n",
       "    </tr>\n",
       "    <tr>\n",
       "      <th>77</th>\n",
       "      <td>5393</td>\n",
       "      <td>PB21</td>\n",
       "      <td>2020-10-0</td>\n",
       "      <td>Breedings/PB21-2020-10-09_cage_compositions1(b...</td>\n",
       "    </tr>\n",
       "    <tr>\n",
       "      <th>56</th>\n",
       "      <td>5395</td>\n",
       "      <td>PB21</td>\n",
       "      <td>2020-10-0</td>\n",
       "      <td>Breedings/PB21-2020-10-09_cage_compositions2(s...</td>\n",
       "    </tr>\n",
       "    <tr>\n",
       "      <th>88</th>\n",
       "      <td>5399</td>\n",
       "      <td>PB21</td>\n",
       "      <td>2020-10-0</td>\n",
       "      <td>Breedings/PB21-2020-10-09_cage_compositions2(s...</td>\n",
       "    </tr>\n",
       "    <tr>\n",
       "      <th>9</th>\n",
       "      <td>5406</td>\n",
       "      <td>PB3</td>\n",
       "      <td>2020-10-09</td>\n",
       "      <td>Breedings/PB3-2020-10-09_cage_compositions2(se...</td>\n",
       "    </tr>\n",
       "    <tr>\n",
       "      <th>57</th>\n",
       "      <td>5414</td>\n",
       "      <td>PB21</td>\n",
       "      <td>2020-10-0</td>\n",
       "      <td>Breedings/PB21-2020-10-09_cage_compositions2(s...</td>\n",
       "    </tr>\n",
       "    <tr>\n",
       "      <th>25</th>\n",
       "      <td>5450</td>\n",
       "      <td>PB21</td>\n",
       "      <td>2020-10-0</td>\n",
       "      <td>Breedings/PB21-2020-10-09_cage_compositions2(s...</td>\n",
       "    </tr>\n",
       "    <tr>\n",
       "      <th>79</th>\n",
       "      <td>NaN</td>\n",
       "      <td>PBF</td>\n",
       "      <td>2020-10-09</td>\n",
       "      <td>Breedings/PBF-2020-10-09_cage_compositions2(se...</td>\n",
       "    </tr>\n",
       "  </tbody>\n",
       "</table>\n",
       "</div>"
      ],
      "text/plain": [
       "     Tag Lineage        Date  \\\n",
       "37  5072     PB7  2020-10-09   \n",
       "6   5134     PB7  2020-10-09   \n",
       "13  5134    PB21   2020-10-0   \n",
       "7   5135     PB7  2020-10-09   \n",
       "26  5136    PB21   2020-10-0   \n",
       "17  5187     PBF  2020-10-09   \n",
       "38  5197     PB7  2020-10-09   \n",
       "68  5280     PB7  2020-10-09   \n",
       "69  5283     PB7  2020-10-09   \n",
       "16  5347     PBF  2020-10-09   \n",
       "48  5358     PBF  2020-10-09   \n",
       "47  5360     PBF  2020-10-09   \n",
       "78  5361     PBF  2020-10-09   \n",
       "8   5373     PB3  2020-10-09   \n",
       "70  5383     PB3  2020-10-09   \n",
       "44  5383    PB21   2020-10-0   \n",
       "87  5384    PB21   2020-10-0   \n",
       "40  5385     PB3  2020-10-09   \n",
       "45  5385    PB21   2020-10-0   \n",
       "71  5387     PB3  2020-10-09   \n",
       "76  5387    PB21   2020-10-0   \n",
       "39  5393     PB3  2020-10-09   \n",
       "77  5393    PB21   2020-10-0   \n",
       "56  5395    PB21   2020-10-0   \n",
       "88  5399    PB21   2020-10-0   \n",
       "9   5406     PB3  2020-10-09   \n",
       "57  5414    PB21   2020-10-0   \n",
       "25  5450    PB21   2020-10-0   \n",
       "79   NaN     PBF  2020-10-09   \n",
       "\n",
       "                                             SourceFn  \n",
       "37  Breedings/PB7-2020-10-09_cage_compositions2(se...  \n",
       "6   Breedings/PB7-2020-10-09_cage_compositions2(se...  \n",
       "13  Breedings/PB21-2020-10-09_cage_compositions1(b...  \n",
       "7   Breedings/PB7-2020-10-09_cage_compositions2(se...  \n",
       "26  Breedings/PB21-2020-10-09_cage_compositions2(s...  \n",
       "17  Breedings/PBF-2020-10-09_cage_compositions2(se...  \n",
       "38  Breedings/PB7-2020-10-09_cage_compositions2(se...  \n",
       "68  Breedings/PB7-2020-10-09_cage_compositions2(se...  \n",
       "69  Breedings/PB7-2020-10-09_cage_compositions2(se...  \n",
       "16  Breedings/PBF-2020-10-09_cage_compositions2(se...  \n",
       "48  Breedings/PBF-2020-10-09_cage_compositions2(se...  \n",
       "47  Breedings/PBF-2020-10-09_cage_compositions2(se...  \n",
       "78  Breedings/PBF-2020-10-09_cage_compositions2(se...  \n",
       "8   Breedings/PB3-2020-10-09_cage_compositions2(se...  \n",
       "70  Breedings/PB3-2020-10-09_cage_compositions2(se...  \n",
       "44  Breedings/PB21-2020-10-09_cage_compositions1(b...  \n",
       "87  Breedings/PB21-2020-10-09_cage_compositions2(s...  \n",
       "40  Breedings/PB3-2020-10-09_cage_compositions2(se...  \n",
       "45  Breedings/PB21-2020-10-09_cage_compositions1(b...  \n",
       "71  Breedings/PB3-2020-10-09_cage_compositions2(se...  \n",
       "76  Breedings/PB21-2020-10-09_cage_compositions1(b...  \n",
       "39  Breedings/PB3-2020-10-09_cage_compositions2(se...  \n",
       "77  Breedings/PB21-2020-10-09_cage_compositions1(b...  \n",
       "56  Breedings/PB21-2020-10-09_cage_compositions2(s...  \n",
       "88  Breedings/PB21-2020-10-09_cage_compositions2(s...  \n",
       "9   Breedings/PB3-2020-10-09_cage_compositions2(se...  \n",
       "57  Breedings/PB21-2020-10-09_cage_compositions2(s...  \n",
       "25  Breedings/PB21-2020-10-09_cage_compositions2(s...  \n",
       "79  Breedings/PBF-2020-10-09_cage_compositions2(se...  "
      ]
     },
     "execution_count": 27,
     "metadata": {},
     "output_type": "execute_result"
    }
   ],
   "source": [
    "breeders[breeders.Tag.isin(tier2)].sort_values('Tag')"
   ]
  },
  {
   "cell_type": "code",
   "execution_count": 13,
   "metadata": {},
   "outputs": [],
   "source": [
    "# df[df['Tag'].isin(tier2) & df['Tag'].notnull()] "
   ]
  },
  {
   "cell_type": "code",
   "execution_count": 20,
   "metadata": {},
   "outputs": [],
   "source": [
    "## TEMPORARY CODE\n",
    "transfers = df.query('DOD.str.contains(\"glatzer|west\")')\n",
    "transfers.groupby(['DOD']).agg({'Cage': ['nunique','unique'], 'Tag': ['nunique','unique'], 'Lineage':'unique'}).to_clipboard()"
   ]
  },
  {
   "cell_type": "code",
   "execution_count": 33,
   "metadata": {},
   "outputs": [],
   "source": [
    "# to split genotyping info\n",
    "df = splitGenotypes(df)"
   ]
  },
  {
   "cell_type": "code",
   "execution_count": 13,
   "metadata": {},
   "outputs": [],
   "source": []
  },
  {
   "cell_type": "code",
   "execution_count": null,
   "metadata": {},
   "outputs": [],
   "source": [
    "df.groupby(['DOD']).agg({'Cage': 'nunique', 'Tag': ['nunique','unique'], 'Lineage':'unique'})"
   ]
  },
  {
   "cell_type": "code",
   "execution_count": null,
   "metadata": {},
   "outputs": [],
   "source": [
    "mask = ~df.TagClean.isin(tier1) \n",
    "experimental = df.Lineage.str.contains(\"Cas9 x\")\n",
    "PB = df.Lineage.str.contains(\"PB#\")\n",
    "tier1 = df.DOD.str.contains(\"tier1_confirmed|breed\")\n",
    "femalesM = (df.Sex.str.lower() == \"f\")\n",
    "malesM = (df.Sex.str.lower() == \"m\")\n",
    "not_ancient = df.DOB > '2020-04-01'\n"
   ]
  },
  {
   "cell_type": "code",
   "execution_count": null,
   "metadata": {},
   "outputs": [],
   "source": [
    "\n",
    "df['mutationScore'] = df['Genotype'].str.split(\":\", expand = True)[1].astype(float)\n",
    "df['early_and_mid_ct'] = df['E_num'] + df ['I_num']"
   ]
  },
  {
   "cell_type": "code",
   "execution_count": null,
   "metadata": {},
   "outputs": [],
   "source": [
    "df[mask & PB & not_ancient & ~tier1 & malesM][['Tag', 'Cage', 'Ear', 'Sex', 'Color', 'DOB', 'DOD', 'Lineage', 'early_and_mid_ct','summedhgRNAs_active']].sort_values('early_and_mid_ct', ascending = False).to_clipboard(index = False)"
   ]
  },
  {
   "cell_type": "code",
   "execution_count": null,
   "metadata": {},
   "outputs": [],
   "source": [
    "df[mask & experimental & not_ancient & ~tier1][['Tag', 'Cage', 'Ear', 'Sex', 'Color', 'Name', 'Genotype', 'DOB', 'DOD', 'Lineage', 'E_num', 'I_num', 'S_num',\n",
    "       'ina_num', 'summedhgRNAs', 'summedhgRNAs_active']].sort_values([['E_num', 'I_num'])]\n",
    "# .to_clipboard(index = False)"
   ]
  },
  {
   "cell_type": "code",
   "execution_count": null,
   "metadata": {},
   "outputs": [],
   "source": [
    "df[mask & experimental & not_ancient & ~tier1][['Tag', 'Cage', 'Ear', 'Sex', 'Color', 'Name', 'Genotype', 'DOB', 'DOD', 'mutationScore']].sort_values('mutationScore', ascending = False).to_clipboard(index = False)"
   ]
  },
  {
   "cell_type": "code",
   "execution_count": null,
   "metadata": {},
   "outputs": [],
   "source": [
    "df.query(\"Lineage.str.contains('PB')\").groupby([\"Lineage\", 'DOD']).agg({'Tag':'nunique'})"
   ]
  },
  {
   "cell_type": "code",
   "execution_count": null,
   "metadata": {},
   "outputs": [],
   "source": [
    "breedersM = df['Tag'].isin(set(breeders['Tag']))\n",
    "\n",
    "euthReqM = (df['DOD'] == 'requested euthanasia')\n",
    "fdM = df.DOD.str.contains(\"fd\")\n",
    "experimentalM = df.DOD.str.contains(\"experimental|~breeder\") | df.Lineage.str.contains(\"Exp\")\n",
    "pbM = df.Lineage.str.contains(\"PB#\")\n",
    "insM = df.Lineage.str.contains(\"ins\")\n",
    "\n",
    "\n",
    "\n"
   ]
  },
  {
   "cell_type": "code",
   "execution_count": null,
   "metadata": {},
   "outputs": [],
   "source": [
    "working = df[ ~euthReqM & ~fdM].copy().reset_index()"
   ]
  },
  {
   "cell_type": "code",
   "execution_count": null,
   "metadata": {},
   "outputs": [],
   "source": [
    "working['mutationScore'] = working['Genotype'].str.split(\":\", expand = True)[1].astype(float)"
   ]
  },
  {
   "cell_type": "code",
   "execution_count": null,
   "metadata": {},
   "outputs": [],
   "source": [
    "working[easyCats + ['DOD','Genotype', 'mutationScore', 'Father', 'Mother']].sort_values(['Sex', 'mutationScore'], ascending = False)\n",
    "# .to_clipboard(index = False)"
   ]
  },
  {
   "cell_type": "code",
   "execution_count": null,
   "metadata": {},
   "outputs": [],
   "source": [
    "working.query(\"DOD.str.contains('putative')\")[easyCats +['DOD']]"
   ]
  },
  {
   "cell_type": "code",
   "execution_count": null,
   "metadata": {},
   "outputs": [],
   "source": [
    "working"
   ]
  },
  {
   "cell_type": "code",
   "execution_count": null,
   "metadata": {},
   "outputs": [],
   "source": [
    "df[malesM & pbM & ~euthReqM][easyCats + ['DOD', 'E_num', 'I_num', 'S_num', 'summedhgRNAs', 'summedhgRNAs_active']].sort_values('summedhgRNAs_active', ascending = False).query('~DOD.str.contains(\"confirmed|xcas9|transferred|tier1|breeder-may20\")')"
   ]
  },
  {
   "cell_type": "code",
   "execution_count": null,
   "metadata": {},
   "outputs": [],
   "source": [
    "meese = df.query(\n",
    "    'DOD.str.contains(\"pbf|pb3\") & DOD.str.contains(\"tier1\")').sort_values(\n",
    "        ['Sex', 'Lineage'], ascending=False)\n",
    "meese.groupby(\"Cage\", sort = False).agg({\n",
    "    'Tag': 'unique', 'CageSize':'mean',\n",
    "    'Ear': 'unique',\n",
    "    'Color': 'unique',\n",
    "    'Lineage':'unique', 'Sex': 'unique'\n",
    "})"
   ]
  },
  {
   "cell_type": "code",
   "execution_count": null,
   "metadata": {},
   "outputs": [],
   "source": [
    "meese[easyCats].to_clipboard(index = False)"
   ]
  },
  {
   "cell_type": "code",
   "execution_count": null,
   "metadata": {},
   "outputs": [],
   "source": [
    "# cages_find.head()"
   ]
  },
  {
   "cell_type": "code",
   "execution_count": null,
   "metadata": {},
   "outputs": [],
   "source": [
    "# cages_find.groupby(\"Cage\").agg({'Tag': ['count', 'unique'], 'Ear': 'unique', 'Color': 'unique'}).to_clipboard(sep = \"\\t\")"
   ]
  },
  {
   "cell_type": "code",
   "execution_count": null,
   "metadata": {},
   "outputs": [],
   "source": [
    "# df.query('DOD == \"breeding-putative-201015\"')[easyCats].sort_values('DOB').to_csv(makefn('PB7_breeders'), sep = \"\\t\")\n",
    "\n"
   ]
  },
  {
   "cell_type": "code",
   "execution_count": null,
   "metadata": {},
   "outputs": [],
   "source": [
    "# ## vickie cages\n",
    "# # mutant:\n",
    "# AA0105 AA0105\n",
    "# AA0056 5171-5174 (WT / syn cre relevant)"
   ]
  },
  {
   "cell_type": "code",
   "execution_count": null,
   "metadata": {},
   "outputs": [],
   "source": []
  },
  {
   "cell_type": "code",
   "execution_count": null,
   "metadata": {},
   "outputs": [],
   "source": [
    "# df.query('Cage.str.contains(\"AA0105|AA0056\")')[easyCats].to_clipboard(index = False, sep = \"\\t\")"
   ]
  },
  {
   "cell_type": "code",
   "execution_count": null,
   "metadata": {},
   "outputs": [],
   "source": [
    "# df.query('Cage.str.contains(\"AA0105|AA0056\")')[['Tag', 'Cage', 'Ear', 'Sex', 'Color', 'DOB', 'Lineage']].to_clipboard(index = False, sep = \"\\t\")"
   ]
  },
  {
   "cell_type": "code",
   "execution_count": null,
   "metadata": {},
   "outputs": [],
   "source": [
    "# mice = df.fillna(\"-\").query('Tag.str.contains(\"5049|5253|5254|5242\")')\n",
    "# cages = mice.Cage.unique()"
   ]
  },
  {
   "cell_type": "code",
   "execution_count": null,
   "metadata": {},
   "outputs": [],
   "source": []
  },
  {
   "cell_type": "code",
   "execution_count": null,
   "metadata": {},
   "outputs": [],
   "source": [
    "# # cages = mice.Cage.unique()\n",
    "# df[df.Cage.isin(cages)][easyCats].to_clipboard(index = False, sep = \"\\t\")"
   ]
  },
  {
   "cell_type": "code",
   "execution_count": null,
   "metadata": {},
   "outputs": [],
   "source": []
  },
  {
   "cell_type": "code",
   "execution_count": null,
   "metadata": {},
   "outputs": [],
   "source": [
    "# df[df.Cage.isin(cages)][['Tag', 'Cage', 'Ear', 'Sex', 'Color', 'DOB', 'Lineage']]"
   ]
  },
  {
   "cell_type": "markdown",
   "metadata": {},
   "source": [
    "# code from summing total hgRNA counts for collecting animal samples"
   ]
  },
  {
   "cell_type": "markdown",
   "metadata": {},
   "source": [
    "## splitting hgRNA genotypes into columns"
   ]
  },
  {
   "cell_type": "code",
   "execution_count": null,
   "metadata": {},
   "outputs": [],
   "source": [
    "## speciality speed code for re-splitting genotypes by hgRNA tyep\n",
    "def splitGenotypes(df):\n",
    "    '''for splitting genotypes into hgRNA categories and summing to pick breeders when Reza hasn't, or for distribution, or whatever'''\n",
    "    split = df['Genotype'].str.split(r'(\\w,)', expand=True)\n",
    "    split[6] = split[6].str.extract('(\\d+)')\n",
    "    split = split.rename({\n",
    "        0: \"E\",\n",
    "        2: 'I',\n",
    "        4: \"S\",\n",
    "        6: 'ina'\n",
    "    }, axis=1).drop(columns=[1, 3, 5])\n",
    "\n",
    "    newcols = []\n",
    "    oldcols = []\n",
    "    for col in split:\n",
    "        colN = str(col) + \"_num\"\n",
    "        split[colN] = pd.to_numeric(split[col], errors='coerce')\n",
    "        oldcols.append(col)\n",
    "        newcols.append(colN)\n",
    "\n",
    "    split['summedhgRNAs'] = split[newcols].sum(axis=1)\n",
    "    split['summedhgRNAs_active'] = split[newcols[0:3]].sum(axis=1)\n",
    "    split = split.drop(oldcols[0:4], axis=1)\n",
    "    df = df.merge(split, left_index=True, right_index=True)\n",
    "    return df"
   ]
  },
  {
   "cell_type": "code",
   "execution_count": null,
   "metadata": {},
   "outputs": [],
   "source": [
    "df = splitGenotypes(df)"
   ]
  },
  {
   "cell_type": "code",
   "execution_count": null,
   "metadata": {},
   "outputs": [],
   "source": [
    "breedersMask = df['Tag'].isin(set(breeders['Tag']))\n",
    "euthanasiaMask = (df['DOD'] == 'requested euthanasia')\n",
    "fdMask = df.DOD.str.contains(\"fd|breeder-may|experimental\")\n",
    "pbMask = df.Lineage.str.contains(\"PB#\")\n",
    "fMask = (df.Sex.str.lower() == \"f\")"
   ]
  },
  {
   "cell_type": "code",
   "execution_count": null,
   "metadata": {},
   "outputs": [],
   "source": [
    "df[~breedersMask & ~euthanasiaMask & ~fdMask & pbMask & ~fMask].sort_values(['E_num', 'I_num', 'S_num'])[easyCats]"
   ]
  },
  {
   "cell_type": "code",
   "execution_count": null,
   "metadata": {},
   "outputs": [],
   "source": [
    "# .to_clipboard(index=False, sep = \"\\t\")\n",
    "df.query('DOD.str.contains(\"zack\")')[['Tag','Genotype', 'summedhgRNAs', 'summedhgRNAs_active']].to_csv('ZackTransferGenotypes.tsv', sep = '\\t', index=False) "
   ]
  },
  {
   "cell_type": "markdown",
   "metadata": {
    "heading_collapsed": true
   },
   "source": [
    "## query each lineage + create CSV from it"
   ]
  },
  {
   "cell_type": "markdown",
   "metadata": {},
   "source": [
    "# checking breedings against spreadsheet"
   ]
  },
  {
   "cell_type": "code",
   "execution_count": null,
   "metadata": {
    "code_folding": []
   },
   "outputs": [],
   "source": [
    "source_dir = \"Breedings\"\n",
    "date = \"2020-10-09\"\n",
    "fns = glob.glob(f\"{source_dir}/*{date}_cage*\")\n",
    "data = []\n",
    "\n",
    "for fn in fns:\n",
    "    frame = pd.read_csv(fn, sep=\"\\t\")\n",
    "    frame['Lineage'], frame['Date'] = fn[10:24].split(\"-\", 1)\n",
    "    data.append(frame)\n",
    "\n",
    "animals = pd.concat(\n",
    "    data, ignore_index=True)  #dont want pandas to try an align row indexes\n",
    "\n",
    "animals = animals.applymap(lambda x: x.strip(\"t\") if isinstance(\n",
    "    x, str) else x)  #remove t for easier comparison to big frame applys\n",
    "\n",
    "tagCols = ['Male', 'Female1',\n",
    "           'Female2']  #grab columns with animals for flattening\n",
    "\n",
    "data = []\n",
    "for col in tagCols:\n",
    "    frame = pd.concat((animals[i] for i in [col, 'Lineage', 'Date']),\n",
    "                      axis=1).rename({col: 'Tag'}, axis=1)\n",
    "    data.append(frame)\n",
    "\n",
    "#            #, animals['Lineage'], animals['Date']]\n",
    "# #     data.append(frame)\n",
    "breeders = pd.concat(\n",
    "    data, ignore_index=True)  #dont want pandas to try an align row indexes;"
   ]
  },
  {
   "cell_type": "markdown",
   "metadata": {
    "code_folding": []
   },
   "source": [
    "## check that all animals are correctly marked in the spreadsheet"
   ]
  },
  {
   "cell_type": "code",
   "execution_count": null,
   "metadata": {
    "code_folding": []
   },
   "outputs": [],
   "source": [
    "## #### parsing breedings etc - check that all breeders are marked as such on the sheet\n",
    "breedrs = pd.merge(df, breeders, left_on ='TagClean', right_on = 'Tag', how = 'right')\n",
    "if len(breedrs.DOD.unique()) > 1:\n",
    "    print(\"Not all breeders marked\")\n",
    "else:\n",
    "    print(\"Only one DOD found, {}\".format(breedrs.DOD.unique()[0]))\n",
    "    \n",
    "list(set(breeders['Tag'])-set(breedrs['TagClean']))"
   ]
  },
  {
   "cell_type": "code",
   "execution_count": null,
   "metadata": {},
   "outputs": [],
   "source": [
    "breedrs.query('DOD.str.contains(\"pbfbreeder_tier1\", na = False)').groupby(\"Cage\").agg({'Cage': 'nunique', 'TagClean': ['nunique','unique'], 'Lineage_x':'unique'})"
   ]
  },
  {
   "cell_type": "markdown",
   "metadata": {},
   "source": [
    "# something eles happens here? something about querying for samples of a specific type"
   ]
  },
  {
   "cell_type": "code",
   "execution_count": null,
   "metadata": {},
   "outputs": [],
   "source": [
    "# def query(df, lineage, disp=1):\n",
    "#     result = df.query(\n",
    "#         'Lineage.str.contains(\"{}\")'.format(lineage))\n",
    "#     if disp:\n",
    "#         result = result.query('DispPercent >= {}'.format(disp))\n",
    "#     result = result.sort_values(\"summedhgRNAs_active\", ascending=False)\n",
    "#     return result\n",
    "\n",
    "# frames = {}\n",
    "# lineages = ['#3', '#7', 'ins21', '-Cas9', 'PBF']\n",
    "\n",
    "# for line in lineages:\n",
    "#     frame = query(df, line).head(5)\n",
    "#     frames.update({line: frame})\n",
    "# for frame in frames:\n",
    "#     fn = makefn(frame)\n",
    "#     frames[frame].to_csv(fn, sep=\"\\t\")\n",
    "#     df[['fCas', 'transgene']] = df['Genotype'].str.split(\",\", 1, expand = True)\n",
    "# frame = query(df, 'fCas9').query('transgene.str.contains(\"-\")')\n",
    "# frame = frame.sort_values(['fCas', 'transgene'], ascending = [True, True]).head(10)\n",
    "# fn = makefn('creFlipped-negative_ampliconSamples')\n",
    "# frame.to_csv(fn, sep ='\\t')\n"
   ]
  },
  {
   "cell_type": "code",
   "execution_count": null,
   "metadata": {},
   "outputs": [],
   "source": []
  },
  {
   "cell_type": "code",
   "execution_count": null,
   "metadata": {},
   "outputs": [],
   "source": [
    "##############################################"
   ]
  },
  {
   "cell_type": "markdown",
   "metadata": {},
   "source": [
    "# assessing parental genotypes to consider offspring (for fCas9 maintenance/breeding)"
   ]
  },
  {
   "cell_type": "code",
   "execution_count": null,
   "metadata": {},
   "outputs": [],
   "source": [
    "df.Lineage = df.Lineage.fillna(\"--\")\n",
    "fathers = df[df.Lineage.str.contains('fCas9')].Father.unique().flatten()\n",
    "mothers = df[df.Lineage.str.contains('fCas9')].Mother.unique().flatten()\n",
    "rents = np.append(fathers, mothers)\n",
    "parentList = []\n",
    "for i in rents:\n",
    "    parentList.extend(i.split(\"/\")) \n",
    "parents = df.loc[df['Tag'].isin(parentList)]"
   ]
  },
  {
   "cell_type": "code",
   "execution_count": null,
   "metadata": {},
   "outputs": [],
   "source": [
    "## easy categories\n",
    "plateCats =  ['Genotype','PlateID', 'Row', 'Column',\n",
    "       'Position']\n",
    "cats = easyCats + plateCats"
   ]
  },
  {
   "cell_type": "code",
   "execution_count": null,
   "metadata": {},
   "outputs": [],
   "source": [
    "df[['fCas', 'transgene']] = df['Genotype'].str.split(\",\", 1, expand = True)"
   ]
  },
  {
   "cell_type": "code",
   "execution_count": null,
   "metadata": {},
   "outputs": [],
   "source": [
    "df.Lineage = df.Lineage.fillna(\"--\")\n",
    "linMask = df.Lineage.str.contains('fCas9')\n",
    "genoMask = df.Genotype.isnull()\n",
    "fCas9 = df[linMask].fillna(\"-\")\n",
    "H_linMask = fCas9.Lineage.str.contains('hCD2')\n",
    "S_linMask = fCas9.Lineage.str.lower().str.contains('syn')"
   ]
  },
  {
   "cell_type": "code",
   "execution_count": null,
   "metadata": {},
   "outputs": [],
   "source": [
    "df.query(\"Tag == '5326'\")"
   ]
  },
  {
   "cell_type": "code",
   "execution_count": null,
   "metadata": {
    "code_folding": [
     0
    ]
   },
   "outputs": [],
   "source": [
    "fCas9.groupby(['Sex', 'DOD', 'fCas', 'transgene']).agg({'Genotype': 'count',\n",
    "                                                   'Tag':'unique', 'Cage':'unique', \n",
    "                                                  'DOB': ['min', 'max']})"
   ]
  },
  {
   "cell_type": "code",
   "execution_count": null,
   "metadata": {},
   "outputs": [],
   "source": [
    "cages = df.groupby([\"Cage\", \"Sex\"]).agg({'Color':'unique',\n",
    "                                         'DOD':'unique',\n",
    "                                         'Lineage':'unique'})   #yay!"
   ]
  },
  {
   "cell_type": "code",
   "execution_count": null,
   "metadata": {},
   "outputs": [],
   "source": []
  },
  {
   "cell_type": "code",
   "execution_count": null,
   "metadata": {},
   "outputs": [],
   "source": [
    "df.groupby('Cage').agg({\n",
    "    'dispensible': 'mean',\n",
    "    'Cage': 'size',\n",
    "    'Sex': 'unique',\n",
    "    'DOD': 'unique',\n",
    "    'Tag': 'unique',\n",
    "    'Color': 'unique',\n",
    "    'Ear': 'unique',\n",
    "    'Lineage': 'unique'\n",
    "}).sort_values('dispensible', ascending = False)"
   ]
  },
  {
   "cell_type": "code",
   "execution_count": null,
   "metadata": {},
   "outputs": [],
   "source": [
    "df[df.Sex == \"F\"].groupby(['Cage']).agg({'Cage': 'size',\n",
    "                                         'DOD': 'unique',\n",
    "                                         'Tag':'unique',\n",
    "                                        'Color' : 'unique',\n",
    "                                         'Ear' : 'unique',}).sort_values"
   ]
  },
  {
   "cell_type": "code",
   "execution_count": null,
   "metadata": {},
   "outputs": [],
   "source": [
    "df[df.Sex == \"F\"].groupby(['Cage']).agg({'Cage':'size',\n",
    "                                         'Color':'unique',\n",
    "                                         'DOD':'unique',\n",
    "                                         'Lineage':'unique'})   #yay!"
   ]
  },
  {
   "cell_type": "markdown",
   "metadata": {},
   "source": [
    "# retrieve animals with null genotypes in a certain lineage + get their well plates"
   ]
  },
  {
   "cell_type": "code",
   "execution_count": null,
   "metadata": {},
   "outputs": [],
   "source": [
    "insGeno = df[(df.Lineage.str.contains(\"ins21\")) & (df.Genotype.isnull())]"
   ]
  },
  {
   "cell_type": "code",
   "execution_count": null,
   "metadata": {},
   "outputs": [],
   "source": [
    "locs = pd.read_pickle('96-wellLocs.pkl').sort_values(\n",
    "        ['Column',\n",
    "         'Row']).reset_index(drop=True)  # impt standard plate indexing\n",
    "# locs.join(df, rsuffix = \"_init\")\n",
    "# insGeno.sort_values(join(locs, rsuffix = 'init')\n",
    "locs.join(insGeno, rsuffix='init')"
   ]
  },
  {
   "cell_type": "code",
   "execution_count": null,
   "metadata": {},
   "outputs": [],
   "source": [
    "insGeno.pivot(index='WellRow', columns='WellCol',\n",
    "                      values=['Tag', 'Plate'])"
   ]
  },
  {
   "cell_type": "markdown",
   "metadata": {},
   "source": [
    "# generate a general colony pivot table by lineage, sex, and DOB with total numbers"
   ]
  },
  {
   "cell_type": "code",
   "execution_count": null,
   "metadata": {},
   "outputs": [],
   "source": [
    "saveFn = makefn(file.replace(\" \", \"\")+'_summary')\n",
    "\n",
    "remapDict= {'ins': '1685ins21#2',\n",
    "            'pb3' : '1763PB#3',\n",
    "            'pb7' : '1763PB#7',\n",
    "            'pbf': '1853PBF#1'}\n",
    "for key, value in remapDict.items():\n",
    "    df.Lineage = df.Lineage.apply(lambda row: value if key in row.lower() else row)\n",
    "grouped = df.groupby(['Lineage',\n",
    "            'Sex',\n",
    "            pd.Grouper(key='DOB',freq='q')]).size().unstack('DOB').reset_index()\n",
    "grouped['Total'] = grouped.sum(axis=1)\n",
    "grouped.fillna(\"-\").to_csv(saveFn)"
   ]
  },
  {
   "cell_type": "code",
   "execution_count": null,
   "metadata": {},
   "outputs": [],
   "source": [
    "saveFn = makefn(file.replace(\" \", \"\")+'_femaleConsolidation')"
   ]
  },
  {
   "cell_type": "code",
   "execution_count": null,
   "metadata": {},
   "outputs": [],
   "source": [
    "df.groupby([\"Cage\"]).agg({'Cage': 'count',  'Sex': 'unique',\n",
    "                                 'Color':'unique',\n",
    "                                'DOD': 'unique'})"
   ]
  },
  {
   "cell_type": "code",
   "execution_count": null,
   "metadata": {},
   "outputs": [],
   "source": [
    "mating = tagSearch(ins + PB3 + PB7 + PBF + cre)\n",
    "df[mating].sort_values('Lineage').to_csv('file.csv')"
   ]
  },
  {
   "cell_type": "markdown",
   "metadata": {},
   "source": [
    "# break - 2019 and previous code snippets"
   ]
  },
  {
   "cell_type": "code",
   "execution_count": null,
   "metadata": {},
   "outputs": [],
   "source": [
    "CreMask = (df.Lineage.str.contains(\"fCas\", na=False))\n",
    "PBFMask = (df.Lineage.str.contains(\"PBF\", na=False))\n",
    "insMask = tagSearch(\"t2620 t2632 t2623 t2463 t2625 t2622 t2616 t2626 t2633 t2720 t2721 t2722 t2755 t2750 t2751 t2415 t2445\")\n",
    "alreadyShipped = (df.Cage.str.contains(\"HOP\", na= True))\n",
    "traveling = (df.DOD.str.endswith(\"hopkins| \", na = False))"
   ]
  },
  {
   "cell_type": "code",
   "execution_count": null,
   "metadata": {},
   "outputs": [],
   "source": [
    "shipped_2 = df[(df.DOD.str.endswith(\"hopkins\", na = False))]"
   ]
  },
  {
   "cell_type": "code",
   "execution_count": null,
   "metadata": {},
   "outputs": [],
   "source": [
    "shipped_2.sort_values([\"Cage\", \"Tag\"])[['Cage', 'Sex', 'Tag', 'Ear', 'Color', 'DOB']].to_clipboard(excel=True, index=False)"
   ]
  },
  {
   "cell_type": "code",
   "execution_count": null,
   "metadata": {
    "scrolled": true
   },
   "outputs": [],
   "source": [
    "shipped_2.groupby([\"Cage\"]).agg({'Cage': 'count', 'Sex':'unique'}).to_clipboard(excel=True)"
   ]
  },
  {
   "cell_type": "code",
   "execution_count": null,
   "metadata": {},
   "outputs": [],
   "source": [
    "hop = df[((traveling & (CreMask | PBFMask)) | insMask ) & ~alreadyShipped]"
   ]
  },
  {
   "cell_type": "code",
   "execution_count": null,
   "metadata": {},
   "outputs": [],
   "source": [
    "hop.groupby([\"Cage\", \"Sex\"]).agg({'Cage': 'count'})"
   ]
  },
  {
   "cell_type": "code",
   "execution_count": null,
   "metadata": {},
   "outputs": [],
   "source": [
    "hop.groupby([\"Sex\", \"Cage\", \"Tag\"]).agg({'Lineage': 'unique',\n",
    "                                         'Color': 'unique',\n",
    "                                        'Ear': 'unique'})"
   ]
  },
  {
   "cell_type": "code",
   "execution_count": null,
   "metadata": {
    "scrolled": false
   },
   "outputs": [],
   "source": [
    "hop.groupby(['Sex','Cage']).agg({'Cage':'count'})"
   ]
  },
  {
   "cell_type": "code",
   "execution_count": null,
   "metadata": {},
   "outputs": [],
   "source": [
    "hop.sort_values(['Sex', \"Lineage\", 'Tag'])"
   ]
  },
  {
   "cell_type": "code",
   "execution_count": null,
   "metadata": {},
   "outputs": [],
   "source": []
  },
  {
   "cell_type": "code",
   "execution_count": null,
   "metadata": {},
   "outputs": [],
   "source": [
    "df[(df.Genotype.isnull()) \\\n",
    "   & (df['DOD'] != \"Dispensible\")].fillna(\"x\").groupby([\"Lineage\", 'Cage']).agg({'Sex': 'count',\n",
    "                                                                                   'Tag':'unique',\n",
    "                                                                                   'Name': 'unique' })"
   ]
  },
  {
   "cell_type": "code",
   "execution_count": null,
   "metadata": {},
   "outputs": [],
   "source": [
    "#mask for sorting centrifuge tube samples\n",
    "freezerMask = (df.Tag.notnull()) & \\\n",
    "    (~df['Notebook info'].str.startswith(\"T|Plate\", na=False))&\\\n",
    "     (df.Lineage != 'J024858-Cas9')\n",
    "\n",
    "#and the results\n",
    "df[freezerMask].sort_values(\"Tag\")"
   ]
  },
  {
   "cell_type": "code",
   "execution_count": null,
   "metadata": {},
   "outputs": [],
   "source": [
    "earlyMask, lateMask, fMask = collectAgeRange(df, '2019-12-01',\n",
    "                                             28, 0 , \"\", \"F\")\n",
    "earlyMask, lateMask, mMask = collectAgeRange(df, '2019-12-01',\n",
    "                                             40, 0 , \"\", \"M\")\n",
    "\n",
    "inc = df[mMask].append(df[fMask]) #combine\n",
    "\n",
    "inc['DOD'], inc['parsedDOD'] =  zip(*inc.DOD.apply(lambda row: cleanDOD(row))) #parse DOD\n",
    "inc = inc[(~inc.parsedDOD.notnull()) \\\n",
    "          & (~inc.DOD.str.contains('sperm|Diss|f.d.',\n",
    "                                   na = False))] #drop assorted dead mice"
   ]
  },
  {
   "cell_type": "code",
   "execution_count": null,
   "metadata": {},
   "outputs": [],
   "source": [
    "inc.fillna('n/a').groupby(['Lineage',\n",
    "                           'DOD',\n",
    "                           'Sex']).agg({'DOB': ['count',\n",
    "                                                'min',\n",
    "                                                'max']})"
   ]
  },
  {
   "cell_type": "code",
   "execution_count": null,
   "metadata": {},
   "outputs": [],
   "source": [
    "inc[inc.DOD.str.contains('Hopkins', na= False)].groupby(\"Sex\").agg({'Sex': 'count',\n",
    "                                                    'Cage': 'nunique'})\n"
   ]
  },
  {
   "cell_type": "code",
   "execution_count": null,
   "metadata": {},
   "outputs": [],
   "source": [
    "noMice, noCages"
   ]
  },
  {
   "cell_type": "code",
   "execution_count": null,
   "metadata": {},
   "outputs": [],
   "source": [
    "df[df.Plate == \"T885765\"].sort_values(['WellRow',\n",
    "                                       'WellCol'])[['Position',\n",
    "                                                    'Tag',\n",
    "                                                    'Lineage']].to_clipboard(excel=True, header = False, index = False)"
   ]
  },
  {
   "cell_type": "code",
   "execution_count": null,
   "metadata": {},
   "outputs": [],
   "source": [
    "def is_coherent(seq):\n",
    "    return seq == range(seq[0], seq[-1]+1)"
   ]
  },
  {
   "cell_type": "code",
   "execution_count": null,
   "metadata": {},
   "outputs": [],
   "source": [
    "MMRRC_cats = ['Tag',\n",
    "           'Cage',\n",
    "           'Ear',\n",
    "           'Sex',\n",
    "           'Color',\n",
    "           'Genotype',\n",
    "           'DOB',\n",
    "           'Lineage']"
   ]
  },
  {
   "cell_type": "code",
   "execution_count": null,
   "metadata": {
    "scrolled": true
   },
   "outputs": [],
   "source": [
    "# earlyMask, lateMask, mMask = collectAgeRange(df,\n",
    "#                                              '2019-09-16',\n",
    "#                                              13, 8,\n",
    "#                                              \"PB#\", \"M\")\n",
    "# earlyMask, lateMask, fMask = collectAgeRange(df, \n",
    "#                                              '2019-09-16',\n",
    "#                                              4, 1,\n",
    "#                                              \"PB#\", \"F\")\n",
    "# shippedMask = (df.DOD.str.contains(\"mrrc|opkins\",\n",
    "#                                    na=False)) & (df.Lineage.str.contains(\"PB#\")) #PBs marked for any maintenance movement\n",
    "\n",
    "# df[mMask|fMask|shippedMask].groupby([\"Lineage\",\n",
    "#                                      \"Sex\",\n",
    "#                                      \"DOD\"]).agg({'Tag':'count',\n",
    "#                                                    'DOB': ['first', 'last']}) #"
   ]
  },
  {
   "cell_type": "markdown",
   "metadata": {},
   "source": [
    "dispense, cSorted = makeOutputs(df)\n",
    "cSorted.to_clipboard(excel=True, index = True)"
   ]
  },
  {
   "cell_type": "code",
   "execution_count": null,
   "metadata": {},
   "outputs": [],
   "source": [
    "earlyMask, lateMask, incMask = collectAgeRange(df, '2019-09-16', 4, 1, \"\", \"F\")\n",
    "df[incMask][['Tag',\n",
    "             'Cage',\n",
    "             'Ear',\n",
    "             'Sex',\n",
    "             'Color',\n",
    "             'DOB',\n",
    "             'Genotype',\n",
    "             'Lineage']].groupby(\"Lineage\").count()"
   ]
  },
  {
   "cell_type": "code",
   "execution_count": null,
   "metadata": {
    "scrolled": true
   },
   "outputs": [],
   "source": [
    "earlyMask, lateMask, incMask = collectAgeRange(df, '2019-10-04', 10, 0 , \"\", \"\")\n",
    "#inc = df[incMask]\n",
    "#inc = inc.fillna(\"BLANK\")\n",
    "\n",
    "# [['Tag',\n",
    "#              'Cage',\n",
    "#              'Ear',\n",
    "#              'Sex',\n",
    "#              'Color',\n",
    "#              'DOB',\n",
    "#              'Genotype',\n",
    "#              'Lineage']]"
   ]
  },
  {
   "cell_type": "code",
   "execution_count": null,
   "metadata": {},
   "outputs": [],
   "source": [
    "# df[df.DOD == 'Shipped to mmrrc on 9/10'][['Tag',\n",
    "#              'Color',\n",
    "#              'Ear',\n",
    "#              'Cage', \n",
    "#              'Sex',\n",
    "#              'Genotype',\n",
    "#              'DOB',\n",
    "#              'Lineage']].sort_values(by = ['Cage',\n",
    "#                                            'Tag'])\\\n",
    "#                 .fillna(\"missing\").to_clipboard(index = False,\n",
    "#                                                excel = True)"
   ]
  },
  {
   "cell_type": "code",
   "execution_count": null,
   "metadata": {},
   "outputs": [],
   "source": [
    "# ## MICE WITH UNKNOWN FATE\n",
    "# df[(df.DOD.isnull())].groupby([\"Lineage\", \"Cage\"]).agg({'DOB': ['max', \n",
    "#                                                              'min', \n",
    "#                                                              'count'],\n",
    "#                                                         'Sex': 'max',\n",
    "#                                                         'Name': 'unique'}).fillna(\"\")"
   ]
  },
  {
   "cell_type": "code",
   "execution_count": null,
   "metadata": {},
   "outputs": [],
   "source": [
    "########## selecting mice by age#########\n",
    "shipDate = '2019-09-16'\n",
    "early1, late1, mask1 = collectAgeRange(df, shipDate, 13, 8, \"PB#\", \"M\")\n",
    "early2, late2, mask2 = collectAgeRange(df, shipDate, 9, 6.5, \"PB#\", \"F\")\n",
    "\n",
    "males_20190916  = df[mask1].sort_values([\"Lineage\", \"Genotype\"])\n",
    "females_20190916 = df[mask2].sort_values([\"Lineage\", \"Genotype\"])\n",
    "\n",
    "shipment_20190916 = males_20190916.append(females_20190916)\n",
    "\n",
    "# Sep09_shipment.sort_values([\"Lineage\",\n",
    "#                             \"Sex\",\n",
    "#                             \"Cage\"]).to_clipboard(excel=True,\n",
    "#                                                   index = False)\n",
    "\n",
    "# Sep09_shipment.groupby([\"Lineage\",\n",
    "#                         \"Sex\",\n",
    "#                         \"Cage\"])['Tag',\n",
    "#                                  'Genotype'].count().to_clipboard()"
   ]
  },
  {
   "cell_type": "code",
   "execution_count": null,
   "metadata": {},
   "outputs": [],
   "source": [
    "plate_reseq.sort_values([\"Tag\"])[['Tag',\n",
    "                                  'Lineage',\n",
    "                                  'Plate',\n",
    "                                  'WellRow',\n",
    "                                  'WellCol']].to_clipboard(excel = True, index= False)"
   ]
  },
  {
   "cell_type": "code",
   "execution_count": null,
   "metadata": {},
   "outputs": [],
   "source": [
    "df['Tag'] = 't' + df['Tag'].astype(str)"
   ]
  },
  {
   "cell_type": "code",
   "execution_count": null,
   "metadata": {},
   "outputs": [],
   "source": [
    "KL14_plateB = df[df['Plate'].str\\\n",
    "   .contains(\"T885773|T885761\", na= False)]\\\n",
    "    .sort_values(by=['Plate', 'WellRow', 'WellCol']).reset_index(drop = True)"
   ]
  },
  {
   "cell_type": "code",
   "execution_count": null,
   "metadata": {},
   "outputs": [],
   "source": [
    "KL14_plateB[['Tag','Lineage','Plate', 'WellRow', 'WellCol']]\\\n",
    "    .to_clipboard(excel=True, index=False)"
   ]
  },
  {
   "cell_type": "code",
   "execution_count": null,
   "metadata": {},
   "outputs": [],
   "source": [
    "KL14_plateA = df[df['Plate'].str\\\n",
    "   .contains(\"T885772\", na= False)]\\\n",
    "    .sort_values(by=['Plate', 'WellRow', 'WellCol']).reset_index(drop = True)"
   ]
  },
  {
   "cell_type": "code",
   "execution_count": null,
   "metadata": {},
   "outputs": [],
   "source": [
    "df[df['Plate'].str\\\n",
    "   .contains(\"T88572|T885761|T885772|T885773\",\n",
    "             na = False)][['Tag', 'Plate', 'Well']]\\\n",
    "    .sort_values(by=['Plate', 'Well'])\\\n",
    "    .to_clipboard(excel=True, index= False)"
   ]
  },
  {
   "cell_type": "code",
   "execution_count": null,
   "metadata": {},
   "outputs": [],
   "source": [
    "KL14_plateA[['Tag','Lineage','Plate', 'WellRow', 'WellCol']]\\\n",
    "    .to_clipboard(excel=True, index=False)"
   ]
  },
  {
   "cell_type": "code",
   "execution_count": null,
   "metadata": {},
   "outputs": [],
   "source": [
    "#KL14_plateA.reindex('WellCol', method='ffill')"
   ]
  },
  {
   "cell_type": "code",
   "execution_count": null,
   "metadata": {
    "scrolled": true
   },
   "outputs": [],
   "source": [
    "KL14_plateA.groupby('WellRow').Lineage.count()"
   ]
  },
  {
   "cell_type": "code",
   "execution_count": null,
   "metadata": {},
   "outputs": [],
   "source": [
    "KL14_plateA"
   ]
  },
  {
   "cell_type": "code",
   "execution_count": null,
   "metadata": {},
   "outputs": [],
   "source": [
    "KL14_plateA[['Tag', 'Plate', 'WellRow', 'WellCol']]\\\n",
    "    .sort_values(by=['Plate', 'WellRow', 'WellCol'])\\\n",
    "    .to_clipboard(excel=True, index= False)"
   ]
  },
  {
   "cell_type": "code",
   "execution_count": null,
   "metadata": {},
   "outputs": [],
   "source": []
  },
  {
   "cell_type": "code",
   "execution_count": null,
   "metadata": {},
   "outputs": [],
   "source": []
  },
  {
   "cell_type": "code",
   "execution_count": null,
   "metadata": {
    "scrolled": true
   },
   "outputs": [],
   "source": [
    "## lineage stats over time\n",
    "df.groupby([pd.Grouper(key=\"DOB\", freq = \"M\"),\n",
    "            \"Lineage\"]).Cage.count().unstack('DOB')"
   ]
  },
  {
   "cell_type": "code",
   "execution_count": null,
   "metadata": {},
   "outputs": [],
   "source": [
    "def dfContains(string, column = \"Cage\", keep_empties = False, case = False, df = df):\n",
    "    '''given a cage number/s (formatted as \"nrbxxxx|nrbxxx\") etc, the indexes of entries where true'''\n",
    "    return df[column].str.contains(string, na = keep_empties, case = case)"
   ]
  },
  {
   "cell_type": "code",
   "execution_count": null,
   "metadata": {},
   "outputs": [],
   "source": [
    "df[df.DOD.str.contains(\"Sperm\", na = False)].groupby('Lineage').count()"
   ]
  },
  {
   "cell_type": "code",
   "execution_count": null,
   "metadata": {},
   "outputs": [],
   "source": [
    "df[(dfContains(\"1036|1037\"))\n",
    "   & (df.Sex == \"M\")][['Tag',\n",
    "                      'Cage',\n",
    "                       'Ear',\n",
    "                       'Sex',\n",
    "                       'DOB',\n",
    "                       'Notes']]"
   ]
  },
  {
   "cell_type": "code",
   "execution_count": null,
   "metadata": {},
   "outputs": [],
   "source": []
  },
  {
   "cell_type": "code",
   "execution_count": null,
   "metadata": {},
   "outputs": [],
   "source": [
    "PB = ['1763PB#7', '1763PB#3']\n",
    "counted = df.groupby(\"Cage\").size().reset_index(name = 'Total')\n",
    "df = df.merge(counted)\n",
    "PB_solo_males = df[(df.Lineage.isin(PB))&(df.Sex == \"M\")&(df.Total == 1)]"
   ]
  },
  {
   "cell_type": "code",
   "execution_count": null,
   "metadata": {},
   "outputs": [],
   "source": []
  }
 ],
 "metadata": {
  "kernelspec": {
   "display_name": "Python 3",
   "language": "python",
   "name": "python3"
  },
  "language_info": {
   "codemirror_mode": {
    "name": "ipython",
    "version": 3
   },
   "file_extension": ".py",
   "mimetype": "text/x-python",
   "name": "python",
   "nbconvert_exporter": "python",
   "pygments_lexer": "ipython3",
   "version": "3.8.5"
  }
 },
 "nbformat": 4,
 "nbformat_minor": 2
}
