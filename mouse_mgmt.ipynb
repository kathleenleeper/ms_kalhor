{
 "cells": [
  {
   "cell_type": "code",
   "execution_count": 2,
   "metadata": {
    "code_folding": []
   },
   "outputs": [],
   "source": [
    "from ColonyMgmt import * "
   ]
  },
  {
   "cell_type": "markdown",
   "metadata": {
    "code_folding": []
   },
   "source": [
    "# wish list\n",
    "\n",
    "* highlight file time if > 1 hr old\n",
    "* google scripts API to circumvent this issue entirely\n",
    "* clean up wrapping and helper functions"
   ]
  },
  {
   "cell_type": "markdown",
   "metadata": {},
   "source": [
    "## some useful helper functions to consider\n",
    "Convert a given string to {current-date}{string}.csv\n",
    "\n",
    "```\n",
    "makefn('string')\n",
    "```\n",
    "\n",
    "### helpful consolidators\n",
    "Creates two dataframes of all cages + dispensible % > .2, and either saves them independently or pops them back for  further manip.\n",
    "```\n",
    "makeConsolidations(df, save = True, popBack = False)\n",
    "```    \n",
    "                  \n",
    "\n",
    "### helpful for euthanizing many animals\n",
    "```\n",
    "df.fillna(\"-\").groupby(['Cage','DOD']).agg({'Tag':'unique', 'Lineage': 'unique'}).to_csv(fn)\n",
    "```"
   ]
  },
  {
   "cell_type": "code",
   "execution_count": 3,
   "metadata": {
    "code_folding": [
     0
    ]
   },
   "outputs": [],
   "source": [
    "## this is all the functions now contained in mouse_mgmt import\n",
    "# # def importCleanDF(fn, sep = \"\\t\",\n",
    "#                   skip = 0,\n",
    "#                   dropDeads = False,\n",
    "#                   dropTransfers = True,\n",
    "#                   dropHeaders = False,\n",
    "#                   convertDOB = True,\n",
    "#                   calcDispensables = True,\n",
    "#                   stats=True):\n",
    "#     '''skip rangi(0,9) for Harvard mastersheet\n",
    "#     dropHeaders = True for Harvard Mas\"'''\n",
    "    \n",
    "#     df = pd.read_csv(fn, sep = sep,\n",
    "#                      skiprows = skip,\n",
    "#                      parse_dates = True,\n",
    "#                     dtype=str).dropna(axis = 0, how = 'all')\n",
    "#     print(\"Read in CSV\",fn) #logging\n",
    "    \n",
    "#     df.Sex = df.Sex.fillna(\"temp\") \n",
    "#     print(\"Animals without gender given temp. gender\") #if animals are not gendered\n",
    "    \n",
    "#     df.Cage = df.Cage.fillna('not included yet') #if animals are missing a cage\n",
    "#     print(\"Animals without cage given temp. cage\") #if animals are not gendered\n",
    "\n",
    "#     df = parseDOD(df, drop = dropDeads)\n",
    "    \n",
    "#     if dropTransfers:\n",
    "#         df = dropTransferred(df)\n",
    "        \n",
    "#     if dropHeaders:\n",
    "#         df = df[df.Cage.str.contains(\"NRB|HAT|HOP\",\n",
    "#                                  case=False,\n",
    "#                                  na=False)].reset_index(drop=True) #drop the header rows & reset the index\n",
    "#         print(\"Retained rows with NRB, HAT, HOP, dropped otherwise drop headers\")\n",
    "        \n",
    "#     if convertDOB:\n",
    "#         df.DOB = cleanDOBs(df.DOB)\n",
    "#     if calcDispensables:\n",
    "#         df = calcDisp(df)\n",
    "#     if df.Ear.any():\n",
    "#         df.Ear =  df.Ear.apply(lambda row: \"\\'\" + row if type(row)== str else np.nan) #convert ear tags to excel-clean formats\n",
    "#         print(\"Parsed ear tags for Excel formatting\")  \n",
    "#     if stats:\n",
    "#         colonyStats(df)\n",
    "#     return df\n",
    "\n",
    "# # def cleanDOBs(s):\n",
    "# #     '''uses .map() to apply changes'''\n",
    "# #     dates = {date:pd.to_datetime(date, errors = 'coerce') for date in s.unique()}\n",
    "# #     return s.map(dates)\n",
    "# # def parseDOD(df, drop = True):\n",
    "# #     df['DOD'] =  df.DOD.apply(lambda row: row.strip().lower() if type(row)== str else np.nan) #convert ear tags to excel-clean formats\n",
    "# #     df['parsedDOD'] = pd.to_datetime(df.DOD, errors = 'coerce')\n",
    "# #     if drop:\n",
    "# #         init = colonyStats(df)\n",
    "# #         df = df[(~df.parsedDOD.notnull()) \\\n",
    "# #                 & (~df.DOD.str.contains('sperm|Diss|f.d.|mia.',\n",
    "# #                                    na = False))] #drop assorted dead mice\n",
    "# #         print(\"initial counts:\", init, \"\\nafter dropping dead\", colonyStats(df))\n",
    "# #     return df\n",
    "\n",
    "\n",
    "\n",
    "# #     return df      \n",
    "# # def dropTransferred(df):\n",
    "# #     init = colonyStats(df)\n",
    "# #     df = df[~df.DOD.str.contains('transfer', na = False)]\n",
    "# #     fin = colonyStats(df)\n",
    "# #     print('after removing transferred', fin)\n",
    "# #     return df\n",
    "# # def collectAgeRange(df,\n",
    "# #                     on_date,\n",
    "# #                     oldest_requested_age,\n",
    "# #                     youngest_requested_age,\n",
    "# #                     lineage,\n",
    "# #                     gender):\n",
    "# #     early = pd.to_datetime(on_date) - pd.Timedelta(weeks = oldest_requested_age)\n",
    "# #     late = pd.to_datetime(on_date) - pd.Timedelta(weeks = youngest_requested_age)\n",
    "# #     mask = (df['DOB'] >= early)\\\n",
    "# #             & (df['DOB'] <= late)\\\n",
    "# #             & (df['Lineage'].str.contains(lineage))\\\n",
    "# #             & (df['Sex'].str.contains(gender))\n",
    "# #     return early, late, mask\n",
    "# # def colonyStats(df):\n",
    "# #     '''helper function: returns number of mice, number of cages'''\n",
    "# #     num_cages = len(df.Cage.unique())\n",
    "# #     stats = {'numCages':len(df.Cage.unique()), 'numMice' : len(df)}\n",
    "# #     if num_cages >=200:\n",
    "# #         print(\"certainly cage reorg time\")\n",
    "# #     return stats\n",
    "# # def makefn(string):\n",
    "# #     '''returns string + formatted date to use as a file name'''\n",
    "# #     return string + str(dt.today().strftime(\"_%Y-%B-%d\")) + \".csv\"\n",
    "# # def tagSearch(string, df, column=\"Tag\"):\n",
    "# #     '''from a string, extracts all numbers and then searches for those numbers in a column'''\n",
    "# #     find_t = re.findall(r'\\d+', string)\n",
    "# #     #search for that list in the spreadsheet and return only those rows\n",
    "# #     return df[column].isin(find_t)\n",
    "# # def makeOutputs(df, upcase=True):\n",
    "# #     '''extremely specific to produce dispensible & sorted cage information'''\n",
    "# #     fineGrainedDispense = df.query(\"Dispensible >= 0.2\").sort_values([\"Dispensible\", \"Cage\"], ascending=False)\n",
    "# #     cages = df.groupby(\"Cage\").agg({'Dispensible':'first', #could be cleaner\n",
    "# #                                     'Cage':'size', #yay!\n",
    "# #                                     'Sex':'unique', #yay!\n",
    "# #                                     'Color':'unique',\n",
    "# #                                    'DOD':'unique'})   #yay!\n",
    "# #     return fineGrainedDispense, cages\n",
    "# # def calcTotals(df):\n",
    "# #     counted = df.groupby(\"Cage\").agg('size').reset_index(name='Total')\n",
    "# #     return df.merge(counted)\n",
    "# # def calcDisp(df):\n",
    "# #     disp = df.groupby(\"Cage\").DOD\\\n",
    "# #                 .value_counts(normalize=True,\n",
    "# #                               dropna = False).unstack()\n",
    "# #     if 'Dispensible' in disp:\n",
    "# #         disp = disp.Dispensible.reset_index()\n",
    "# #         print(\"Dispensible counts normalized + totals calculated\")\n",
    "# #         df = df.merge(disp)\n",
    "# #     else:\n",
    "# #         print(\"No dispensible mice, returning original DF with totals added\")\n",
    "# #     return calcTotals(df)"
   ]
  },
  {
   "cell_type": "code",
   "execution_count": 4,
   "metadata": {},
   "outputs": [],
   "source": [
    "file = '05227_mastersheet - HopkinsColony.tsv'"
   ]
  },
  {
   "cell_type": "code",
   "execution_count": 5,
   "metadata": {},
   "outputs": [],
   "source": [
    "# ts = os.path.getmtime(file)\n",
    "# print(\"mtime:\", dt.utcfromtimestamp(ts).strftime('%Y-%m-%d %H:%M:%S'))"
   ]
  },
  {
   "cell_type": "code",
   "execution_count": 6,
   "metadata": {
    "scrolled": true
   },
   "outputs": [
    {
     "name": "stdout",
     "output_type": "stream",
     "text": [
      "Read in CSV: 05227_mastersheet - HopkinsColony.tsv.\n",
      "File was last modified at: 2020-10-26 16:51:50\n",
      "\n",
      "Animals without gender given temp. gender\n",
      "Animals without cage given temp. cage\n",
      "Animals without specified lineage given NA\n",
      "certainly cage reorg time\n",
      "initial counts: {'numCages': 205, 'numMice': 554} \n",
      "after dropping dead {'numCages': 101, 'numMice': 287}\n",
      "calculted total dispensible counts\n",
      "calculated total cage sizes\n",
      "calculated % disp\n",
      "Parsed ear tags for Excel formatting\n"
     ]
    }
   ],
   "source": [
    "df = importCleanDF(file,\n",
    "                   dropDeads=True,\n",
    "                   dropTransfers=False)"
   ]
  },
  {
   "cell_type": "markdown",
   "metadata": {},
   "source": [
    "# speciality functions - check breedings, splitting genotypes"
   ]
  },
  {
   "cell_type": "code",
   "execution_count": 9,
   "metadata": {},
   "outputs": [
    {
     "data": {
      "text/html": [
       "<div>\n",
       "<style scoped>\n",
       "    .dataframe tbody tr th:only-of-type {\n",
       "        vertical-align: middle;\n",
       "    }\n",
       "\n",
       "    .dataframe tbody tr th {\n",
       "        vertical-align: top;\n",
       "    }\n",
       "\n",
       "    .dataframe thead th {\n",
       "        text-align: right;\n",
       "    }\n",
       "</style>\n",
       "<table border=\"1\" class=\"dataframe\">\n",
       "  <thead>\n",
       "    <tr style=\"text-align: right;\">\n",
       "      <th></th>\n",
       "      <th>Tag</th>\n",
       "      <th>Lineage</th>\n",
       "      <th>Date</th>\n",
       "      <th>SourceFn</th>\n",
       "    </tr>\n",
       "  </thead>\n",
       "  <tbody>\n",
       "    <tr>\n",
       "      <th>79</th>\n",
       "      <td>NaN</td>\n",
       "      <td>PBF</td>\n",
       "      <td>2020-10-09</td>\n",
       "      <td>Breedings/PBF-2020-10-09_cage_compositions2(se...</td>\n",
       "    </tr>\n",
       "  </tbody>\n",
       "</table>\n",
       "</div>"
      ],
      "text/plain": [
       "    Tag Lineage        Date                                           SourceFn\n",
       "79  NaN     PBF  2020-10-09  Breedings/PBF-2020-10-09_cage_compositions2(se..."
      ]
     },
     "execution_count": 9,
     "metadata": {},
     "output_type": "execute_result"
    }
   ],
   "source": [
    "source_dir = \"Breedings\"\n",
    "date = \"2020-10-09\"\n",
    "breeders = getBreedingList(source_dir, date)\n",
    "\n",
    "# syntax to check if breeder list against colony list\n",
    "df[df['Tag'].isin(set(breeders['Tag'])) & df['Tag'].notnull()] ##  if any of the breeding pairs have an NA in them, this will turn up all animals that have np.nan tags without the mask for not null. Check with the below line to see if this is the case.\n",
    "\n",
    "breeders.query('Tag.isnull()')\n"
   ]
  },
  {
   "cell_type": "code",
   "execution_count": 13,
   "metadata": {},
   "outputs": [],
   "source": [
    "# to split genotyping info\n",
    "df = splitGenotypes(df)"
   ]
  },
  {
   "cell_type": "code",
   "execution_count": null,
   "metadata": {},
   "outputs": [],
   "source": [
    "# df.groupby(['DOD']).agg({'Cage': 'nunique', 'Tag': ['nunique','unique'], 'Lineage':'unique'})"
   ]
  },
  {
   "cell_type": "code",
   "execution_count": null,
   "metadata": {},
   "outputs": [],
   "source": [
    "# mice = df.query('DOD == \"breeding-putative-201015\"')\n",
    "# cages = mice.Cage.unique()\n",
    "# cages_find = df[df.Cage.isin(cages)]"
   ]
  },
  {
   "cell_type": "code",
   "execution_count": 11,
   "metadata": {},
   "outputs": [],
   "source": [
    "breedersM = df['Tag'].isin(set(breeders['Tag']))\n",
    "euthReqM = (df['DOD'] == 'requested euthanasia')\n",
    "fdM = df.DOD.str.contains(\"fd\")\n",
    "experimentalM = df.DOD.str.contains(\"experimental\")\n",
    "pbM = df.Lineage.str.contains(\"PB#\")\n",
    "insM = df.Lineage.str.contains(\"ins\")\n",
    "# aliveM = (df.DOD == \"-\")\n",
    "\n",
    "femalesM = (df.Sex.str.lower() == \"f\")\n",
    "malesM = (df.Sex.str.lower() == \"m\")\n",
    "\n"
   ]
  },
  {
   "cell_type": "code",
   "execution_count": 44,
   "metadata": {},
   "outputs": [],
   "source": [
    "df[malesM & pbM & ~euthReqM][easyCats + ['DOD',\n",
    "       'ina_num', 'summedhgRNAs', 'summedhgRNAs_active']].sort_values('summedhgRNAs_active', ascending = False).query('~DOD.str.contains(\"confirmed|xcas9|zack|bergles|tier1|breeder-may20\")').head(20).to_clipboard(index=False)"
   ]
  },
  {
   "cell_type": "code",
   "execution_count": 63,
   "metadata": {},
   "outputs": [],
   "source": [
    "meese = df.query(\n",
    "    'DOD.str.contains(\"pbf|pb3\") & DOD.str.contains(\"tier1\")').sort_values(\n",
    "        ['Sex', 'Lineage'], ascending=False)\n",
    "meese.groupby(\"Cage\", sort = False).agg({\n",
    "    'Tag': 'unique', 'CageSize':'mean',\n",
    "    'Ear': 'unique',\n",
    "    'Color': 'unique',\n",
    "    'Lineage':'unique', 'Sex': 'unique'\n",
    "}).to_clipboard()"
   ]
  },
  {
   "cell_type": "code",
   "execution_count": 73,
   "metadata": {},
   "outputs": [],
   "source": [
    "meese[easyCats].to_clipboard(index = False)"
   ]
  },
  {
   "cell_type": "code",
   "execution_count": null,
   "metadata": {},
   "outputs": [],
   "source": [
    "# cages_find.head()"
   ]
  },
  {
   "cell_type": "code",
   "execution_count": null,
   "metadata": {},
   "outputs": [],
   "source": [
    "# cages_find.groupby(\"Cage\").agg({'Tag': ['count', 'unique'], 'Ear': 'unique', 'Color': 'unique'}).to_clipboard(sep = \"\\t\")"
   ]
  },
  {
   "cell_type": "code",
   "execution_count": null,
   "metadata": {},
   "outputs": [],
   "source": [
    "# df.query('DOD == \"breeding-putative-201015\"')[easyCats].sort_values('DOB').to_csv(makefn('PB7_breeders'), sep = \"\\t\")\n",
    "\n"
   ]
  },
  {
   "cell_type": "code",
   "execution_count": null,
   "metadata": {},
   "outputs": [],
   "source": [
    "# ## vickie cages\n",
    "# # mutant:\n",
    "# AA0105 AA0105\n",
    "# AA0056 5171-5174 (WT / syn cre relevant)"
   ]
  },
  {
   "cell_type": "code",
   "execution_count": null,
   "metadata": {},
   "outputs": [],
   "source": []
  },
  {
   "cell_type": "code",
   "execution_count": null,
   "metadata": {},
   "outputs": [],
   "source": [
    "# df.query('Cage.str.contains(\"AA0105|AA0056\")')[easyCats].to_clipboard(index = False, sep = \"\\t\")"
   ]
  },
  {
   "cell_type": "code",
   "execution_count": null,
   "metadata": {},
   "outputs": [],
   "source": [
    "# df.query('Cage.str.contains(\"AA0105|AA0056\")')[['Tag', 'Cage', 'Ear', 'Sex', 'Color', 'DOB', 'Lineage']].to_clipboard(index = False, sep = \"\\t\")"
   ]
  },
  {
   "cell_type": "code",
   "execution_count": null,
   "metadata": {},
   "outputs": [],
   "source": [
    "# mice = df.fillna(\"-\").query('Tag.str.contains(\"5049|5253|5254|5242\")')\n",
    "# cages = mice.Cage.unique()"
   ]
  },
  {
   "cell_type": "code",
   "execution_count": null,
   "metadata": {},
   "outputs": [],
   "source": []
  },
  {
   "cell_type": "code",
   "execution_count": null,
   "metadata": {},
   "outputs": [],
   "source": [
    "# # cages = mice.Cage.unique()\n",
    "# df[df.Cage.isin(cages)][easyCats].to_clipboard(index = False, sep = \"\\t\")"
   ]
  },
  {
   "cell_type": "code",
   "execution_count": null,
   "metadata": {},
   "outputs": [],
   "source": []
  },
  {
   "cell_type": "code",
   "execution_count": null,
   "metadata": {},
   "outputs": [],
   "source": [
    "# df[df.Cage.isin(cages)][['Tag', 'Cage', 'Ear', 'Sex', 'Color', 'DOB', 'Lineage']]"
   ]
  },
  {
   "cell_type": "markdown",
   "metadata": {},
   "source": [
    "# code from summing total hgRNA counts for collecting animal samples"
   ]
  },
  {
   "cell_type": "markdown",
   "metadata": {},
   "source": [
    "## splitting hgRNA genotypes into columns"
   ]
  },
  {
   "cell_type": "code",
   "execution_count": null,
   "metadata": {},
   "outputs": [],
   "source": [
    "## speciality speed code for re-splitting genotypes by hgRNA tyep\n",
    "def splitGenotypes(df):\n",
    "    '''for splitting genotypes into hgRNA categories and summing to pick breeders when Reza hasn't, or for distribution, or whatever'''\n",
    "    split = df['Genotype'].str.split(r'(\\w,)', expand=True)\n",
    "    split[6] = split[6].str.extract('(\\d+)')\n",
    "    split = split.rename({\n",
    "        0: \"E\",\n",
    "        2: 'I',\n",
    "        4: \"S\",\n",
    "        6: 'ina'\n",
    "    }, axis=1).drop(columns=[1, 3, 5])\n",
    "\n",
    "    newcols = []\n",
    "    oldcols = []\n",
    "    for col in split:\n",
    "        colN = str(col) + \"_num\"\n",
    "        split[colN] = pd.to_numeric(split[col], errors='coerce')\n",
    "        oldcols.append(col)\n",
    "        newcols.append(colN)\n",
    "\n",
    "    split['summedhgRNAs'] = split[newcols].sum(axis=1)\n",
    "    split['summedhgRNAs_active'] = split[newcols[0:3]].sum(axis=1)\n",
    "    split = split.drop(oldcols[0:4], axis=1)\n",
    "    df = df.merge(split, left_index=True, right_index=True)\n",
    "    return df"
   ]
  },
  {
   "cell_type": "code",
   "execution_count": null,
   "metadata": {},
   "outputs": [],
   "source": [
    "df = splitGenotypes(df)"
   ]
  },
  {
   "cell_type": "code",
   "execution_count": null,
   "metadata": {},
   "outputs": [],
   "source": [
    "breedersMask = df['Tag'].isin(set(breeders['Tag']))\n",
    "euthanasiaMask = (df['DOD'] == 'requested euthanasia')\n",
    "fdMask = df.DOD.str.contains(\"fd|breeder-may|experimental\")\n",
    "pbMask = df.Lineage.str.contains(\"PB#\")\n",
    "fMask = (df.Sex.str.lower() == \"f\")"
   ]
  },
  {
   "cell_type": "code",
   "execution_count": null,
   "metadata": {},
   "outputs": [],
   "source": [
    "df[~breedersMask & ~euthanasiaMask & ~fdMask & pbMask & ~fMask].sort_values(['E_num', 'I_num', 'S_num'])[easyCats]"
   ]
  },
  {
   "cell_type": "code",
   "execution_count": null,
   "metadata": {},
   "outputs": [],
   "source": [
    "# .to_clipboard(index=False, sep = \"\\t\")\n",
    "df.query('DOD.str.contains(\"zack\")')[['Tag','Genotype', 'summedhgRNAs', 'summedhgRNAs_active']].to_csv('ZackTransferGenotypes.tsv', sep = '\\t', index=False) "
   ]
  },
  {
   "cell_type": "markdown",
   "metadata": {
    "heading_collapsed": true
   },
   "source": [
    "## query each lineage + create CSV from it"
   ]
  },
  {
   "cell_type": "markdown",
   "metadata": {},
   "source": [
    "# checking breedings against spreadsheet"
   ]
  },
  {
   "cell_type": "code",
   "execution_count": null,
   "metadata": {
    "code_folding": []
   },
   "outputs": [],
   "source": [
    "source_dir = \"Breedings\"\n",
    "date = \"2020-10-09\"\n",
    "fns = glob.glob(f\"{source_dir}/*{date}_cage*\")\n",
    "data = []\n",
    "\n",
    "for fn in fns:\n",
    "    frame = pd.read_csv(fn, sep=\"\\t\")\n",
    "    frame['Lineage'], frame['Date'] = fn[10:24].split(\"-\", 1)\n",
    "    data.append(frame)\n",
    "\n",
    "animals = pd.concat(\n",
    "    data, ignore_index=True)  #dont want pandas to try an align row indexes\n",
    "\n",
    "animals = animals.applymap(lambda x: x.strip(\"t\") if isinstance(\n",
    "    x, str) else x)  #remove t for easier comparison to big frame applys\n",
    "\n",
    "tagCols = ['Male', 'Female1',\n",
    "           'Female2']  #grab columns with animals for flattening\n",
    "\n",
    "data = []\n",
    "for col in tagCols:\n",
    "    frame = pd.concat((animals[i] for i in [col, 'Lineage', 'Date']),\n",
    "                      axis=1).rename({col: 'Tag'}, axis=1)\n",
    "    data.append(frame)\n",
    "\n",
    "#            #, animals['Lineage'], animals['Date']]\n",
    "# #     data.append(frame)\n",
    "breeders = pd.concat(\n",
    "    data, ignore_index=True)  #dont want pandas to try an align row indexes;"
   ]
  },
  {
   "cell_type": "markdown",
   "metadata": {
    "code_folding": []
   },
   "source": [
    "## check that all animals are correctly marked in the spreadsheet"
   ]
  },
  {
   "cell_type": "code",
   "execution_count": null,
   "metadata": {
    "code_folding": []
   },
   "outputs": [],
   "source": [
    "## #### parsing breedings etc - check that all breeders are marked as such on the sheet\n",
    "breedrs = pd.merge(df, breeders, left_on ='TagClean', right_on = 'Tag', how = 'right')\n",
    "if len(breedrs.DOD.unique()) > 1:\n",
    "    print(\"Not all breeders marked\")\n",
    "else:\n",
    "    print(\"Only one DOD found, {}\".format(breedrs.DOD.unique()[0]))\n",
    "    \n",
    "list(set(breeders['Tag'])-set(breedrs['TagClean']))"
   ]
  },
  {
   "cell_type": "code",
   "execution_count": null,
   "metadata": {},
   "outputs": [],
   "source": [
    "breedrs.query('DOD.str.contains(\"pbfbreeder_tier1\", na = False)').groupby(\"Cage\").agg({'Cage': 'nunique', 'TagClean': ['nunique','unique'], 'Lineage_x':'unique'})"
   ]
  },
  {
   "cell_type": "markdown",
   "metadata": {},
   "source": [
    "# something eles happens here? something about querying for samples of a specific type"
   ]
  },
  {
   "cell_type": "code",
   "execution_count": null,
   "metadata": {},
   "outputs": [],
   "source": [
    "# def query(df, lineage, disp=1):\n",
    "#     result = df.query(\n",
    "#         'Lineage.str.contains(\"{}\")'.format(lineage))\n",
    "#     if disp:\n",
    "#         result = result.query('DispPercent >= {}'.format(disp))\n",
    "#     result = result.sort_values(\"summedhgRNAs_active\", ascending=False)\n",
    "#     return result\n",
    "\n",
    "# frames = {}\n",
    "# lineages = ['#3', '#7', 'ins21', '-Cas9', 'PBF']\n",
    "\n",
    "# for line in lineages:\n",
    "#     frame = query(df, line).head(5)\n",
    "#     frames.update({line: frame})\n",
    "# for frame in frames:\n",
    "#     fn = makefn(frame)\n",
    "#     frames[frame].to_csv(fn, sep=\"\\t\")\n",
    "#     df[['fCas', 'transgene']] = df['Genotype'].str.split(\",\", 1, expand = True)\n",
    "# frame = query(df, 'fCas9').query('transgene.str.contains(\"-\")')\n",
    "# frame = frame.sort_values(['fCas', 'transgene'], ascending = [True, True]).head(10)\n",
    "# fn = makefn('creFlipped-negative_ampliconSamples')\n",
    "# frame.to_csv(fn, sep ='\\t')\n"
   ]
  },
  {
   "cell_type": "code",
   "execution_count": null,
   "metadata": {},
   "outputs": [],
   "source": []
  },
  {
   "cell_type": "code",
   "execution_count": null,
   "metadata": {},
   "outputs": [],
   "source": [
    "##############################################"
   ]
  },
  {
   "cell_type": "markdown",
   "metadata": {},
   "source": [
    "# assessing parental genotypes to consider offspring (for fCas9 maintenance/breeding)"
   ]
  },
  {
   "cell_type": "code",
   "execution_count": null,
   "metadata": {},
   "outputs": [],
   "source": [
    "df.Lineage = df.Lineage.fillna(\"--\")\n",
    "fathers = df[df.Lineage.str.contains('fCas9')].Father.unique().flatten()\n",
    "mothers = df[df.Lineage.str.contains('fCas9')].Mother.unique().flatten()\n",
    "rents = np.append(fathers, mothers)\n",
    "parentList = []\n",
    "for i in rents:\n",
    "    parentList.extend(i.split(\"/\")) \n",
    "parents = df.loc[df['Tag'].isin(parentList)]"
   ]
  },
  {
   "cell_type": "code",
   "execution_count": null,
   "metadata": {},
   "outputs": [],
   "source": [
    "## easy categories\n",
    "plateCats =  ['Genotype','PlateID', 'Row', 'Column',\n",
    "       'Position']\n",
    "cats = easyCats + plateCats"
   ]
  },
  {
   "cell_type": "code",
   "execution_count": null,
   "metadata": {},
   "outputs": [],
   "source": [
    "df[['fCas', 'transgene']] = df['Genotype'].str.split(\",\", 1, expand = True)"
   ]
  },
  {
   "cell_type": "code",
   "execution_count": null,
   "metadata": {},
   "outputs": [],
   "source": [
    "df.Lineage = df.Lineage.fillna(\"--\")\n",
    "linMask = df.Lineage.str.contains('fCas9')\n",
    "genoMask = df.Genotype.isnull()\n",
    "fCas9 = df[linMask].fillna(\"-\")\n",
    "H_linMask = fCas9.Lineage.str.contains('hCD2')\n",
    "S_linMask = fCas9.Lineage.str.lower().str.contains('syn')"
   ]
  },
  {
   "cell_type": "code",
   "execution_count": null,
   "metadata": {},
   "outputs": [],
   "source": [
    "df.query(\"Tag == '5326'\")"
   ]
  },
  {
   "cell_type": "code",
   "execution_count": null,
   "metadata": {
    "code_folding": [
     0
    ]
   },
   "outputs": [],
   "source": [
    "fCas9.groupby(['Sex', 'DOD', 'fCas', 'transgene']).agg({'Genotype': 'count',\n",
    "                                                   'Tag':'unique', 'Cage':'unique', \n",
    "                                                  'DOB': ['min', 'max']})"
   ]
  },
  {
   "cell_type": "code",
   "execution_count": null,
   "metadata": {},
   "outputs": [],
   "source": [
    "cages = df.groupby([\"Cage\", \"Sex\"]).agg({'Color':'unique',\n",
    "                                         'DOD':'unique',\n",
    "                                         'Lineage':'unique'})   #yay!"
   ]
  },
  {
   "cell_type": "code",
   "execution_count": null,
   "metadata": {},
   "outputs": [],
   "source": []
  },
  {
   "cell_type": "code",
   "execution_count": null,
   "metadata": {},
   "outputs": [],
   "source": [
    "df.groupby('Cage').agg({\n",
    "    'dispensible': 'mean',\n",
    "    'Cage': 'size',\n",
    "    'Sex': 'unique',\n",
    "    'DOD': 'unique',\n",
    "    'Tag': 'unique',\n",
    "    'Color': 'unique',\n",
    "    'Ear': 'unique',\n",
    "    'Lineage': 'unique'\n",
    "}).sort_values('dispensible', ascending = False)"
   ]
  },
  {
   "cell_type": "code",
   "execution_count": null,
   "metadata": {},
   "outputs": [],
   "source": [
    "df[df.Sex == \"F\"].groupby(['Cage']).agg({'Cage': 'size',\n",
    "                                         'DOD': 'unique',\n",
    "                                         'Tag':'unique',\n",
    "                                        'Color' : 'unique',\n",
    "                                         'Ear' : 'unique',}).sort_values"
   ]
  },
  {
   "cell_type": "code",
   "execution_count": null,
   "metadata": {},
   "outputs": [],
   "source": [
    "df[df.Sex == \"F\"].groupby(['Cage']).agg({'Cage':'size',\n",
    "                                         'Color':'unique',\n",
    "                                         'DOD':'unique',\n",
    "                                         'Lineage':'unique'})   #yay!"
   ]
  },
  {
   "cell_type": "markdown",
   "metadata": {},
   "source": [
    "# retrieve animals with null genotypes in a certain lineage + get their well plates"
   ]
  },
  {
   "cell_type": "code",
   "execution_count": null,
   "metadata": {},
   "outputs": [],
   "source": [
    "insGeno = df[(df.Lineage.str.contains(\"ins21\")) & (df.Genotype.isnull())]"
   ]
  },
  {
   "cell_type": "code",
   "execution_count": null,
   "metadata": {},
   "outputs": [],
   "source": [
    "locs = pd.read_pickle('96-wellLocs.pkl').sort_values(\n",
    "        ['Column',\n",
    "         'Row']).reset_index(drop=True)  # impt standard plate indexing\n",
    "# locs.join(df, rsuffix = \"_init\")\n",
    "# insGeno.sort_values(join(locs, rsuffix = 'init')\n",
    "locs.join(insGeno, rsuffix='init')"
   ]
  },
  {
   "cell_type": "code",
   "execution_count": null,
   "metadata": {},
   "outputs": [],
   "source": [
    "insGeno.pivot(index='WellRow', columns='WellCol',\n",
    "                      values=['Tag', 'Plate'])"
   ]
  },
  {
   "cell_type": "markdown",
   "metadata": {},
   "source": [
    "# generate a general colony pivot table by lineage, sex, and DOB with total numbers"
   ]
  },
  {
   "cell_type": "code",
   "execution_count": null,
   "metadata": {},
   "outputs": [],
   "source": [
    "saveFn = makefn(file.replace(\" \", \"\")+'_summary')\n",
    "\n",
    "remapDict= {'ins': '1685ins21#2',\n",
    "            'pb3' : '1763PB#3',\n",
    "            'pb7' : '1763PB#7',\n",
    "            'pbf': '1853PBF#1'}\n",
    "for key, value in remapDict.items():\n",
    "    df.Lineage = df.Lineage.apply(lambda row: value if key in row.lower() else row)\n",
    "grouped = df.groupby(['Lineage',\n",
    "            'Sex',\n",
    "            pd.Grouper(key='DOB',freq='q')]).size().unstack('DOB').reset_index()\n",
    "grouped['Total'] = grouped.sum(axis=1)\n",
    "grouped.fillna(\"-\").to_csv(saveFn)"
   ]
  },
  {
   "cell_type": "code",
   "execution_count": null,
   "metadata": {},
   "outputs": [],
   "source": [
    "saveFn = makefn(file.replace(\" \", \"\")+'_femaleConsolidation')"
   ]
  },
  {
   "cell_type": "code",
   "execution_count": null,
   "metadata": {},
   "outputs": [],
   "source": [
    "df.groupby([\"Cage\"]).agg({'Cage': 'count',  'Sex': 'unique',\n",
    "                                 'Color':'unique',\n",
    "                                'DOD': 'unique'})"
   ]
  },
  {
   "cell_type": "code",
   "execution_count": null,
   "metadata": {},
   "outputs": [],
   "source": [
    "mating = tagSearch(ins + PB3 + PB7 + PBF + cre)\n",
    "df[mating].sort_values('Lineage').to_csv('file.csv')"
   ]
  },
  {
   "cell_type": "markdown",
   "metadata": {},
   "source": [
    "# break - 2019 and previous code snippets"
   ]
  },
  {
   "cell_type": "code",
   "execution_count": null,
   "metadata": {},
   "outputs": [],
   "source": [
    "CreMask = (df.Lineage.str.contains(\"fCas\", na=False))\n",
    "PBFMask = (df.Lineage.str.contains(\"PBF\", na=False))\n",
    "insMask = tagSearch(\"t2620 t2632 t2623 t2463 t2625 t2622 t2616 t2626 t2633 t2720 t2721 t2722 t2755 t2750 t2751 t2415 t2445\")\n",
    "alreadyShipped = (df.Cage.str.contains(\"HOP\", na= True))\n",
    "traveling = (df.DOD.str.endswith(\"hopkins| \", na = False))"
   ]
  },
  {
   "cell_type": "code",
   "execution_count": null,
   "metadata": {},
   "outputs": [],
   "source": [
    "shipped_2 = df[(df.DOD.str.endswith(\"hopkins\", na = False))]"
   ]
  },
  {
   "cell_type": "code",
   "execution_count": null,
   "metadata": {},
   "outputs": [],
   "source": [
    "shipped_2.sort_values([\"Cage\", \"Tag\"])[['Cage', 'Sex', 'Tag', 'Ear', 'Color', 'DOB']].to_clipboard(excel=True, index=False)"
   ]
  },
  {
   "cell_type": "code",
   "execution_count": null,
   "metadata": {
    "scrolled": true
   },
   "outputs": [],
   "source": [
    "shipped_2.groupby([\"Cage\"]).agg({'Cage': 'count', 'Sex':'unique'}).to_clipboard(excel=True)"
   ]
  },
  {
   "cell_type": "code",
   "execution_count": null,
   "metadata": {},
   "outputs": [],
   "source": [
    "hop = df[((traveling & (CreMask | PBFMask)) | insMask ) & ~alreadyShipped]"
   ]
  },
  {
   "cell_type": "code",
   "execution_count": null,
   "metadata": {},
   "outputs": [],
   "source": [
    "hop.groupby([\"Cage\", \"Sex\"]).agg({'Cage': 'count'})"
   ]
  },
  {
   "cell_type": "code",
   "execution_count": null,
   "metadata": {},
   "outputs": [],
   "source": [
    "hop.groupby([\"Sex\", \"Cage\", \"Tag\"]).agg({'Lineage': 'unique',\n",
    "                                         'Color': 'unique',\n",
    "                                        'Ear': 'unique'})"
   ]
  },
  {
   "cell_type": "code",
   "execution_count": null,
   "metadata": {
    "scrolled": false
   },
   "outputs": [],
   "source": [
    "hop.groupby(['Sex','Cage']).agg({'Cage':'count'})"
   ]
  },
  {
   "cell_type": "code",
   "execution_count": null,
   "metadata": {},
   "outputs": [],
   "source": [
    "hop.sort_values(['Sex', \"Lineage\", 'Tag'])"
   ]
  },
  {
   "cell_type": "code",
   "execution_count": null,
   "metadata": {},
   "outputs": [],
   "source": []
  },
  {
   "cell_type": "code",
   "execution_count": null,
   "metadata": {},
   "outputs": [],
   "source": [
    "df[(df.Genotype.isnull()) \\\n",
    "   & (df['DOD'] != \"Dispensible\")].fillna(\"x\").groupby([\"Lineage\", 'Cage']).agg({'Sex': 'count',\n",
    "                                                                                   'Tag':'unique',\n",
    "                                                                                   'Name': 'unique' })"
   ]
  },
  {
   "cell_type": "code",
   "execution_count": null,
   "metadata": {},
   "outputs": [],
   "source": [
    "#mask for sorting centrifuge tube samples\n",
    "freezerMask = (df.Tag.notnull()) & \\\n",
    "    (~df['Notebook info'].str.startswith(\"T|Plate\", na=False))&\\\n",
    "     (df.Lineage != 'J024858-Cas9')\n",
    "\n",
    "#and the results\n",
    "df[freezerMask].sort_values(\"Tag\")"
   ]
  },
  {
   "cell_type": "code",
   "execution_count": null,
   "metadata": {},
   "outputs": [],
   "source": [
    "earlyMask, lateMask, fMask = collectAgeRange(df, '2019-12-01',\n",
    "                                             28, 0 , \"\", \"F\")\n",
    "earlyMask, lateMask, mMask = collectAgeRange(df, '2019-12-01',\n",
    "                                             40, 0 , \"\", \"M\")\n",
    "\n",
    "inc = df[mMask].append(df[fMask]) #combine\n",
    "\n",
    "inc['DOD'], inc['parsedDOD'] =  zip(*inc.DOD.apply(lambda row: cleanDOD(row))) #parse DOD\n",
    "inc = inc[(~inc.parsedDOD.notnull()) \\\n",
    "          & (~inc.DOD.str.contains('sperm|Diss|f.d.',\n",
    "                                   na = False))] #drop assorted dead mice"
   ]
  },
  {
   "cell_type": "code",
   "execution_count": null,
   "metadata": {},
   "outputs": [],
   "source": [
    "inc.fillna('n/a').groupby(['Lineage',\n",
    "                           'DOD',\n",
    "                           'Sex']).agg({'DOB': ['count',\n",
    "                                                'min',\n",
    "                                                'max']})"
   ]
  },
  {
   "cell_type": "code",
   "execution_count": null,
   "metadata": {},
   "outputs": [],
   "source": [
    "inc[inc.DOD.str.contains('Hopkins', na= False)].groupby(\"Sex\").agg({'Sex': 'count',\n",
    "                                                    'Cage': 'nunique'})\n"
   ]
  },
  {
   "cell_type": "code",
   "execution_count": null,
   "metadata": {},
   "outputs": [],
   "source": [
    "noMice, noCages"
   ]
  },
  {
   "cell_type": "code",
   "execution_count": null,
   "metadata": {},
   "outputs": [],
   "source": [
    "df[df.Plate == \"T885765\"].sort_values(['WellRow',\n",
    "                                       'WellCol'])[['Position',\n",
    "                                                    'Tag',\n",
    "                                                    'Lineage']].to_clipboard(excel=True, header = False, index = False)"
   ]
  },
  {
   "cell_type": "code",
   "execution_count": null,
   "metadata": {},
   "outputs": [],
   "source": [
    "def is_coherent(seq):\n",
    "    return seq == range(seq[0], seq[-1]+1)"
   ]
  },
  {
   "cell_type": "code",
   "execution_count": null,
   "metadata": {},
   "outputs": [],
   "source": [
    "MMRRC_cats = ['Tag',\n",
    "           'Cage',\n",
    "           'Ear',\n",
    "           'Sex',\n",
    "           'Color',\n",
    "           'Genotype',\n",
    "           'DOB',\n",
    "           'Lineage']"
   ]
  },
  {
   "cell_type": "code",
   "execution_count": null,
   "metadata": {
    "scrolled": true
   },
   "outputs": [],
   "source": [
    "# earlyMask, lateMask, mMask = collectAgeRange(df,\n",
    "#                                              '2019-09-16',\n",
    "#                                              13, 8,\n",
    "#                                              \"PB#\", \"M\")\n",
    "# earlyMask, lateMask, fMask = collectAgeRange(df, \n",
    "#                                              '2019-09-16',\n",
    "#                                              4, 1,\n",
    "#                                              \"PB#\", \"F\")\n",
    "# shippedMask = (df.DOD.str.contains(\"mrrc|opkins\",\n",
    "#                                    na=False)) & (df.Lineage.str.contains(\"PB#\")) #PBs marked for any maintenance movement\n",
    "\n",
    "# df[mMask|fMask|shippedMask].groupby([\"Lineage\",\n",
    "#                                      \"Sex\",\n",
    "#                                      \"DOD\"]).agg({'Tag':'count',\n",
    "#                                                    'DOB': ['first', 'last']}) #"
   ]
  },
  {
   "cell_type": "markdown",
   "metadata": {},
   "source": [
    "dispense, cSorted = makeOutputs(df)\n",
    "cSorted.to_clipboard(excel=True, index = True)"
   ]
  },
  {
   "cell_type": "code",
   "execution_count": null,
   "metadata": {},
   "outputs": [],
   "source": [
    "earlyMask, lateMask, incMask = collectAgeRange(df, '2019-09-16', 4, 1, \"\", \"F\")\n",
    "df[incMask][['Tag',\n",
    "             'Cage',\n",
    "             'Ear',\n",
    "             'Sex',\n",
    "             'Color',\n",
    "             'DOB',\n",
    "             'Genotype',\n",
    "             'Lineage']].groupby(\"Lineage\").count()"
   ]
  },
  {
   "cell_type": "code",
   "execution_count": null,
   "metadata": {
    "scrolled": true
   },
   "outputs": [],
   "source": [
    "earlyMask, lateMask, incMask = collectAgeRange(df, '2019-10-04', 10, 0 , \"\", \"\")\n",
    "#inc = df[incMask]\n",
    "#inc = inc.fillna(\"BLANK\")\n",
    "\n",
    "# [['Tag',\n",
    "#              'Cage',\n",
    "#              'Ear',\n",
    "#              'Sex',\n",
    "#              'Color',\n",
    "#              'DOB',\n",
    "#              'Genotype',\n",
    "#              'Lineage']]"
   ]
  },
  {
   "cell_type": "code",
   "execution_count": null,
   "metadata": {},
   "outputs": [],
   "source": [
    "# df[df.DOD == 'Shipped to mmrrc on 9/10'][['Tag',\n",
    "#              'Color',\n",
    "#              'Ear',\n",
    "#              'Cage', \n",
    "#              'Sex',\n",
    "#              'Genotype',\n",
    "#              'DOB',\n",
    "#              'Lineage']].sort_values(by = ['Cage',\n",
    "#                                            'Tag'])\\\n",
    "#                 .fillna(\"missing\").to_clipboard(index = False,\n",
    "#                                                excel = True)"
   ]
  },
  {
   "cell_type": "code",
   "execution_count": null,
   "metadata": {},
   "outputs": [],
   "source": [
    "# ## MICE WITH UNKNOWN FATE\n",
    "# df[(df.DOD.isnull())].groupby([\"Lineage\", \"Cage\"]).agg({'DOB': ['max', \n",
    "#                                                              'min', \n",
    "#                                                              'count'],\n",
    "#                                                         'Sex': 'max',\n",
    "#                                                         'Name': 'unique'}).fillna(\"\")"
   ]
  },
  {
   "cell_type": "code",
   "execution_count": null,
   "metadata": {},
   "outputs": [],
   "source": [
    "########## selecting mice by age#########\n",
    "shipDate = '2019-09-16'\n",
    "early1, late1, mask1 = collectAgeRange(df, shipDate, 13, 8, \"PB#\", \"M\")\n",
    "early2, late2, mask2 = collectAgeRange(df, shipDate, 9, 6.5, \"PB#\", \"F\")\n",
    "\n",
    "males_20190916  = df[mask1].sort_values([\"Lineage\", \"Genotype\"])\n",
    "females_20190916 = df[mask2].sort_values([\"Lineage\", \"Genotype\"])\n",
    "\n",
    "shipment_20190916 = males_20190916.append(females_20190916)\n",
    "\n",
    "# Sep09_shipment.sort_values([\"Lineage\",\n",
    "#                             \"Sex\",\n",
    "#                             \"Cage\"]).to_clipboard(excel=True,\n",
    "#                                                   index = False)\n",
    "\n",
    "# Sep09_shipment.groupby([\"Lineage\",\n",
    "#                         \"Sex\",\n",
    "#                         \"Cage\"])['Tag',\n",
    "#                                  'Genotype'].count().to_clipboard()"
   ]
  },
  {
   "cell_type": "code",
   "execution_count": null,
   "metadata": {},
   "outputs": [],
   "source": [
    "plate_reseq.sort_values([\"Tag\"])[['Tag',\n",
    "                                  'Lineage',\n",
    "                                  'Plate',\n",
    "                                  'WellRow',\n",
    "                                  'WellCol']].to_clipboard(excel = True, index= False)"
   ]
  },
  {
   "cell_type": "code",
   "execution_count": null,
   "metadata": {},
   "outputs": [],
   "source": [
    "df['Tag'] = 't' + df['Tag'].astype(str)"
   ]
  },
  {
   "cell_type": "code",
   "execution_count": null,
   "metadata": {},
   "outputs": [],
   "source": [
    "KL14_plateB = df[df['Plate'].str\\\n",
    "   .contains(\"T885773|T885761\", na= False)]\\\n",
    "    .sort_values(by=['Plate', 'WellRow', 'WellCol']).reset_index(drop = True)"
   ]
  },
  {
   "cell_type": "code",
   "execution_count": null,
   "metadata": {},
   "outputs": [],
   "source": [
    "KL14_plateB[['Tag','Lineage','Plate', 'WellRow', 'WellCol']]\\\n",
    "    .to_clipboard(excel=True, index=False)"
   ]
  },
  {
   "cell_type": "code",
   "execution_count": null,
   "metadata": {},
   "outputs": [],
   "source": [
    "KL14_plateA = df[df['Plate'].str\\\n",
    "   .contains(\"T885772\", na= False)]\\\n",
    "    .sort_values(by=['Plate', 'WellRow', 'WellCol']).reset_index(drop = True)"
   ]
  },
  {
   "cell_type": "code",
   "execution_count": null,
   "metadata": {},
   "outputs": [],
   "source": [
    "df[df['Plate'].str\\\n",
    "   .contains(\"T88572|T885761|T885772|T885773\",\n",
    "             na = False)][['Tag', 'Plate', 'Well']]\\\n",
    "    .sort_values(by=['Plate', 'Well'])\\\n",
    "    .to_clipboard(excel=True, index= False)"
   ]
  },
  {
   "cell_type": "code",
   "execution_count": null,
   "metadata": {},
   "outputs": [],
   "source": [
    "KL14_plateA[['Tag','Lineage','Plate', 'WellRow', 'WellCol']]\\\n",
    "    .to_clipboard(excel=True, index=False)"
   ]
  },
  {
   "cell_type": "code",
   "execution_count": null,
   "metadata": {},
   "outputs": [],
   "source": [
    "#KL14_plateA.reindex('WellCol', method='ffill')"
   ]
  },
  {
   "cell_type": "code",
   "execution_count": null,
   "metadata": {
    "scrolled": true
   },
   "outputs": [],
   "source": [
    "KL14_plateA.groupby('WellRow').Lineage.count()"
   ]
  },
  {
   "cell_type": "code",
   "execution_count": null,
   "metadata": {},
   "outputs": [],
   "source": [
    "KL14_plateA"
   ]
  },
  {
   "cell_type": "code",
   "execution_count": null,
   "metadata": {},
   "outputs": [],
   "source": [
    "KL14_plateA[['Tag', 'Plate', 'WellRow', 'WellCol']]\\\n",
    "    .sort_values(by=['Plate', 'WellRow', 'WellCol'])\\\n",
    "    .to_clipboard(excel=True, index= False)"
   ]
  },
  {
   "cell_type": "code",
   "execution_count": null,
   "metadata": {},
   "outputs": [],
   "source": []
  },
  {
   "cell_type": "code",
   "execution_count": null,
   "metadata": {},
   "outputs": [],
   "source": []
  },
  {
   "cell_type": "code",
   "execution_count": null,
   "metadata": {
    "scrolled": true
   },
   "outputs": [],
   "source": [
    "## lineage stats over time\n",
    "df.groupby([pd.Grouper(key=\"DOB\", freq = \"M\"),\n",
    "            \"Lineage\"]).Cage.count().unstack('DOB')"
   ]
  },
  {
   "cell_type": "code",
   "execution_count": null,
   "metadata": {},
   "outputs": [],
   "source": [
    "def dfContains(string, column = \"Cage\", keep_empties = False, case = False, df = df):\n",
    "    '''given a cage number/s (formatted as \"nrbxxxx|nrbxxx\") etc, the indexes of entries where true'''\n",
    "    return df[column].str.contains(string, na = keep_empties, case = case)"
   ]
  },
  {
   "cell_type": "code",
   "execution_count": null,
   "metadata": {},
   "outputs": [],
   "source": [
    "df[df.DOD.str.contains(\"Sperm\", na = False)].groupby('Lineage').count()"
   ]
  },
  {
   "cell_type": "code",
   "execution_count": null,
   "metadata": {},
   "outputs": [],
   "source": [
    "df[(dfContains(\"1036|1037\"))\n",
    "   & (df.Sex == \"M\")][['Tag',\n",
    "                      'Cage',\n",
    "                       'Ear',\n",
    "                       'Sex',\n",
    "                       'DOB',\n",
    "                       'Notes']]"
   ]
  },
  {
   "cell_type": "code",
   "execution_count": null,
   "metadata": {},
   "outputs": [],
   "source": []
  },
  {
   "cell_type": "code",
   "execution_count": null,
   "metadata": {},
   "outputs": [],
   "source": [
    "PB = ['1763PB#7', '1763PB#3']\n",
    "counted = df.groupby(\"Cage\").size().reset_index(name = 'Total')\n",
    "df = df.merge(counted)\n",
    "PB_solo_males = df[(df.Lineage.isin(PB))&(df.Sex == \"M\")&(df.Total == 1)]"
   ]
  },
  {
   "cell_type": "code",
   "execution_count": null,
   "metadata": {},
   "outputs": [],
   "source": []
  }
 ],
 "metadata": {
  "kernelspec": {
   "display_name": "Python 3",
   "language": "python",
   "name": "python3"
  },
  "language_info": {
   "codemirror_mode": {
    "name": "ipython",
    "version": 3
   },
   "file_extension": ".py",
   "mimetype": "text/x-python",
   "name": "python",
   "nbconvert_exporter": "python",
   "pygments_lexer": "ipython3",
   "version": "3.8.5"
  }
 },
 "nbformat": 4,
 "nbformat_minor": 2
}
