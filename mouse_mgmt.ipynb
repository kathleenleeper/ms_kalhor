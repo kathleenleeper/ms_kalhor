{
 "cells": [
  {
   "cell_type": "code",
   "execution_count": 150,
   "metadata": {
    "code_folding": []
   },
   "outputs": [],
   "source": [
    "# imports\n",
    "import pandas as pd \n",
    "import numpy as np\n",
    "# import seaborn as sns\n",
    "from datetime import datetime as dt\n",
    "import logging as log\n",
    "import re\n",
    "import os\n",
    "from ColonyMgmt import * \n",
    "import glob"
   ]
  },
  {
   "cell_type": "code",
   "execution_count": 151,
   "metadata": {
    "code_folding": [
     0
    ]
   },
   "outputs": [],
   "source": [
    "# to do items\n",
    "# add logging function; if colony is over 200, prioritize saccing and consolidating cages\n",
    "\n",
    "## some fancy to dos:\n",
    "## check that the csv is within an hour, i.e. up to date\n",
    "## wrap helper functions more cleanly?\n",
    "## eventually package as a script proper\n",
    "## function to search the **NOTES** column; i.e. for mice that have bred with other mice etc\n",
    "\n",
    "# #some fiddling to make sure we are not pulling from the wrong file\n",
    "# file = \"05227_mastersheet - Active.tsv\"\n",
    "# loc = os.getcwd() + \"\\\\\" + file\n",
    "# os.path.getmtime(loc)\n",
    "\n",
    "# def checkTime(path):\n",
    "#     loc = os.getcwd() + \"\\\\\" + path\n",
    "#     return os.path.getmtime(loc)\n"
   ]
  },
  {
   "cell_type": "code",
   "execution_count": 152,
   "metadata": {
    "code_folding": [
     0
    ]
   },
   "outputs": [],
   "source": [
    "## this is all the functions now contained in mouse_mgmt import\n",
    "# # def importCleanDF(fn, sep = \"\\t\",\n",
    "#                   skip = 0,\n",
    "#                   dropDeads = False,\n",
    "#                   dropTransfers = True,\n",
    "#                   dropHeaders = False,\n",
    "#                   convertDOB = True,\n",
    "#                   calcDispensables = True,\n",
    "#                   stats=True):\n",
    "#     '''skip rangi(0,9) for Harvard mastersheet\n",
    "#     dropHeaders = True for Harvard Mas\"'''\n",
    "    \n",
    "#     df = pd.read_csv(fn, sep = sep,\n",
    "#                      skiprows = skip,\n",
    "#                      parse_dates = True,\n",
    "#                     dtype=str).dropna(axis = 0, how = 'all')\n",
    "#     print(\"Read in CSV\",fn) #logging\n",
    "    \n",
    "#     df.Sex = df.Sex.fillna(\"temp\") \n",
    "#     print(\"Animals without gender given temp. gender\") #if animals are not gendered\n",
    "    \n",
    "#     df.Cage = df.Cage.fillna('not included yet') #if animals are missing a cage\n",
    "#     print(\"Animals without cage given temp. cage\") #if animals are not gendered\n",
    "\n",
    "#     df = parseDOD(df, drop = dropDeads)\n",
    "    \n",
    "#     if dropTransfers:\n",
    "#         df = dropTransferred(df)\n",
    "        \n",
    "#     if dropHeaders:\n",
    "#         df = df[df.Cage.str.contains(\"NRB|HAT|HOP\",\n",
    "#                                  case=False,\n",
    "#                                  na=False)].reset_index(drop=True) #drop the header rows & reset the index\n",
    "#         print(\"Retained rows with NRB, HAT, HOP, dropped otherwise drop headers\")\n",
    "        \n",
    "#     if convertDOB:\n",
    "#         df.DOB = cleanDOBs(df.DOB)\n",
    "#     if calcDispensables:\n",
    "#         df = calcDisp(df)\n",
    "#     if df.Ear.any():\n",
    "#         df.Ear =  df.Ear.apply(lambda row: \"\\'\" + row if type(row)== str else np.nan) #convert ear tags to excel-clean formats\n",
    "#         print(\"Parsed ear tags for Excel formatting\")  \n",
    "#     if stats:\n",
    "#         colonyStats(df)\n",
    "#     return df\n",
    "\n",
    "# # def cleanDOBs(s):\n",
    "# #     '''uses .map() to apply changes'''\n",
    "# #     dates = {date:pd.to_datetime(date, errors = 'coerce') for date in s.unique()}\n",
    "# #     return s.map(dates)\n",
    "# # def parseDOD(df, drop = True):\n",
    "# #     df['DOD'] =  df.DOD.apply(lambda row: row.strip().lower() if type(row)== str else np.nan) #convert ear tags to excel-clean formats\n",
    "# #     df['parsedDOD'] = pd.to_datetime(df.DOD, errors = 'coerce')\n",
    "# #     if drop:\n",
    "# #         init = colonyStats(df)\n",
    "# #         df = df[(~df.parsedDOD.notnull()) \\\n",
    "# #                 & (~df.DOD.str.contains('sperm|Diss|f.d.|mia.',\n",
    "# #                                    na = False))] #drop assorted dead mice\n",
    "# #         print(\"initial counts:\", init, \"\\nafter dropping dead\", colonyStats(df))\n",
    "# #     return df\n",
    "\n",
    "\n",
    "\n",
    "# #     return df      \n",
    "# # def dropTransferred(df):\n",
    "# #     init = colonyStats(df)\n",
    "# #     df = df[~df.DOD.str.contains('transfer', na = False)]\n",
    "# #     fin = colonyStats(df)\n",
    "# #     print('after removing transferred', fin)\n",
    "# #     return df\n",
    "# # def collectAgeRange(df,\n",
    "# #                     on_date,\n",
    "# #                     oldest_requested_age,\n",
    "# #                     youngest_requested_age,\n",
    "# #                     lineage,\n",
    "# #                     gender):\n",
    "# #     early = pd.to_datetime(on_date) - pd.Timedelta(weeks = oldest_requested_age)\n",
    "# #     late = pd.to_datetime(on_date) - pd.Timedelta(weeks = youngest_requested_age)\n",
    "# #     mask = (df['DOB'] >= early)\\\n",
    "# #             & (df['DOB'] <= late)\\\n",
    "# #             & (df['Lineage'].str.contains(lineage))\\\n",
    "# #             & (df['Sex'].str.contains(gender))\n",
    "# #     return early, late, mask\n",
    "# # def colonyStats(df):\n",
    "# #     '''helper function: returns number of mice, number of cages'''\n",
    "# #     num_cages = len(df.Cage.unique())\n",
    "# #     stats = {'numCages':len(df.Cage.unique()), 'numMice' : len(df)}\n",
    "# #     if num_cages >=200:\n",
    "# #         print(\"certainly cage reorg time\")\n",
    "# #     return stats\n",
    "# # def makefn(string):\n",
    "# #     '''returns string + formatted date to use as a file name'''\n",
    "# #     return string + str(dt.today().strftime(\"_%Y-%B-%d\")) + \".csv\"\n",
    "# # def tagSearch(string, df, column=\"Tag\"):\n",
    "# #     '''from a string, extracts all numbers and then searches for those numbers in a column'''\n",
    "# #     find_t = re.findall(r'\\d+', string)\n",
    "# #     #search for that list in the spreadsheet and return only those rows\n",
    "# #     return df[column].isin(find_t)\n",
    "# # def makeOutputs(df, upcase=True):\n",
    "# #     '''extremely specific to produce dispensible & sorted cage information'''\n",
    "# #     fineGrainedDispense = df.query(\"Dispensible >= 0.2\").sort_values([\"Dispensible\", \"Cage\"], ascending=False)\n",
    "# #     cages = df.groupby(\"Cage\").agg({'Dispensible':'first', #could be cleaner\n",
    "# #                                     'Cage':'size', #yay!\n",
    "# #                                     'Sex':'unique', #yay!\n",
    "# #                                     'Color':'unique',\n",
    "# #                                    'DOD':'unique'})   #yay!\n",
    "# #     return fineGrainedDispense, cages\n",
    "# # def calcTotals(df):\n",
    "# #     counted = df.groupby(\"Cage\").agg('size').reset_index(name='Total')\n",
    "# #     return df.merge(counted)\n",
    "# # def calcDisp(df):\n",
    "# #     disp = df.groupby(\"Cage\").DOD\\\n",
    "# #                 .value_counts(normalize=True,\n",
    "# #                               dropna = False).unstack()\n",
    "# #     if 'Dispensible' in disp:\n",
    "# #         disp = disp.Dispensible.reset_index()\n",
    "# #         print(\"Dispensible counts normalized + totals calculated\")\n",
    "# #         df = df.merge(disp)\n",
    "# #     else:\n",
    "# #         print(\"No dispensible mice, returning original DF with totals added\")\n",
    "# #     return calcTotals(df)"
   ]
  },
  {
   "cell_type": "code",
   "execution_count": 153,
   "metadata": {},
   "outputs": [],
   "source": [
    "file = '05227_mastersheet - Hopkins Colony.tsv'"
   ]
  },
  {
   "cell_type": "code",
   "execution_count": 154,
   "metadata": {
    "scrolled": true
   },
   "outputs": [
    {
     "name": "stdout",
     "output_type": "stream",
     "text": [
      "Read in CSV 05227_mastersheet - Hopkins Colony.tsv\n",
      "Animals without gender given temp. gender\n",
      "Animals without cage given temp. cage\n",
      "Animals without specified lineage given NA\n",
      "initial counts: {'numCages': 137, 'numMice': 404} \n",
      "after dropping dead {'numCages': 116, 'numMice': 346}\n",
      "calculted total dispensible counts\n",
      "calculated total cage sizes\n",
      "calculated % disp\n",
      "after removing transferred {'numCages': 112, 'numMice': 330}\n",
      "Parsed ear tags for Excel formatting\n"
     ]
    }
   ],
   "source": [
    "df = importCleanDF(file, dropDeads=True)"
   ]
  },
  {
   "cell_type": "code",
   "execution_count": 155,
   "metadata": {},
   "outputs": [
    {
     "name": "stdout",
     "output_type": "stream",
     "text": [
      "Saved CSV with fns AllCages_2020-May-06.csv\n",
      "Saved CSV with fns FemaleCons_2020-May-06.csv\n"
     ]
    }
   ],
   "source": [
    "makeConsolidations(df, save = True, popBack = False) "
   ]
  },
  {
   "cell_type": "code",
   "execution_count": 156,
   "metadata": {},
   "outputs": [],
   "source": [
    "def splitGenotypes(df):\n",
    "    split = df['Genotype'].str.split(r'(\\w,)', expand=True) \n",
    "    split = split.rename({0: \"E\",\n",
    "             2: 'I',\n",
    "             4: \"S\"}, axis=1).drop(columns = [1, 3, 5])\n",
    "    return split"
   ]
  },
  {
   "cell_type": "code",
   "execution_count": 157,
   "metadata": {},
   "outputs": [],
   "source": [
    "split = splitGenotypes(df)"
   ]
  },
  {
   "cell_type": "code",
   "execution_count": 158,
   "metadata": {},
   "outputs": [],
   "source": [
    "df = df.merge(split, left_index = True, right_index = True)\n"
   ]
  },
  {
   "cell_type": "code",
   "execution_count": 167,
   "metadata": {},
   "outputs": [
    {
     "ename": "TypeError",
     "evalue": "cannot convert the series to <class 'float'>",
     "output_type": "error",
     "traceback": [
      "\u001b[0;31m---------------------------------------------------------------------------\u001b[0m",
      "\u001b[0;31mTypeError\u001b[0m                                 Traceback (most recent call last)",
      "\u001b[0;32m<ipython-input-167-7db8de467a40>\u001b[0m in \u001b[0;36m<module>\u001b[0;34m\u001b[0m\n\u001b[0;32m----> 1\u001b[0;31m \u001b[0mdf\u001b[0m\u001b[0;34m[\u001b[0m\u001b[0;34m[\u001b[0m\u001b[0;34m'E'\u001b[0m\u001b[0;34m]\u001b[0m\u001b[0;34m]\u001b[0m\u001b[0;34m.\u001b[0m\u001b[0mapply\u001b[0m\u001b[0;34m(\u001b[0m\u001b[0;32mlambda\u001b[0m \u001b[0mx\u001b[0m\u001b[0;34m:\u001b[0m \u001b[0mis_number\u001b[0m\u001b[0;34m(\u001b[0m\u001b[0mx\u001b[0m\u001b[0;34m)\u001b[0m\u001b[0;34m)\u001b[0m\u001b[0;34m\u001b[0m\u001b[0;34m\u001b[0m\u001b[0m\n\u001b[0m",
      "\u001b[0;32m~/.conda/envs/colonyEnv/lib/python3.8/site-packages/pandas/core/frame.py\u001b[0m in \u001b[0;36mapply\u001b[0;34m(self, func, axis, raw, result_type, args, **kwds)\u001b[0m\n\u001b[1;32m   6873\u001b[0m             \u001b[0mkwds\u001b[0m\u001b[0;34m=\u001b[0m\u001b[0mkwds\u001b[0m\u001b[0;34m,\u001b[0m\u001b[0;34m\u001b[0m\u001b[0;34m\u001b[0m\u001b[0m\n\u001b[1;32m   6874\u001b[0m         )\n\u001b[0;32m-> 6875\u001b[0;31m         \u001b[0;32mreturn\u001b[0m \u001b[0mop\u001b[0m\u001b[0;34m.\u001b[0m\u001b[0mget_result\u001b[0m\u001b[0;34m(\u001b[0m\u001b[0;34m)\u001b[0m\u001b[0;34m\u001b[0m\u001b[0;34m\u001b[0m\u001b[0m\n\u001b[0m\u001b[1;32m   6876\u001b[0m \u001b[0;34m\u001b[0m\u001b[0m\n\u001b[1;32m   6877\u001b[0m     \u001b[0;32mdef\u001b[0m \u001b[0mapplymap\u001b[0m\u001b[0;34m(\u001b[0m\u001b[0mself\u001b[0m\u001b[0;34m,\u001b[0m \u001b[0mfunc\u001b[0m\u001b[0;34m)\u001b[0m \u001b[0;34m->\u001b[0m \u001b[0;34m\"DataFrame\"\u001b[0m\u001b[0;34m:\u001b[0m\u001b[0;34m\u001b[0m\u001b[0;34m\u001b[0m\u001b[0m\n",
      "\u001b[0;32m~/.conda/envs/colonyEnv/lib/python3.8/site-packages/pandas/core/apply.py\u001b[0m in \u001b[0;36mget_result\u001b[0;34m(self)\u001b[0m\n\u001b[1;32m    184\u001b[0m             \u001b[0;32mreturn\u001b[0m \u001b[0mself\u001b[0m\u001b[0;34m.\u001b[0m\u001b[0mapply_raw\u001b[0m\u001b[0;34m(\u001b[0m\u001b[0;34m)\u001b[0m\u001b[0;34m\u001b[0m\u001b[0;34m\u001b[0m\u001b[0m\n\u001b[1;32m    185\u001b[0m \u001b[0;34m\u001b[0m\u001b[0m\n\u001b[0;32m--> 186\u001b[0;31m         \u001b[0;32mreturn\u001b[0m \u001b[0mself\u001b[0m\u001b[0;34m.\u001b[0m\u001b[0mapply_standard\u001b[0m\u001b[0;34m(\u001b[0m\u001b[0;34m)\u001b[0m\u001b[0;34m\u001b[0m\u001b[0;34m\u001b[0m\u001b[0m\n\u001b[0m\u001b[1;32m    187\u001b[0m \u001b[0;34m\u001b[0m\u001b[0m\n\u001b[1;32m    188\u001b[0m     \u001b[0;32mdef\u001b[0m \u001b[0mapply_empty_result\u001b[0m\u001b[0;34m(\u001b[0m\u001b[0mself\u001b[0m\u001b[0;34m)\u001b[0m\u001b[0;34m:\u001b[0m\u001b[0;34m\u001b[0m\u001b[0;34m\u001b[0m\u001b[0m\n",
      "\u001b[0;32m~/.conda/envs/colonyEnv/lib/python3.8/site-packages/pandas/core/apply.py\u001b[0m in \u001b[0;36mapply_standard\u001b[0;34m(self)\u001b[0m\n\u001b[1;32m    293\u001b[0m \u001b[0;34m\u001b[0m\u001b[0m\n\u001b[1;32m    294\u001b[0m             \u001b[0;32mtry\u001b[0m\u001b[0;34m:\u001b[0m\u001b[0;34m\u001b[0m\u001b[0;34m\u001b[0m\u001b[0m\n\u001b[0;32m--> 295\u001b[0;31m                 result = libreduction.compute_reduction(\n\u001b[0m\u001b[1;32m    296\u001b[0m                     \u001b[0mvalues\u001b[0m\u001b[0;34m,\u001b[0m \u001b[0mself\u001b[0m\u001b[0;34m.\u001b[0m\u001b[0mf\u001b[0m\u001b[0;34m,\u001b[0m \u001b[0maxis\u001b[0m\u001b[0;34m=\u001b[0m\u001b[0mself\u001b[0m\u001b[0;34m.\u001b[0m\u001b[0maxis\u001b[0m\u001b[0;34m,\u001b[0m \u001b[0mdummy\u001b[0m\u001b[0;34m=\u001b[0m\u001b[0mdummy\u001b[0m\u001b[0;34m,\u001b[0m \u001b[0mlabels\u001b[0m\u001b[0;34m=\u001b[0m\u001b[0mlabels\u001b[0m\u001b[0;34m\u001b[0m\u001b[0;34m\u001b[0m\u001b[0m\n\u001b[1;32m    297\u001b[0m                 )\n",
      "\u001b[0;32mpandas/_libs/reduction.pyx\u001b[0m in \u001b[0;36mpandas._libs.reduction.compute_reduction\u001b[0;34m()\u001b[0m\n",
      "\u001b[0;32mpandas/_libs/reduction.pyx\u001b[0m in \u001b[0;36mpandas._libs.reduction.Reducer.get_result\u001b[0;34m()\u001b[0m\n",
      "\u001b[0;32m<ipython-input-167-7db8de467a40>\u001b[0m in \u001b[0;36m<lambda>\u001b[0;34m(x)\u001b[0m\n\u001b[0;32m----> 1\u001b[0;31m \u001b[0mdf\u001b[0m\u001b[0;34m[\u001b[0m\u001b[0;34m[\u001b[0m\u001b[0;34m'E'\u001b[0m\u001b[0;34m]\u001b[0m\u001b[0;34m]\u001b[0m\u001b[0;34m.\u001b[0m\u001b[0mapply\u001b[0m\u001b[0;34m(\u001b[0m\u001b[0;32mlambda\u001b[0m \u001b[0mx\u001b[0m\u001b[0;34m:\u001b[0m \u001b[0mis_number\u001b[0m\u001b[0;34m(\u001b[0m\u001b[0mx\u001b[0m\u001b[0;34m)\u001b[0m\u001b[0;34m)\u001b[0m\u001b[0;34m\u001b[0m\u001b[0;34m\u001b[0m\u001b[0m\n\u001b[0m",
      "\u001b[0;32m~/Documents/KalhorLab/HopkinsMarcColony/ColonyMgmt.py\u001b[0m in \u001b[0;36mis_number\u001b[0;34m(s)\u001b[0m\n\u001b[1;32m     27\u001b[0m \u001b[0;32mdef\u001b[0m \u001b[0mis_number\u001b[0m\u001b[0;34m(\u001b[0m\u001b[0ms\u001b[0m\u001b[0;34m)\u001b[0m\u001b[0;34m:\u001b[0m\u001b[0;34m\u001b[0m\u001b[0;34m\u001b[0m\u001b[0m\n\u001b[1;32m     28\u001b[0m     \u001b[0;32mtry\u001b[0m\u001b[0;34m:\u001b[0m\u001b[0;34m\u001b[0m\u001b[0;34m\u001b[0m\u001b[0m\n\u001b[0;32m---> 29\u001b[0;31m         \u001b[0mfloat\u001b[0m\u001b[0;34m(\u001b[0m\u001b[0ms\u001b[0m\u001b[0;34m)\u001b[0m\u001b[0;34m\u001b[0m\u001b[0;34m\u001b[0m\u001b[0m\n\u001b[0m\u001b[1;32m     30\u001b[0m         \u001b[0;32mreturn\u001b[0m \u001b[0ms\u001b[0m\u001b[0;34m\u001b[0m\u001b[0;34m\u001b[0m\u001b[0m\n\u001b[1;32m     31\u001b[0m     \u001b[0;32mexcept\u001b[0m \u001b[0mValueError\u001b[0m\u001b[0;34m:\u001b[0m\u001b[0;34m\u001b[0m\u001b[0;34m\u001b[0m\u001b[0m\n",
      "\u001b[0;32m~/.conda/envs/colonyEnv/lib/python3.8/site-packages/pandas/core/series.py\u001b[0m in \u001b[0;36mwrapper\u001b[0;34m(self)\u001b[0m\n\u001b[1;32m    110\u001b[0m         \u001b[0;32mif\u001b[0m \u001b[0mlen\u001b[0m\u001b[0;34m(\u001b[0m\u001b[0mself\u001b[0m\u001b[0;34m)\u001b[0m \u001b[0;34m==\u001b[0m \u001b[0;36m1\u001b[0m\u001b[0;34m:\u001b[0m\u001b[0;34m\u001b[0m\u001b[0;34m\u001b[0m\u001b[0m\n\u001b[1;32m    111\u001b[0m             \u001b[0;32mreturn\u001b[0m \u001b[0mconverter\u001b[0m\u001b[0;34m(\u001b[0m\u001b[0mself\u001b[0m\u001b[0;34m.\u001b[0m\u001b[0miloc\u001b[0m\u001b[0;34m[\u001b[0m\u001b[0;36m0\u001b[0m\u001b[0;34m]\u001b[0m\u001b[0;34m)\u001b[0m\u001b[0;34m\u001b[0m\u001b[0;34m\u001b[0m\u001b[0m\n\u001b[0;32m--> 112\u001b[0;31m         \u001b[0;32mraise\u001b[0m \u001b[0mTypeError\u001b[0m\u001b[0;34m(\u001b[0m\u001b[0;34mf\"cannot convert the series to {converter}\"\u001b[0m\u001b[0;34m)\u001b[0m\u001b[0;34m\u001b[0m\u001b[0;34m\u001b[0m\u001b[0m\n\u001b[0m\u001b[1;32m    113\u001b[0m \u001b[0;34m\u001b[0m\u001b[0m\n\u001b[1;32m    114\u001b[0m     \u001b[0mwrapper\u001b[0m\u001b[0;34m.\u001b[0m\u001b[0m__name__\u001b[0m \u001b[0;34m=\u001b[0m \u001b[0;34mf\"__{converter.__name__}__\"\u001b[0m\u001b[0;34m\u001b[0m\u001b[0;34m\u001b[0m\u001b[0m\n",
      "\u001b[0;31mTypeError\u001b[0m: cannot convert the series to <class 'float'>"
     ]
    }
   ],
   "source": [
    "df['E']].apply(lambda x: is_number(x))"
   ]
  },
  {
   "cell_type": "code",
   "execution_count": 143,
   "metadata": {},
   "outputs": [
    {
     "data": {
      "text/html": [
       "<div>\n",
       "<style scoped>\n",
       "    .dataframe tbody tr th:only-of-type {\n",
       "        vertical-align: middle;\n",
       "    }\n",
       "\n",
       "    .dataframe tbody tr th {\n",
       "        vertical-align: top;\n",
       "    }\n",
       "\n",
       "    .dataframe thead th {\n",
       "        text-align: right;\n",
       "    }\n",
       "</style>\n",
       "<table border=\"1\" class=\"dataframe\">\n",
       "  <thead>\n",
       "    <tr style=\"text-align: right;\">\n",
       "      <th></th>\n",
       "      <th>Tag</th>\n",
       "      <th>Cage</th>\n",
       "      <th>Ear</th>\n",
       "      <th>Sex</th>\n",
       "      <th>Color</th>\n",
       "      <th>Name</th>\n",
       "      <th>Genotype</th>\n",
       "      <th>DOB</th>\n",
       "      <th>DOD</th>\n",
       "      <th>Father</th>\n",
       "      <th>...</th>\n",
       "      <th>Column</th>\n",
       "      <th>Position</th>\n",
       "      <th>parsedDOD</th>\n",
       "      <th>DispCount</th>\n",
       "      <th>CageSize</th>\n",
       "      <th>DispPercent</th>\n",
       "      <th>E</th>\n",
       "      <th>I</th>\n",
       "      <th>S</th>\n",
       "      <th>6</th>\n",
       "    </tr>\n",
       "  </thead>\n",
       "  <tbody>\n",
       "    <tr>\n",
       "      <th>89</th>\n",
       "      <td>5048</td>\n",
       "      <td>AA0010</td>\n",
       "      <td>'+/t</td>\n",
       "      <td>F</td>\n",
       "      <td>Agouti</td>\n",
       "      <td>NaN</td>\n",
       "      <td>3E,7I,2S,NAina</td>\n",
       "      <td>2019-12-30</td>\n",
       "      <td>dispensible</td>\n",
       "      <td>2620</td>\n",
       "      <td>...</td>\n",
       "      <td>01</td>\n",
       "      <td>G1</td>\n",
       "      <td>NaT</td>\n",
       "      <td>3.0</td>\n",
       "      <td>5</td>\n",
       "      <td>0.600000</td>\n",
       "      <td>3</td>\n",
       "      <td>7</td>\n",
       "      <td>2</td>\n",
       "      <td>NAina</td>\n",
       "    </tr>\n",
       "    <tr>\n",
       "      <th>98</th>\n",
       "      <td>5043</td>\n",
       "      <td>AA0013</td>\n",
       "      <td>'++/t</td>\n",
       "      <td>M</td>\n",
       "      <td>NaN</td>\n",
       "      <td>NaN</td>\n",
       "      <td>4E,6I,3S,NAina</td>\n",
       "      <td>2019-12-30</td>\n",
       "      <td>dispensible</td>\n",
       "      <td>2620</td>\n",
       "      <td>...</td>\n",
       "      <td>01</td>\n",
       "      <td>B1</td>\n",
       "      <td>NaT</td>\n",
       "      <td>1.0</td>\n",
       "      <td>3</td>\n",
       "      <td>0.333333</td>\n",
       "      <td>4</td>\n",
       "      <td>6</td>\n",
       "      <td>3</td>\n",
       "      <td>NAina</td>\n",
       "    </tr>\n",
       "    <tr>\n",
       "      <th>100</th>\n",
       "      <td>5045</td>\n",
       "      <td>AA????</td>\n",
       "      <td>NaN</td>\n",
       "      <td>M</td>\n",
       "      <td>NaN</td>\n",
       "      <td>NaN</td>\n",
       "      <td>3E,6I,4S,NAina</td>\n",
       "      <td>2019-12-30</td>\n",
       "      <td>dispensible</td>\n",
       "      <td>2620</td>\n",
       "      <td>...</td>\n",
       "      <td>01</td>\n",
       "      <td>D1</td>\n",
       "      <td>NaT</td>\n",
       "      <td>2.0</td>\n",
       "      <td>2</td>\n",
       "      <td>1.000000</td>\n",
       "      <td>3</td>\n",
       "      <td>6</td>\n",
       "      <td>4</td>\n",
       "      <td>NAina</td>\n",
       "    </tr>\n",
       "    <tr>\n",
       "      <th>101</th>\n",
       "      <td>5046</td>\n",
       "      <td>AA????</td>\n",
       "      <td>NaN</td>\n",
       "      <td>M</td>\n",
       "      <td>NaN</td>\n",
       "      <td>NaN</td>\n",
       "      <td>4E,6I,4S,NAina</td>\n",
       "      <td>2019-12-30</td>\n",
       "      <td>dispensible</td>\n",
       "      <td>2620</td>\n",
       "      <td>...</td>\n",
       "      <td>01</td>\n",
       "      <td>E1</td>\n",
       "      <td>NaT</td>\n",
       "      <td>2.0</td>\n",
       "      <td>2</td>\n",
       "      <td>1.000000</td>\n",
       "      <td>4</td>\n",
       "      <td>6</td>\n",
       "      <td>4</td>\n",
       "      <td>NAina</td>\n",
       "    </tr>\n",
       "    <tr>\n",
       "      <th>103</th>\n",
       "      <td>5051</td>\n",
       "      <td>AA0017</td>\n",
       "      <td>'+/t</td>\n",
       "      <td>F</td>\n",
       "      <td>NaN</td>\n",
       "      <td>NaN</td>\n",
       "      <td>2E,8I,3S,NAina</td>\n",
       "      <td>2019-12-31</td>\n",
       "      <td>dispensible</td>\n",
       "      <td>2463</td>\n",
       "      <td>...</td>\n",
       "      <td>02</td>\n",
       "      <td>B2</td>\n",
       "      <td>NaT</td>\n",
       "      <td>3.0</td>\n",
       "      <td>5</td>\n",
       "      <td>0.600000</td>\n",
       "      <td>2</td>\n",
       "      <td>8</td>\n",
       "      <td>3</td>\n",
       "      <td>NAina</td>\n",
       "    </tr>\n",
       "    <tr>\n",
       "      <th>106</th>\n",
       "      <td>5054</td>\n",
       "      <td>AA0017</td>\n",
       "      <td>'t/++</td>\n",
       "      <td>F</td>\n",
       "      <td>NaN</td>\n",
       "      <td>NaN</td>\n",
       "      <td>3E,7I,2S,NAina</td>\n",
       "      <td>2019-12-31</td>\n",
       "      <td>dispensible</td>\n",
       "      <td>2463</td>\n",
       "      <td>...</td>\n",
       "      <td>02</td>\n",
       "      <td>E2</td>\n",
       "      <td>NaT</td>\n",
       "      <td>3.0</td>\n",
       "      <td>5</td>\n",
       "      <td>0.600000</td>\n",
       "      <td>3</td>\n",
       "      <td>7</td>\n",
       "      <td>2</td>\n",
       "      <td>NAina</td>\n",
       "    </tr>\n",
       "    <tr>\n",
       "      <th>107</th>\n",
       "      <td>5055</td>\n",
       "      <td>AA0017</td>\n",
       "      <td>'notch-5</td>\n",
       "      <td>F</td>\n",
       "      <td>NaN</td>\n",
       "      <td>NaN</td>\n",
       "      <td>3E,7I,2S,NAina</td>\n",
       "      <td>2019-12-31</td>\n",
       "      <td>dispensible</td>\n",
       "      <td>2463</td>\n",
       "      <td>...</td>\n",
       "      <td>02</td>\n",
       "      <td>F2</td>\n",
       "      <td>NaT</td>\n",
       "      <td>3.0</td>\n",
       "      <td>5</td>\n",
       "      <td>0.600000</td>\n",
       "      <td>3</td>\n",
       "      <td>7</td>\n",
       "      <td>2</td>\n",
       "      <td>NAina</td>\n",
       "    </tr>\n",
       "    <tr>\n",
       "      <th>108</th>\n",
       "      <td>5056</td>\n",
       "      <td>AA0018</td>\n",
       "      <td>'+/t</td>\n",
       "      <td>M</td>\n",
       "      <td>NaN</td>\n",
       "      <td>NaN</td>\n",
       "      <td>4E,6I,2S,NAina</td>\n",
       "      <td>2019-12-31</td>\n",
       "      <td>dispensible</td>\n",
       "      <td>2620</td>\n",
       "      <td>...</td>\n",
       "      <td>02</td>\n",
       "      <td>G2</td>\n",
       "      <td>NaT</td>\n",
       "      <td>3.0</td>\n",
       "      <td>3</td>\n",
       "      <td>1.000000</td>\n",
       "      <td>4</td>\n",
       "      <td>6</td>\n",
       "      <td>2</td>\n",
       "      <td>NAina</td>\n",
       "    </tr>\n",
       "    <tr>\n",
       "      <th>109</th>\n",
       "      <td>5057</td>\n",
       "      <td>AA0018</td>\n",
       "      <td>'++/t</td>\n",
       "      <td>M</td>\n",
       "      <td>NaN</td>\n",
       "      <td>NaN</td>\n",
       "      <td>NaN</td>\n",
       "      <td>2019-12-31</td>\n",
       "      <td>dispensible</td>\n",
       "      <td>2620</td>\n",
       "      <td>...</td>\n",
       "      <td>02</td>\n",
       "      <td>H2</td>\n",
       "      <td>NaT</td>\n",
       "      <td>3.0</td>\n",
       "      <td>3</td>\n",
       "      <td>1.000000</td>\n",
       "      <td>NaN</td>\n",
       "      <td>NaN</td>\n",
       "      <td>NaN</td>\n",
       "      <td>NaN</td>\n",
       "    </tr>\n",
       "    <tr>\n",
       "      <th>110</th>\n",
       "      <td>5058</td>\n",
       "      <td>AA0018</td>\n",
       "      <td>'t/+</td>\n",
       "      <td>M</td>\n",
       "      <td>NaN</td>\n",
       "      <td>NaN</td>\n",
       "      <td>3E,5I,3S,NAina</td>\n",
       "      <td>2019-12-31</td>\n",
       "      <td>dispensible</td>\n",
       "      <td>2620</td>\n",
       "      <td>...</td>\n",
       "      <td>03</td>\n",
       "      <td>A3</td>\n",
       "      <td>NaT</td>\n",
       "      <td>3.0</td>\n",
       "      <td>3</td>\n",
       "      <td>1.000000</td>\n",
       "      <td>3</td>\n",
       "      <td>5</td>\n",
       "      <td>3</td>\n",
       "      <td>NAina</td>\n",
       "    </tr>\n",
       "    <tr>\n",
       "      <th>111</th>\n",
       "      <td>5059</td>\n",
       "      <td>AA0019</td>\n",
       "      <td>'+/t</td>\n",
       "      <td>M</td>\n",
       "      <td>NaN</td>\n",
       "      <td>NaN</td>\n",
       "      <td>3E,6I,2S,NAina</td>\n",
       "      <td>2019-12-31</td>\n",
       "      <td>dispensible</td>\n",
       "      <td>2620</td>\n",
       "      <td>...</td>\n",
       "      <td>03</td>\n",
       "      <td>B3</td>\n",
       "      <td>NaT</td>\n",
       "      <td>3.0</td>\n",
       "      <td>3</td>\n",
       "      <td>1.000000</td>\n",
       "      <td>3</td>\n",
       "      <td>6</td>\n",
       "      <td>2</td>\n",
       "      <td>NAina</td>\n",
       "    </tr>\n",
       "    <tr>\n",
       "      <th>112</th>\n",
       "      <td>5060</td>\n",
       "      <td>AA0019</td>\n",
       "      <td>'++/t</td>\n",
       "      <td>M</td>\n",
       "      <td>NaN</td>\n",
       "      <td>NaN</td>\n",
       "      <td>4E,7I,2S,NAina</td>\n",
       "      <td>2019-12-31</td>\n",
       "      <td>dispensible</td>\n",
       "      <td>2620</td>\n",
       "      <td>...</td>\n",
       "      <td>03</td>\n",
       "      <td>C3</td>\n",
       "      <td>NaT</td>\n",
       "      <td>3.0</td>\n",
       "      <td>3</td>\n",
       "      <td>1.000000</td>\n",
       "      <td>4</td>\n",
       "      <td>7</td>\n",
       "      <td>2</td>\n",
       "      <td>NAina</td>\n",
       "    </tr>\n",
       "    <tr>\n",
       "      <th>113</th>\n",
       "      <td>5061</td>\n",
       "      <td>AA0019</td>\n",
       "      <td>'t/+</td>\n",
       "      <td>M</td>\n",
       "      <td>NaN</td>\n",
       "      <td>NaN</td>\n",
       "      <td>4E,6I,3S,NAina</td>\n",
       "      <td>2019-12-31</td>\n",
       "      <td>dispensible</td>\n",
       "      <td>2620</td>\n",
       "      <td>...</td>\n",
       "      <td>03</td>\n",
       "      <td>D3</td>\n",
       "      <td>NaT</td>\n",
       "      <td>3.0</td>\n",
       "      <td>3</td>\n",
       "      <td>1.000000</td>\n",
       "      <td>4</td>\n",
       "      <td>6</td>\n",
       "      <td>3</td>\n",
       "      <td>NAina</td>\n",
       "    </tr>\n",
       "    <tr>\n",
       "      <th>114</th>\n",
       "      <td>5062</td>\n",
       "      <td>AA0020</td>\n",
       "      <td>'+/t</td>\n",
       "      <td>F</td>\n",
       "      <td>NaN</td>\n",
       "      <td>NaN</td>\n",
       "      <td>4E,5I,4S,NAina</td>\n",
       "      <td>2019-12-31</td>\n",
       "      <td>dispensible</td>\n",
       "      <td>2620</td>\n",
       "      <td>...</td>\n",
       "      <td>03</td>\n",
       "      <td>E3</td>\n",
       "      <td>NaT</td>\n",
       "      <td>4.0</td>\n",
       "      <td>5</td>\n",
       "      <td>0.800000</td>\n",
       "      <td>4</td>\n",
       "      <td>5</td>\n",
       "      <td>4</td>\n",
       "      <td>NAina</td>\n",
       "    </tr>\n",
       "    <tr>\n",
       "      <th>116</th>\n",
       "      <td>5064</td>\n",
       "      <td>AA0020</td>\n",
       "      <td>'t/+</td>\n",
       "      <td>F</td>\n",
       "      <td>NaN</td>\n",
       "      <td>NaN</td>\n",
       "      <td>3E,4I,3S,NAina</td>\n",
       "      <td>2019-12-31</td>\n",
       "      <td>dispensible</td>\n",
       "      <td>2620</td>\n",
       "      <td>...</td>\n",
       "      <td>03</td>\n",
       "      <td>G3</td>\n",
       "      <td>NaT</td>\n",
       "      <td>4.0</td>\n",
       "      <td>5</td>\n",
       "      <td>0.800000</td>\n",
       "      <td>3</td>\n",
       "      <td>4</td>\n",
       "      <td>3</td>\n",
       "      <td>NAina</td>\n",
       "    </tr>\n",
       "    <tr>\n",
       "      <th>117</th>\n",
       "      <td>5065</td>\n",
       "      <td>AA0020</td>\n",
       "      <td>'t/++</td>\n",
       "      <td>F</td>\n",
       "      <td>NaN</td>\n",
       "      <td>NaN</td>\n",
       "      <td>4E,5I,4S,NAina</td>\n",
       "      <td>2019-12-31</td>\n",
       "      <td>dispensible</td>\n",
       "      <td>2620</td>\n",
       "      <td>...</td>\n",
       "      <td>03</td>\n",
       "      <td>H3</td>\n",
       "      <td>NaT</td>\n",
       "      <td>4.0</td>\n",
       "      <td>5</td>\n",
       "      <td>0.800000</td>\n",
       "      <td>4</td>\n",
       "      <td>5</td>\n",
       "      <td>4</td>\n",
       "      <td>NAina</td>\n",
       "    </tr>\n",
       "    <tr>\n",
       "      <th>118</th>\n",
       "      <td>5066</td>\n",
       "      <td>AA0020</td>\n",
       "      <td>'notch-5</td>\n",
       "      <td>F</td>\n",
       "      <td>NaN</td>\n",
       "      <td>NaN</td>\n",
       "      <td>4E,6I,3S,NAina</td>\n",
       "      <td>2019-12-31</td>\n",
       "      <td>dispensible</td>\n",
       "      <td>2620</td>\n",
       "      <td>...</td>\n",
       "      <td>04</td>\n",
       "      <td>B4</td>\n",
       "      <td>NaT</td>\n",
       "      <td>4.0</td>\n",
       "      <td>5</td>\n",
       "      <td>0.800000</td>\n",
       "      <td>4</td>\n",
       "      <td>6</td>\n",
       "      <td>3</td>\n",
       "      <td>NAina</td>\n",
       "    </tr>\n",
       "    <tr>\n",
       "      <th>119</th>\n",
       "      <td>5067</td>\n",
       "      <td>AA0021</td>\n",
       "      <td>'+/t</td>\n",
       "      <td>M</td>\n",
       "      <td>NaN</td>\n",
       "      <td>NaN</td>\n",
       "      <td>4E,7I,3S,NAina</td>\n",
       "      <td>2020-01-03</td>\n",
       "      <td>dispensible</td>\n",
       "      <td>2463</td>\n",
       "      <td>...</td>\n",
       "      <td>04</td>\n",
       "      <td>C4</td>\n",
       "      <td>NaT</td>\n",
       "      <td>1.0</td>\n",
       "      <td>2</td>\n",
       "      <td>0.500000</td>\n",
       "      <td>4</td>\n",
       "      <td>7</td>\n",
       "      <td>3</td>\n",
       "      <td>NAina</td>\n",
       "    </tr>\n",
       "    <tr>\n",
       "      <th>165</th>\n",
       "      <td>5117</td>\n",
       "      <td>AA0039</td>\n",
       "      <td>'+/t</td>\n",
       "      <td>M</td>\n",
       "      <td>Agouti</td>\n",
       "      <td>NaN</td>\n",
       "      <td>4E,5I,3S,NAina</td>\n",
       "      <td>2020-01-30</td>\n",
       "      <td>dispensible</td>\n",
       "      <td>2620</td>\n",
       "      <td>...</td>\n",
       "      <td>01</td>\n",
       "      <td>A1</td>\n",
       "      <td>NaT</td>\n",
       "      <td>1.0</td>\n",
       "      <td>2</td>\n",
       "      <td>0.500000</td>\n",
       "      <td>4</td>\n",
       "      <td>5</td>\n",
       "      <td>3</td>\n",
       "      <td>NAina</td>\n",
       "    </tr>\n",
       "    <tr>\n",
       "      <th>167</th>\n",
       "      <td>5119</td>\n",
       "      <td>AA0040</td>\n",
       "      <td>'+/t</td>\n",
       "      <td>F</td>\n",
       "      <td>Agouti</td>\n",
       "      <td>NaN</td>\n",
       "      <td>4E,5I,2S,NAina</td>\n",
       "      <td>2020-01-30</td>\n",
       "      <td>dispensible</td>\n",
       "      <td>2620</td>\n",
       "      <td>...</td>\n",
       "      <td>01</td>\n",
       "      <td>C1</td>\n",
       "      <td>NaT</td>\n",
       "      <td>1.0</td>\n",
       "      <td>2</td>\n",
       "      <td>0.500000</td>\n",
       "      <td>4</td>\n",
       "      <td>5</td>\n",
       "      <td>2</td>\n",
       "      <td>NAina</td>\n",
       "    </tr>\n",
       "    <tr>\n",
       "      <th>170</th>\n",
       "      <td>5122</td>\n",
       "      <td>AA0041</td>\n",
       "      <td>'++/t</td>\n",
       "      <td>F</td>\n",
       "      <td>Agouti</td>\n",
       "      <td>NaN</td>\n",
       "      <td>NaN</td>\n",
       "      <td>2020-01-31</td>\n",
       "      <td>dispensible</td>\n",
       "      <td>2620</td>\n",
       "      <td>...</td>\n",
       "      <td>01</td>\n",
       "      <td>F1</td>\n",
       "      <td>NaT</td>\n",
       "      <td>3.0</td>\n",
       "      <td>4</td>\n",
       "      <td>0.750000</td>\n",
       "      <td>NaN</td>\n",
       "      <td>NaN</td>\n",
       "      <td>NaN</td>\n",
       "      <td>NaN</td>\n",
       "    </tr>\n",
       "    <tr>\n",
       "      <th>171</th>\n",
       "      <td>5123</td>\n",
       "      <td>AA0041</td>\n",
       "      <td>'t/+</td>\n",
       "      <td>F</td>\n",
       "      <td>Agouti</td>\n",
       "      <td>NaN</td>\n",
       "      <td>2E,8I,4S,NAina</td>\n",
       "      <td>2020-01-31</td>\n",
       "      <td>dispensible</td>\n",
       "      <td>2620</td>\n",
       "      <td>...</td>\n",
       "      <td>01</td>\n",
       "      <td>G1</td>\n",
       "      <td>NaT</td>\n",
       "      <td>3.0</td>\n",
       "      <td>4</td>\n",
       "      <td>0.750000</td>\n",
       "      <td>2</td>\n",
       "      <td>8</td>\n",
       "      <td>4</td>\n",
       "      <td>NAina</td>\n",
       "    </tr>\n",
       "    <tr>\n",
       "      <th>172</th>\n",
       "      <td>5124</td>\n",
       "      <td>AA0041</td>\n",
       "      <td>'t/++</td>\n",
       "      <td>F</td>\n",
       "      <td>Agouti</td>\n",
       "      <td>NaN</td>\n",
       "      <td>2E,7I,4S,NAina</td>\n",
       "      <td>2020-01-31</td>\n",
       "      <td>dispensible</td>\n",
       "      <td>2620</td>\n",
       "      <td>...</td>\n",
       "      <td>01</td>\n",
       "      <td>H1</td>\n",
       "      <td>NaT</td>\n",
       "      <td>3.0</td>\n",
       "      <td>4</td>\n",
       "      <td>0.750000</td>\n",
       "      <td>2</td>\n",
       "      <td>7</td>\n",
       "      <td>4</td>\n",
       "      <td>NAina</td>\n",
       "    </tr>\n",
       "    <tr>\n",
       "      <th>173</th>\n",
       "      <td>5125</td>\n",
       "      <td>AA0042</td>\n",
       "      <td>'+/t</td>\n",
       "      <td>M</td>\n",
       "      <td>Agouti</td>\n",
       "      <td>NaN</td>\n",
       "      <td>4E,5I,4S,NAina</td>\n",
       "      <td>2020-01-31</td>\n",
       "      <td>dispensible</td>\n",
       "      <td>2620</td>\n",
       "      <td>...</td>\n",
       "      <td>02</td>\n",
       "      <td>A2</td>\n",
       "      <td>NaT</td>\n",
       "      <td>3.0</td>\n",
       "      <td>3</td>\n",
       "      <td>1.000000</td>\n",
       "      <td>4</td>\n",
       "      <td>5</td>\n",
       "      <td>4</td>\n",
       "      <td>NAina</td>\n",
       "    </tr>\n",
       "    <tr>\n",
       "      <th>174</th>\n",
       "      <td>5126</td>\n",
       "      <td>AA0042</td>\n",
       "      <td>'++/t</td>\n",
       "      <td>M</td>\n",
       "      <td>Agouti</td>\n",
       "      <td>NaN</td>\n",
       "      <td>4E,6I,3S,NAina</td>\n",
       "      <td>2020-01-31</td>\n",
       "      <td>dispensible</td>\n",
       "      <td>2620</td>\n",
       "      <td>...</td>\n",
       "      <td>02</td>\n",
       "      <td>B2</td>\n",
       "      <td>NaT</td>\n",
       "      <td>3.0</td>\n",
       "      <td>3</td>\n",
       "      <td>1.000000</td>\n",
       "      <td>4</td>\n",
       "      <td>6</td>\n",
       "      <td>3</td>\n",
       "      <td>NAina</td>\n",
       "    </tr>\n",
       "    <tr>\n",
       "      <th>175</th>\n",
       "      <td>5127</td>\n",
       "      <td>AA0042</td>\n",
       "      <td>'t/+</td>\n",
       "      <td>M</td>\n",
       "      <td>Agouti</td>\n",
       "      <td>NaN</td>\n",
       "      <td>3E,6I,3S,NAina</td>\n",
       "      <td>2020-01-31</td>\n",
       "      <td>dispensible</td>\n",
       "      <td>2620</td>\n",
       "      <td>...</td>\n",
       "      <td>02</td>\n",
       "      <td>C2</td>\n",
       "      <td>NaT</td>\n",
       "      <td>3.0</td>\n",
       "      <td>3</td>\n",
       "      <td>1.000000</td>\n",
       "      <td>3</td>\n",
       "      <td>6</td>\n",
       "      <td>3</td>\n",
       "      <td>NAina</td>\n",
       "    </tr>\n",
       "    <tr>\n",
       "      <th>176</th>\n",
       "      <td>5128</td>\n",
       "      <td>AA0043</td>\n",
       "      <td>'+/t</td>\n",
       "      <td>M</td>\n",
       "      <td>Agouti</td>\n",
       "      <td>NaN</td>\n",
       "      <td>3E,7I,4S,NAina</td>\n",
       "      <td>2020-01-31</td>\n",
       "      <td>dispensible</td>\n",
       "      <td>2620</td>\n",
       "      <td>...</td>\n",
       "      <td>02</td>\n",
       "      <td>D2</td>\n",
       "      <td>NaT</td>\n",
       "      <td>2.0</td>\n",
       "      <td>3</td>\n",
       "      <td>0.666667</td>\n",
       "      <td>3</td>\n",
       "      <td>7</td>\n",
       "      <td>4</td>\n",
       "      <td>NAina</td>\n",
       "    </tr>\n",
       "    <tr>\n",
       "      <th>177</th>\n",
       "      <td>5129</td>\n",
       "      <td>AA0043</td>\n",
       "      <td>'++/t</td>\n",
       "      <td>M</td>\n",
       "      <td>Agouti</td>\n",
       "      <td>NaN</td>\n",
       "      <td>2E,6I,3S,NAina</td>\n",
       "      <td>2020-01-31</td>\n",
       "      <td>dispensible</td>\n",
       "      <td>2620</td>\n",
       "      <td>...</td>\n",
       "      <td>02</td>\n",
       "      <td>E2</td>\n",
       "      <td>NaT</td>\n",
       "      <td>2.0</td>\n",
       "      <td>3</td>\n",
       "      <td>0.666667</td>\n",
       "      <td>2</td>\n",
       "      <td>6</td>\n",
       "      <td>3</td>\n",
       "      <td>NAina</td>\n",
       "    </tr>\n",
       "    <tr>\n",
       "      <th>179</th>\n",
       "      <td>5132</td>\n",
       "      <td>AA0059</td>\n",
       "      <td>'+/t</td>\n",
       "      <td>F</td>\n",
       "      <td>Agouti</td>\n",
       "      <td>NaN</td>\n",
       "      <td>3E,7I,2S,NAina</td>\n",
       "      <td>2020-01-31</td>\n",
       "      <td>dispensible</td>\n",
       "      <td>2463</td>\n",
       "      <td>...</td>\n",
       "      <td>02</td>\n",
       "      <td>H2</td>\n",
       "      <td>NaT</td>\n",
       "      <td>2.0</td>\n",
       "      <td>4</td>\n",
       "      <td>0.500000</td>\n",
       "      <td>3</td>\n",
       "      <td>7</td>\n",
       "      <td>2</td>\n",
       "      <td>NAina</td>\n",
       "    </tr>\n",
       "  </tbody>\n",
       "</table>\n",
       "<p>29 rows × 29 columns</p>\n",
       "</div>"
      ],
      "text/plain": [
       "      Tag    Cage       Ear Sex   Color Name        Genotype        DOB  \\\n",
       "89   5048  AA0010      '+/t   F  Agouti  NaN  3E,7I,2S,NAina 2019-12-30   \n",
       "98   5043  AA0013     '++/t   M     NaN  NaN  4E,6I,3S,NAina 2019-12-30   \n",
       "100  5045  AA????       NaN   M     NaN  NaN  3E,6I,4S,NAina 2019-12-30   \n",
       "101  5046  AA????       NaN   M     NaN  NaN  4E,6I,4S,NAina 2019-12-30   \n",
       "103  5051  AA0017      '+/t   F     NaN  NaN  2E,8I,3S,NAina 2019-12-31   \n",
       "106  5054  AA0017     't/++   F     NaN  NaN  3E,7I,2S,NAina 2019-12-31   \n",
       "107  5055  AA0017  'notch-5   F     NaN  NaN  3E,7I,2S,NAina 2019-12-31   \n",
       "108  5056  AA0018      '+/t   M     NaN  NaN  4E,6I,2S,NAina 2019-12-31   \n",
       "109  5057  AA0018     '++/t   M     NaN  NaN             NaN 2019-12-31   \n",
       "110  5058  AA0018      't/+   M     NaN  NaN  3E,5I,3S,NAina 2019-12-31   \n",
       "111  5059  AA0019      '+/t   M     NaN  NaN  3E,6I,2S,NAina 2019-12-31   \n",
       "112  5060  AA0019     '++/t   M     NaN  NaN  4E,7I,2S,NAina 2019-12-31   \n",
       "113  5061  AA0019      't/+   M     NaN  NaN  4E,6I,3S,NAina 2019-12-31   \n",
       "114  5062  AA0020      '+/t   F     NaN  NaN  4E,5I,4S,NAina 2019-12-31   \n",
       "116  5064  AA0020      't/+   F     NaN  NaN  3E,4I,3S,NAina 2019-12-31   \n",
       "117  5065  AA0020     't/++   F     NaN  NaN  4E,5I,4S,NAina 2019-12-31   \n",
       "118  5066  AA0020  'notch-5   F     NaN  NaN  4E,6I,3S,NAina 2019-12-31   \n",
       "119  5067  AA0021      '+/t   M     NaN  NaN  4E,7I,3S,NAina 2020-01-03   \n",
       "165  5117  AA0039      '+/t   M  Agouti  NaN  4E,5I,3S,NAina 2020-01-30   \n",
       "167  5119  AA0040      '+/t   F  Agouti  NaN  4E,5I,2S,NAina 2020-01-30   \n",
       "170  5122  AA0041     '++/t   F  Agouti  NaN             NaN 2020-01-31   \n",
       "171  5123  AA0041      't/+   F  Agouti  NaN  2E,8I,4S,NAina 2020-01-31   \n",
       "172  5124  AA0041     't/++   F  Agouti  NaN  2E,7I,4S,NAina 2020-01-31   \n",
       "173  5125  AA0042      '+/t   M  Agouti  NaN  4E,5I,4S,NAina 2020-01-31   \n",
       "174  5126  AA0042     '++/t   M  Agouti  NaN  4E,6I,3S,NAina 2020-01-31   \n",
       "175  5127  AA0042      't/+   M  Agouti  NaN  3E,6I,3S,NAina 2020-01-31   \n",
       "176  5128  AA0043      '+/t   M  Agouti  NaN  3E,7I,4S,NAina 2020-01-31   \n",
       "177  5129  AA0043     '++/t   M  Agouti  NaN  2E,6I,3S,NAina 2020-01-31   \n",
       "179  5132  AA0059      '+/t   F  Agouti  NaN  3E,7I,2S,NAina 2020-01-31   \n",
       "\n",
       "             DOD Father  ... Column Position parsedDOD DispCount CageSize  \\\n",
       "89   dispensible   2620  ...     01       G1       NaT       3.0        5   \n",
       "98   dispensible   2620  ...     01       B1       NaT       1.0        3   \n",
       "100  dispensible   2620  ...     01       D1       NaT       2.0        2   \n",
       "101  dispensible   2620  ...     01       E1       NaT       2.0        2   \n",
       "103  dispensible   2463  ...     02       B2       NaT       3.0        5   \n",
       "106  dispensible   2463  ...     02       E2       NaT       3.0        5   \n",
       "107  dispensible   2463  ...     02       F2       NaT       3.0        5   \n",
       "108  dispensible   2620  ...     02       G2       NaT       3.0        3   \n",
       "109  dispensible   2620  ...     02       H2       NaT       3.0        3   \n",
       "110  dispensible   2620  ...     03       A3       NaT       3.0        3   \n",
       "111  dispensible   2620  ...     03       B3       NaT       3.0        3   \n",
       "112  dispensible   2620  ...     03       C3       NaT       3.0        3   \n",
       "113  dispensible   2620  ...     03       D3       NaT       3.0        3   \n",
       "114  dispensible   2620  ...     03       E3       NaT       4.0        5   \n",
       "116  dispensible   2620  ...     03       G3       NaT       4.0        5   \n",
       "117  dispensible   2620  ...     03       H3       NaT       4.0        5   \n",
       "118  dispensible   2620  ...     04       B4       NaT       4.0        5   \n",
       "119  dispensible   2463  ...     04       C4       NaT       1.0        2   \n",
       "165  dispensible   2620  ...     01       A1       NaT       1.0        2   \n",
       "167  dispensible   2620  ...     01       C1       NaT       1.0        2   \n",
       "170  dispensible   2620  ...     01       F1       NaT       3.0        4   \n",
       "171  dispensible   2620  ...     01       G1       NaT       3.0        4   \n",
       "172  dispensible   2620  ...     01       H1       NaT       3.0        4   \n",
       "173  dispensible   2620  ...     02       A2       NaT       3.0        3   \n",
       "174  dispensible   2620  ...     02       B2       NaT       3.0        3   \n",
       "175  dispensible   2620  ...     02       C2       NaT       3.0        3   \n",
       "176  dispensible   2620  ...     02       D2       NaT       2.0        3   \n",
       "177  dispensible   2620  ...     02       E2       NaT       2.0        3   \n",
       "179  dispensible   2463  ...     02       H2       NaT       2.0        4   \n",
       "\n",
       "    DispPercent    E    I    S      6  \n",
       "89     0.600000    3    7    2  NAina  \n",
       "98     0.333333    4    6    3  NAina  \n",
       "100    1.000000    3    6    4  NAina  \n",
       "101    1.000000    4    6    4  NAina  \n",
       "103    0.600000    2    8    3  NAina  \n",
       "106    0.600000    3    7    2  NAina  \n",
       "107    0.600000    3    7    2  NAina  \n",
       "108    1.000000    4    6    2  NAina  \n",
       "109    1.000000  NaN  NaN  NaN    NaN  \n",
       "110    1.000000    3    5    3  NAina  \n",
       "111    1.000000    3    6    2  NAina  \n",
       "112    1.000000    4    7    2  NAina  \n",
       "113    1.000000    4    6    3  NAina  \n",
       "114    0.800000    4    5    4  NAina  \n",
       "116    0.800000    3    4    3  NAina  \n",
       "117    0.800000    4    5    4  NAina  \n",
       "118    0.800000    4    6    3  NAina  \n",
       "119    0.500000    4    7    3  NAina  \n",
       "165    0.500000    4    5    3  NAina  \n",
       "167    0.500000    4    5    2  NAina  \n",
       "170    0.750000  NaN  NaN  NaN    NaN  \n",
       "171    0.750000    2    8    4  NAina  \n",
       "172    0.750000    2    7    4  NAina  \n",
       "173    1.000000    4    5    4  NAina  \n",
       "174    1.000000    4    6    3  NAina  \n",
       "175    1.000000    3    6    3  NAina  \n",
       "176    0.666667    3    7    4  NAina  \n",
       "177    0.666667    2    6    3  NAina  \n",
       "179    0.500000    3    7    2  NAina  \n",
       "\n",
       "[29 rows x 29 columns]"
      ]
     },
     "execution_count": 143,
     "metadata": {},
     "output_type": "execute_result"
    }
   ],
   "source": [
    "df.query('Lineage.str.contains(\"ins\") & DOD.str.startswith(\"disp\")').sort_values([\"E\", \"I\", \"\"])"
   ]
  },
  {
   "cell_type": "code",
   "execution_count": 109,
   "metadata": {},
   "outputs": [
    {
     "data": {
      "text/html": [
       "<div>\n",
       "<style scoped>\n",
       "    .dataframe tbody tr th:only-of-type {\n",
       "        vertical-align: middle;\n",
       "    }\n",
       "\n",
       "    .dataframe tbody tr th {\n",
       "        vertical-align: top;\n",
       "    }\n",
       "\n",
       "    .dataframe thead th {\n",
       "        text-align: right;\n",
       "    }\n",
       "</style>\n",
       "<table border=\"1\" class=\"dataframe\">\n",
       "  <thead>\n",
       "    <tr style=\"text-align: right;\">\n",
       "      <th></th>\n",
       "      <th>0</th>\n",
       "      <th>1</th>\n",
       "      <th>2</th>\n",
       "      <th>3</th>\n",
       "      <th>4</th>\n",
       "      <th>5</th>\n",
       "      <th>6</th>\n",
       "    </tr>\n",
       "  </thead>\n",
       "  <tbody>\n",
       "    <tr>\n",
       "      <th>0</th>\n",
       "      <td>4</td>\n",
       "      <td>E,</td>\n",
       "      <td>12</td>\n",
       "      <td>I,</td>\n",
       "      <td>4</td>\n",
       "      <td>S,</td>\n",
       "      <td>10ina</td>\n",
       "    </tr>\n",
       "    <tr>\n",
       "      <th>1</th>\n",
       "      <td>4</td>\n",
       "      <td>E,</td>\n",
       "      <td>13</td>\n",
       "      <td>I,</td>\n",
       "      <td>5</td>\n",
       "      <td>S,</td>\n",
       "      <td>10ina</td>\n",
       "    </tr>\n",
       "    <tr>\n",
       "      <th>2</th>\n",
       "      <td>4</td>\n",
       "      <td>E,</td>\n",
       "      <td>13</td>\n",
       "      <td>I,</td>\n",
       "      <td>6</td>\n",
       "      <td>S,</td>\n",
       "      <td>12ina</td>\n",
       "    </tr>\n",
       "    <tr>\n",
       "      <th>3</th>\n",
       "      <td>3</td>\n",
       "      <td>E,</td>\n",
       "      <td>10</td>\n",
       "      <td>I,</td>\n",
       "      <td>6</td>\n",
       "      <td>S,</td>\n",
       "      <td>15ina</td>\n",
       "    </tr>\n",
       "    <tr>\n",
       "      <th>4</th>\n",
       "      <td>3</td>\n",
       "      <td>E,</td>\n",
       "      <td>10</td>\n",
       "      <td>I,</td>\n",
       "      <td>5</td>\n",
       "      <td>S,</td>\n",
       "      <td>8ina</td>\n",
       "    </tr>\n",
       "  </tbody>\n",
       "</table>\n",
       "</div>"
      ],
      "text/plain": [
       "   0   1   2   3  4   5      6\n",
       "0  4  E,  12  I,  4  S,  10ina\n",
       "1  4  E,  13  I,  5  S,  10ina\n",
       "2  4  E,  13  I,  6  S,  12ina\n",
       "3  3  E,  10  I,  6  S,  15ina\n",
       "4  3  E,  10  I,  5  S,   8ina"
      ]
     },
     "execution_count": 109,
     "metadata": {},
     "output_type": "execute_result"
    }
   ],
   "source": [
    "split.head()"
   ]
  },
  {
   "cell_type": "code",
   "execution_count": 113,
   "metadata": {},
   "outputs": [
    {
     "data": {
      "text/html": [
       "<div>\n",
       "<style scoped>\n",
       "    .dataframe tbody tr th:only-of-type {\n",
       "        vertical-align: middle;\n",
       "    }\n",
       "\n",
       "    .dataframe tbody tr th {\n",
       "        vertical-align: top;\n",
       "    }\n",
       "\n",
       "    .dataframe thead th {\n",
       "        text-align: right;\n",
       "    }\n",
       "</style>\n",
       "<table border=\"1\" class=\"dataframe\">\n",
       "  <thead>\n",
       "    <tr style=\"text-align: right;\">\n",
       "      <th></th>\n",
       "      <th>E</th>\n",
       "      <th>I</th>\n",
       "      <th>S</th>\n",
       "      <th>6</th>\n",
       "    </tr>\n",
       "  </thead>\n",
       "  <tbody>\n",
       "    <tr>\n",
       "      <th>0</th>\n",
       "      <td>4</td>\n",
       "      <td>12</td>\n",
       "      <td>4</td>\n",
       "      <td>10ina</td>\n",
       "    </tr>\n",
       "    <tr>\n",
       "      <th>1</th>\n",
       "      <td>4</td>\n",
       "      <td>13</td>\n",
       "      <td>5</td>\n",
       "      <td>10ina</td>\n",
       "    </tr>\n",
       "    <tr>\n",
       "      <th>2</th>\n",
       "      <td>4</td>\n",
       "      <td>13</td>\n",
       "      <td>6</td>\n",
       "      <td>12ina</td>\n",
       "    </tr>\n",
       "    <tr>\n",
       "      <th>3</th>\n",
       "      <td>3</td>\n",
       "      <td>10</td>\n",
       "      <td>6</td>\n",
       "      <td>15ina</td>\n",
       "    </tr>\n",
       "    <tr>\n",
       "      <th>4</th>\n",
       "      <td>3</td>\n",
       "      <td>10</td>\n",
       "      <td>5</td>\n",
       "      <td>8ina</td>\n",
       "    </tr>\n",
       "    <tr>\n",
       "      <th>...</th>\n",
       "      <td>...</td>\n",
       "      <td>...</td>\n",
       "      <td>...</td>\n",
       "      <td>...</td>\n",
       "    </tr>\n",
       "    <tr>\n",
       "      <th>341</th>\n",
       "      <td>4</td>\n",
       "      <td>8</td>\n",
       "      <td>15</td>\n",
       "      <td>12ina</td>\n",
       "    </tr>\n",
       "    <tr>\n",
       "      <th>342</th>\n",
       "      <td>1</td>\n",
       "      <td>12</td>\n",
       "      <td>3</td>\n",
       "      <td>8ina</td>\n",
       "    </tr>\n",
       "    <tr>\n",
       "      <th>343</th>\n",
       "      <td>3</td>\n",
       "      <td>12</td>\n",
       "      <td>4</td>\n",
       "      <td>9ina</td>\n",
       "    </tr>\n",
       "    <tr>\n",
       "      <th>344</th>\n",
       "      <td>3</td>\n",
       "      <td>11</td>\n",
       "      <td>6</td>\n",
       "      <td>11ina</td>\n",
       "    </tr>\n",
       "    <tr>\n",
       "      <th>345</th>\n",
       "      <td>NA</td>\n",
       "      <td>None</td>\n",
       "      <td>None</td>\n",
       "      <td>None</td>\n",
       "    </tr>\n",
       "  </tbody>\n",
       "</table>\n",
       "<p>330 rows × 4 columns</p>\n",
       "</div>"
      ],
      "text/plain": [
       "      E     I     S      6\n",
       "0     4    12     4  10ina\n",
       "1     4    13     5  10ina\n",
       "2     4    13     6  12ina\n",
       "3     3    10     6  15ina\n",
       "4     3    10     5   8ina\n",
       "..   ..   ...   ...    ...\n",
       "341   4     8    15  12ina\n",
       "342   1    12     3   8ina\n",
       "343   3    12     4   9ina\n",
       "344   3    11     6  11ina\n",
       "345  NA  None  None   None\n",
       "\n",
       "[330 rows x 4 columns]"
      ]
     },
     "execution_count": 113,
     "metadata": {},
     "output_type": "execute_result"
    }
   ],
   "source": []
  },
  {
   "cell_type": "code",
   "execution_count": 42,
   "metadata": {},
   "outputs": [
    {
     "ename": "ValueError",
     "evalue": "pattern contains no capture groups",
     "output_type": "error",
     "traceback": [
      "\u001b[0;31m---------------------------------------------------------------------------\u001b[0m",
      "\u001b[0;31mValueError\u001b[0m                                Traceback (most recent call last)",
      "\u001b[0;32m<ipython-input-42-24177354ccf5>\u001b[0m in \u001b[0;36m<module>\u001b[0;34m\u001b[0m\n\u001b[0;32m----> 1\u001b[0;31m \u001b[0mtypes\u001b[0m\u001b[0;34m[\u001b[0m\u001b[0;36m0\u001b[0m\u001b[0;34m]\u001b[0m\u001b[0;34m.\u001b[0m\u001b[0mstr\u001b[0m\u001b[0;34m.\u001b[0m\u001b[0mextract\u001b[0m\u001b[0;34m(\u001b[0m\u001b[0;34m'/d'\u001b[0m\u001b[0;34m,\u001b[0m \u001b[0mexpand\u001b[0m\u001b[0;34m=\u001b[0m\u001b[0;32mTrue\u001b[0m\u001b[0;34m)\u001b[0m \u001b[0;31m#split well into parts\u001b[0m\u001b[0;34m\u001b[0m\u001b[0;34m\u001b[0m\u001b[0m\n\u001b[0m",
      "\u001b[0;32m~/.conda/envs/colonyEnv/lib/python3.8/site-packages/pandas/core/strings.py\u001b[0m in \u001b[0;36mwrapper\u001b[0;34m(self, *args, **kwargs)\u001b[0m\n\u001b[1;32m   1950\u001b[0m                 )\n\u001b[1;32m   1951\u001b[0m                 \u001b[0;32mraise\u001b[0m \u001b[0mTypeError\u001b[0m\u001b[0;34m(\u001b[0m\u001b[0mmsg\u001b[0m\u001b[0;34m)\u001b[0m\u001b[0;34m\u001b[0m\u001b[0;34m\u001b[0m\u001b[0m\n\u001b[0;32m-> 1952\u001b[0;31m             \u001b[0;32mreturn\u001b[0m \u001b[0mfunc\u001b[0m\u001b[0;34m(\u001b[0m\u001b[0mself\u001b[0m\u001b[0;34m,\u001b[0m \u001b[0;34m*\u001b[0m\u001b[0margs\u001b[0m\u001b[0;34m,\u001b[0m \u001b[0;34m**\u001b[0m\u001b[0mkwargs\u001b[0m\u001b[0;34m)\u001b[0m\u001b[0;34m\u001b[0m\u001b[0;34m\u001b[0m\u001b[0m\n\u001b[0m\u001b[1;32m   1953\u001b[0m \u001b[0;34m\u001b[0m\u001b[0m\n\u001b[1;32m   1954\u001b[0m         \u001b[0mwrapper\u001b[0m\u001b[0;34m.\u001b[0m\u001b[0m__name__\u001b[0m \u001b[0;34m=\u001b[0m \u001b[0mfunc_name\u001b[0m\u001b[0;34m\u001b[0m\u001b[0;34m\u001b[0m\u001b[0m\n",
      "\u001b[0;32m~/.conda/envs/colonyEnv/lib/python3.8/site-packages/pandas/core/strings.py\u001b[0m in \u001b[0;36mextract\u001b[0;34m(self, pat, flags, expand)\u001b[0m\n\u001b[1;32m   3037\u001b[0m     \u001b[0;34m@\u001b[0m\u001b[0mforbid_nonstring_types\u001b[0m\u001b[0;34m(\u001b[0m\u001b[0;34m[\u001b[0m\u001b[0;34m\"bytes\"\u001b[0m\u001b[0;34m]\u001b[0m\u001b[0;34m)\u001b[0m\u001b[0;34m\u001b[0m\u001b[0;34m\u001b[0m\u001b[0m\n\u001b[1;32m   3038\u001b[0m     \u001b[0;32mdef\u001b[0m \u001b[0mextract\u001b[0m\u001b[0;34m(\u001b[0m\u001b[0mself\u001b[0m\u001b[0;34m,\u001b[0m \u001b[0mpat\u001b[0m\u001b[0;34m,\u001b[0m \u001b[0mflags\u001b[0m\u001b[0;34m=\u001b[0m\u001b[0;36m0\u001b[0m\u001b[0;34m,\u001b[0m \u001b[0mexpand\u001b[0m\u001b[0;34m=\u001b[0m\u001b[0;32mTrue\u001b[0m\u001b[0;34m)\u001b[0m\u001b[0;34m:\u001b[0m\u001b[0;34m\u001b[0m\u001b[0;34m\u001b[0m\u001b[0m\n\u001b[0;32m-> 3039\u001b[0;31m         \u001b[0;32mreturn\u001b[0m \u001b[0mstr_extract\u001b[0m\u001b[0;34m(\u001b[0m\u001b[0mself\u001b[0m\u001b[0;34m,\u001b[0m \u001b[0mpat\u001b[0m\u001b[0;34m,\u001b[0m \u001b[0mflags\u001b[0m\u001b[0;34m=\u001b[0m\u001b[0mflags\u001b[0m\u001b[0;34m,\u001b[0m \u001b[0mexpand\u001b[0m\u001b[0;34m=\u001b[0m\u001b[0mexpand\u001b[0m\u001b[0;34m)\u001b[0m\u001b[0;34m\u001b[0m\u001b[0;34m\u001b[0m\u001b[0m\n\u001b[0m\u001b[1;32m   3040\u001b[0m \u001b[0;34m\u001b[0m\u001b[0m\n\u001b[1;32m   3041\u001b[0m     \u001b[0;34m@\u001b[0m\u001b[0mcopy\u001b[0m\u001b[0;34m(\u001b[0m\u001b[0mstr_extractall\u001b[0m\u001b[0;34m)\u001b[0m\u001b[0;34m\u001b[0m\u001b[0;34m\u001b[0m\u001b[0m\n",
      "\u001b[0;32m~/.conda/envs/colonyEnv/lib/python3.8/site-packages/pandas/core/strings.py\u001b[0m in \u001b[0;36mstr_extract\u001b[0;34m(arr, pat, flags, expand)\u001b[0m\n\u001b[1;32m   1008\u001b[0m         \u001b[0;32mraise\u001b[0m \u001b[0mValueError\u001b[0m\u001b[0;34m(\u001b[0m\u001b[0;34m\"expand must be True or False\"\u001b[0m\u001b[0;34m)\u001b[0m\u001b[0;34m\u001b[0m\u001b[0;34m\u001b[0m\u001b[0m\n\u001b[1;32m   1009\u001b[0m     \u001b[0;32mif\u001b[0m \u001b[0mexpand\u001b[0m\u001b[0;34m:\u001b[0m\u001b[0;34m\u001b[0m\u001b[0;34m\u001b[0m\u001b[0m\n\u001b[0;32m-> 1010\u001b[0;31m         \u001b[0;32mreturn\u001b[0m \u001b[0m_str_extract_frame\u001b[0m\u001b[0;34m(\u001b[0m\u001b[0marr\u001b[0m\u001b[0;34m.\u001b[0m\u001b[0m_orig\u001b[0m\u001b[0;34m,\u001b[0m \u001b[0mpat\u001b[0m\u001b[0;34m,\u001b[0m \u001b[0mflags\u001b[0m\u001b[0;34m=\u001b[0m\u001b[0mflags\u001b[0m\u001b[0;34m)\u001b[0m\u001b[0;34m\u001b[0m\u001b[0;34m\u001b[0m\u001b[0m\n\u001b[0m\u001b[1;32m   1011\u001b[0m     \u001b[0;32melse\u001b[0m\u001b[0;34m:\u001b[0m\u001b[0;34m\u001b[0m\u001b[0;34m\u001b[0m\u001b[0m\n\u001b[1;32m   1012\u001b[0m         \u001b[0mresult\u001b[0m\u001b[0;34m,\u001b[0m \u001b[0mname\u001b[0m \u001b[0;34m=\u001b[0m \u001b[0m_str_extract_noexpand\u001b[0m\u001b[0;34m(\u001b[0m\u001b[0marr\u001b[0m\u001b[0;34m.\u001b[0m\u001b[0m_parent\u001b[0m\u001b[0;34m,\u001b[0m \u001b[0mpat\u001b[0m\u001b[0;34m,\u001b[0m \u001b[0mflags\u001b[0m\u001b[0;34m=\u001b[0m\u001b[0mflags\u001b[0m\u001b[0;34m)\u001b[0m\u001b[0;34m\u001b[0m\u001b[0;34m\u001b[0m\u001b[0m\n",
      "\u001b[0;32m~/.conda/envs/colonyEnv/lib/python3.8/site-packages/pandas/core/strings.py\u001b[0m in \u001b[0;36m_str_extract_frame\u001b[0;34m(arr, pat, flags)\u001b[0m\n\u001b[1;32m    905\u001b[0m \u001b[0;34m\u001b[0m\u001b[0m\n\u001b[1;32m    906\u001b[0m     \u001b[0mregex\u001b[0m \u001b[0;34m=\u001b[0m \u001b[0mre\u001b[0m\u001b[0;34m.\u001b[0m\u001b[0mcompile\u001b[0m\u001b[0;34m(\u001b[0m\u001b[0mpat\u001b[0m\u001b[0;34m,\u001b[0m \u001b[0mflags\u001b[0m\u001b[0;34m=\u001b[0m\u001b[0mflags\u001b[0m\u001b[0;34m)\u001b[0m\u001b[0;34m\u001b[0m\u001b[0;34m\u001b[0m\u001b[0m\n\u001b[0;32m--> 907\u001b[0;31m     \u001b[0mgroups_or_na\u001b[0m \u001b[0;34m=\u001b[0m \u001b[0m_groups_or_na_fun\u001b[0m\u001b[0;34m(\u001b[0m\u001b[0mregex\u001b[0m\u001b[0;34m)\u001b[0m\u001b[0;34m\u001b[0m\u001b[0;34m\u001b[0m\u001b[0m\n\u001b[0m\u001b[1;32m    908\u001b[0m     \u001b[0mnames\u001b[0m \u001b[0;34m=\u001b[0m \u001b[0mdict\u001b[0m\u001b[0;34m(\u001b[0m\u001b[0mzip\u001b[0m\u001b[0;34m(\u001b[0m\u001b[0mregex\u001b[0m\u001b[0;34m.\u001b[0m\u001b[0mgroupindex\u001b[0m\u001b[0;34m.\u001b[0m\u001b[0mvalues\u001b[0m\u001b[0;34m(\u001b[0m\u001b[0;34m)\u001b[0m\u001b[0;34m,\u001b[0m \u001b[0mregex\u001b[0m\u001b[0;34m.\u001b[0m\u001b[0mgroupindex\u001b[0m\u001b[0;34m.\u001b[0m\u001b[0mkeys\u001b[0m\u001b[0;34m(\u001b[0m\u001b[0;34m)\u001b[0m\u001b[0;34m)\u001b[0m\u001b[0;34m)\u001b[0m\u001b[0;34m\u001b[0m\u001b[0;34m\u001b[0m\u001b[0m\n\u001b[1;32m    909\u001b[0m     \u001b[0mcolumns\u001b[0m \u001b[0;34m=\u001b[0m \u001b[0;34m[\u001b[0m\u001b[0mnames\u001b[0m\u001b[0;34m.\u001b[0m\u001b[0mget\u001b[0m\u001b[0;34m(\u001b[0m\u001b[0;36m1\u001b[0m \u001b[0;34m+\u001b[0m \u001b[0mi\u001b[0m\u001b[0;34m,\u001b[0m \u001b[0mi\u001b[0m\u001b[0;34m)\u001b[0m \u001b[0;32mfor\u001b[0m \u001b[0mi\u001b[0m \u001b[0;32min\u001b[0m \u001b[0mrange\u001b[0m\u001b[0;34m(\u001b[0m\u001b[0mregex\u001b[0m\u001b[0;34m.\u001b[0m\u001b[0mgroups\u001b[0m\u001b[0;34m)\u001b[0m\u001b[0;34m]\u001b[0m\u001b[0;34m\u001b[0m\u001b[0;34m\u001b[0m\u001b[0m\n",
      "\u001b[0;32m~/.conda/envs/colonyEnv/lib/python3.8/site-packages/pandas/core/strings.py\u001b[0m in \u001b[0;36m_groups_or_na_fun\u001b[0;34m(regex)\u001b[0m\n\u001b[1;32m    835\u001b[0m     \u001b[0;34m\"\"\"Used in both extract_noexpand and extract_frame\"\"\"\u001b[0m\u001b[0;34m\u001b[0m\u001b[0;34m\u001b[0m\u001b[0m\n\u001b[1;32m    836\u001b[0m     \u001b[0;32mif\u001b[0m \u001b[0mregex\u001b[0m\u001b[0;34m.\u001b[0m\u001b[0mgroups\u001b[0m \u001b[0;34m==\u001b[0m \u001b[0;36m0\u001b[0m\u001b[0;34m:\u001b[0m\u001b[0;34m\u001b[0m\u001b[0;34m\u001b[0m\u001b[0m\n\u001b[0;32m--> 837\u001b[0;31m         \u001b[0;32mraise\u001b[0m \u001b[0mValueError\u001b[0m\u001b[0;34m(\u001b[0m\u001b[0;34m\"pattern contains no capture groups\"\u001b[0m\u001b[0;34m)\u001b[0m\u001b[0;34m\u001b[0m\u001b[0;34m\u001b[0m\u001b[0m\n\u001b[0m\u001b[1;32m    838\u001b[0m     \u001b[0mempty_row\u001b[0m \u001b[0;34m=\u001b[0m \u001b[0;34m[\u001b[0m\u001b[0mnp\u001b[0m\u001b[0;34m.\u001b[0m\u001b[0mnan\u001b[0m\u001b[0;34m]\u001b[0m \u001b[0;34m*\u001b[0m \u001b[0mregex\u001b[0m\u001b[0;34m.\u001b[0m\u001b[0mgroups\u001b[0m\u001b[0;34m\u001b[0m\u001b[0;34m\u001b[0m\u001b[0m\n\u001b[1;32m    839\u001b[0m \u001b[0;34m\u001b[0m\u001b[0m\n",
      "\u001b[0;31mValueError\u001b[0m: pattern contains no capture groups"
     ]
    }
   ],
   "source": [
    "types[0].str.extract('/d', expand=True) #split well into parts\n"
   ]
  },
  {
   "cell_type": "code",
   "execution_count": 39,
   "metadata": {},
   "outputs": [
    {
     "data": {
      "text/plain": [
       "'4E'"
      ]
     },
     "execution_count": 39,
     "metadata": {},
     "output_type": "execute_result"
    }
   ],
   "source": [
    "plate = df['Plate'].str.split('-', n=1, expand = True) #split position from plate\n",
    "wells = plate[0].str.extract('([a-zA-Z]+)([^a-zA-Z]+)', expand=True) #split well into parts\n",
    "#     df['PlateID'] = plate[0]\n",
    "#     df['Row'] = wells[0]\n",
    "#     df['Column'] = wells[1]\n",
    "#     df['Position'] = df['Row']+ (df['Column'].apply(lambda x: str(x).lstrip(\"0\")))\n",
    "#     return df"
   ]
  },
  {
   "cell_type": "code",
   "execution_count": null,
   "metadata": {
    "code_folding": [
     0
    ]
   },
   "outputs": [],
   "source": [
    "#### parsing breedings etc\n",
    "source_dir = \"Breedings\"\n",
    "fns = glob.glob(source_dir + '/*2020-05*')\n",
    "data = []\n",
    "\n",
    "for fn in fns:\n",
    "    frame = pd.read_csv(fn, sep = \"\\t\")\n",
    "    frame['Lineage'], frame['Date'] = fn[10:24].split(\"-\", 1)\n",
    "    data.append(frame)\n",
    "animals = pd.concat(data, ignore_index=True) #dont want pandas to try an align row indexes;\n",
    "animals = animals.applymap(lambda x: x.strip(\"t\") if isinstance(x, str) else x) #remove t for easier comparison to big frame applys\n",
    "\n",
    "tagCols= ['Male', 'Female1', 'Female2'] #grab columns with animals for flattening\n",
    "data = []\n",
    "for col in tagCols:\n",
    "    frame = pd.concat((animals[i] for i in [col, 'Lineage', 'Date']), axis = 1).rename({col:'Tag'}, axis=1)\n",
    "    data.append(frame)\n",
    "           \n",
    "#            #, animals['Lineage'], animals['Date']]\n",
    "# #     data.append(frame)\n",
    "breeders = pd.concat(data, ignore_index=True) #dont want pandas to try an align row indexes;"
   ]
  },
  {
   "cell_type": "code",
   "execution_count": null,
   "metadata": {},
   "outputs": [],
   "source": [
    "# print([i for i in breedrs['TagClean'] if i not in breeders['Tag']])"
   ]
  },
  {
   "cell_type": "code",
   "execution_count": null,
   "metadata": {
    "code_folding": [
     0
    ]
   },
   "outputs": [],
   "source": [
    "## #### parsing breedings etc - check that all breeders are marked as such on the sheet\n",
    "breedrs = pd.merge(df, breeders, left_on ='TagClean', right_on = 'Tag', how = 'inner')\n",
    "if len(breedrs.DOD.unique()) > 1:\n",
    "    print(\"Not all breeders marked\")\n",
    "else:\n",
    "    print(\"Only one DOD found, {}\".format(breedrs.DOD.unique()[0]))\n",
    "list(set(breeders['Tag'])-set(breedrs['TagClean']))"
   ]
  },
  {
   "cell_type": "code",
   "execution_count": null,
   "metadata": {},
   "outputs": [],
   "source": [
    "##############################################"
   ]
  },
  {
   "cell_type": "code",
   "execution_count": null,
   "metadata": {},
   "outputs": [],
   "source": [
    "# [i for i in breeders['Mouse'] if i not in df['Tag']]\n",
    "# df['Tag'] - breeders['Mouse']"
   ]
  },
  {
   "cell_type": "code",
   "execution_count": null,
   "metadata": {
    "code_folding": []
   },
   "outputs": [],
   "source": [
    "# plate = df[plate].sort_values(['Column', 'Row'])\n",
    "# #.sort_values(\n",
    "#  #       ['Row',\n",
    "#   #       'Column']).reset_index(drop=True)  # impt standard plate indexing\n",
    "\n",
    "# plateNew = locs.merge(plate, how = 'outer')\n",
    "# df = plateNew\n",
    "\n",
    "# plateNew.pivot(index='Row', columns='Column',\n",
    "#                       values=['Info'])"
   ]
  },
  {
   "cell_type": "code",
   "execution_count": null,
   "metadata": {},
   "outputs": [],
   "source": [
    "# plate = fCas9.sort_values(['PlateID', 'Column', 'Row'])\n"
   ]
  },
  {
   "cell_type": "code",
   "execution_count": null,
   "metadata": {},
   "outputs": [],
   "source": [
    "# plate.Tag = df.Tag.apply(lambda x: \"t\" + str(x) if not x != x else 'empty')\n",
    "# plate['Info'] = ['\\n'.join([str(x), str(y)]) for x, y in zip(plate['Tag'], plate['Lineage'])]\n",
    "\n"
   ]
  },
  {
   "cell_type": "code",
   "execution_count": null,
   "metadata": {
    "code_folding": []
   },
   "outputs": [],
   "source": [
    "# cleanSamples = df[['PlateID', 'Row', 'Column', 'Tag', 'Lineage']]"
   ]
  },
  {
   "cell_type": "code",
   "execution_count": null,
   "metadata": {},
   "outputs": [],
   "source": [
    "# cleanSamples.to_clipboard(index = 'False')"
   ]
  },
  {
   "cell_type": "code",
   "execution_count": null,
   "metadata": {},
   "outputs": [],
   "source": [
    "df.Lineage = df.Lineage.fillna(\"--\")\n",
    "fathers = df[df.Lineage.str.contains('fCas9')].Father.unique().flatten()\n",
    "mothers = df[df.Lineage.str.contains('fCas9')].Mother.unique().flatten()\n",
    "rents = np.append(fathers, mothers)\n",
    "parentList = []\n",
    "for i in rents:\n",
    "    parentList.extend(i.split(\"/\")) \n",
    "\n",
    "parents = df.loc[df['Tag'].isin(parentList)]"
   ]
  },
  {
   "cell_type": "code",
   "execution_count": null,
   "metadata": {},
   "outputs": [],
   "source": [
    "plateCats =  ['Genotype','PlateID', 'Row', 'Column',\n",
    "       'Position']"
   ]
  },
  {
   "cell_type": "code",
   "execution_count": null,
   "metadata": {},
   "outputs": [],
   "source": [
    "# parents = ['Father', 'Mother']"
   ]
  },
  {
   "cell_type": "code",
   "execution_count": null,
   "metadata": {},
   "outputs": [],
   "source": [
    "cats = easyCats + plateCats"
   ]
  },
  {
   "cell_type": "code",
   "execution_count": null,
   "metadata": {},
   "outputs": [],
   "source": [
    "df[['fCas', 'transgene']] = df['Genotype'].str.split(\",\", 1, expand = True)"
   ]
  },
  {
   "cell_type": "code",
   "execution_count": null,
   "metadata": {},
   "outputs": [],
   "source": [
    "df.Lineage = df.Lineage.fillna(\"--\")\n",
    "linMask = df.Lineage.str.contains('fCas9')\n",
    "genoMask = df.Genotype.isnull()\n",
    "fCas9 = df[linMask].fillna(\"-\")\n",
    "H_linMask = fCas9.Lineage.str.contains('hCD2')\n",
    "S_linMask = fCas9.Lineage.str.lower().str.contains('syn')"
   ]
  },
  {
   "cell_type": "code",
   "execution_count": null,
   "metadata": {},
   "outputs": [],
   "source": []
  },
  {
   "cell_type": "code",
   "execution_count": null,
   "metadata": {},
   "outputs": [],
   "source": [
    "fCas9.groupby(['Sex', 'DOD', 'fCas', 'transgene']).agg({'Genotype': 'count',\n",
    "                                                   'Tag':'unique', 'Cage':'unique', \n",
    "                                                  'DOB': ['min', 'max']})"
   ]
  },
  {
   "cell_type": "code",
   "execution_count": null,
   "metadata": {},
   "outputs": [],
   "source": [
    "cages = df.groupby([\"Cage\", \"Sex\"]).agg({'Color':'unique',\n",
    "                                         'DOD':'unique',\n",
    "                                         'Lineage':'unique'})   #yay!"
   ]
  },
  {
   "cell_type": "code",
   "execution_count": null,
   "metadata": {},
   "outputs": [],
   "source": [
    "cages.to_clipboard()"
   ]
  },
  {
   "cell_type": "code",
   "execution_count": null,
   "metadata": {},
   "outputs": [],
   "source": [
    "df.groupby(['Cage']).agg({\n",
    "    'dispensible': 'mean',\n",
    "    'Cage': 'size',\n",
    "    'Sex': 'unique',\n",
    "    'DOD': 'unique',\n",
    "    'Tag': 'unique',\n",
    "    'Color': 'unique',\n",
    "    'Ear': 'unique',\n",
    "    'Lineage': 'unique'\n",
    "}).sort_values('dispensible', ascending = False)"
   ]
  },
  {
   "cell_type": "code",
   "execution_count": null,
   "metadata": {},
   "outputs": [],
   "source": [
    "df[df.Sex == \"F\"].groupby(['Cage']).agg({'Cage': 'size',\n",
    "                                         'DOD': 'unique',\n",
    "                                         'Tag':'unique',\n",
    "                                        'Color' : 'unique',\n",
    "                                         'Ear' : 'unique',}).sort_values"
   ]
  },
  {
   "cell_type": "code",
   "execution_count": null,
   "metadata": {},
   "outputs": [],
   "source": [
    "df[df.Sex == \"F\"].groupby(['Cage']).agg({'Cage':'size',\n",
    "                                         'Color':'unique',\n",
    "                                         'DOD':'unique',\n",
    "                                         'Lineage':'unique'})   #yay!"
   ]
  },
  {
   "cell_type": "code",
   "execution_count": null,
   "metadata": {
    "code_folding": [
     0
    ]
   },
   "outputs": [],
   "source": [
    "# cas9CSV = df[(df.Lineage.str.endswith('Cas9')) & (df.Sex == \"M\") & (df.DOD.isna())]\n",
    "# ladies = df[(df.Lineage.str.startswith('1763')) & (df.Sex == \"F\") & (df.DOD.isna()) & (df.Genotype.notnull())]\n",
    "# ladies[['early', 'mid', 'slow', 'inactive']] = ladies.Genotype.str.split(\",\", expand = True)\n",
    "# ladiesCSV = ladies.sort_values(['mid', 'slow'], ascending = False).head(9)"
   ]
  },
  {
   "cell_type": "code",
   "execution_count": null,
   "metadata": {
    "code_folding": [
     0
    ]
   },
   "outputs": [],
   "source": [
    "# cas9M.to_csv('Cas9_males.csv')\n",
    "# ladiesCSV.to_csv('PB_females_exp_breedings.csv')"
   ]
  },
  {
   "cell_type": "code",
   "execution_count": null,
   "metadata": {},
   "outputs": [],
   "source": [
    "insGeno = df[(df.Lineage.str.contains(\"ins21\")) & (df.Genotype.isnull())].copy()"
   ]
  },
  {
   "cell_type": "code",
   "execution_count": null,
   "metadata": {},
   "outputs": [],
   "source": [
    "insGeno.to_clipboard()"
   ]
  },
  {
   "cell_type": "code",
   "execution_count": null,
   "metadata": {},
   "outputs": [],
   "source": [
    "locs = pd.read_pickle('96-wellLocs.pkl').sort_values(\n",
    "        ['Column',\n",
    "         'Row']).reset_index(drop=True)  # impt standard plate indexing\n",
    "# locs.join(df, rsuffix = \"_init\")\n",
    "insGeno"
   ]
  },
  {
   "cell_type": "code",
   "execution_count": null,
   "metadata": {},
   "outputs": [],
   "source": [
    "insGeno.sort_values(join(locs, rsuffix = 'init')"
   ]
  },
  {
   "cell_type": "code",
   "execution_count": null,
   "metadata": {},
   "outputs": [],
   "source": [
    "locs.join(insGeno, rsuffix='init')"
   ]
  },
  {
   "cell_type": "code",
   "execution_count": null,
   "metadata": {},
   "outputs": [],
   "source": [
    "insGeno.pivot(index='WellRow', columns='WellCol',\n",
    "                      values=['Tag', 'Plate'])"
   ]
  },
  {
   "cell_type": "code",
   "execution_count": null,
   "metadata": {},
   "outputs": [],
   "source": []
  },
  {
   "cell_type": "code",
   "execution_count": null,
   "metadata": {},
   "outputs": [],
   "source": [
    "## generate a general colony pivot table by lineage, sex, and DOB with total numbers\n",
    "saveFn = makefn(file.replace(\" \", \"\")+'_summary')\n",
    "\n",
    "remapDict= {'ins': '1685ins21#2',\n",
    "            'pb3' : '1763PB#3',\n",
    "            'pb7' : '1763PB#7',\n",
    "            'pbf': '1853PBF#1'}\n",
    "for key, value in remapDict.items():\n",
    "    df.Lineage = df.Lineage.apply(lambda row: value if key in row.lower() else row)\n",
    "grouped = df.groupby(['Lineage',\n",
    "            'Sex',\n",
    "            pd.Grouper(key='DOB',freq='q')]).size().unstack('DOB').reset_index()\n",
    "grouped['Total'] = grouped.sum(axis=1)\n",
    "grouped.fillna(\"-\").to_csv(saveFn)"
   ]
  },
  {
   "cell_type": "code",
   "execution_count": null,
   "metadata": {},
   "outputs": [],
   "source": [
    "saveFn = makefn(file.replace(\" \", \"\")+'_femaleConsolidation')"
   ]
  },
  {
   "cell_type": "code",
   "execution_count": null,
   "metadata": {},
   "outputs": [],
   "source": [
    "df.groupby([\"Cage\"]).agg({'Cage': 'count',  'Sex': 'unique',\n",
    "                                 'Color':'unique',\n",
    "                                'DOD': 'unique'})"
   ]
  },
  {
   "cell_type": "code",
   "execution_count": null,
   "metadata": {
    "code_folding": [
     0
    ]
   },
   "outputs": [],
   "source": [
    "## breeding for 2019.12.03 (setting up on 12/04)\n",
    "#ins\n",
    "ins = ('t2620 t2632 t2623 t2626 t2463\tt2625\tt2622\tt2633')\n",
    "PB3 = ('t2643\tt2642\tt2325 t2681\tt2644\tt2641' +\n",
    "       't2721\tt2324\tt2646t2693\tt2645\tt2610'+\n",
    "       't2694\tt2639\tt2613')\n",
    "PB7 = ('t2401\tt2417\tt2415 t2750\tt2652\tt2650' +\n",
    "       't2751\tt2421\tt2418 t2265\tt2410\tt2412' +\n",
    "       't2569\tt2606\tt2649')\n",
    "PBF = ('t2437\tt2448\tt2740 t2438\tt2741\tt2743' +\n",
    "       't2735\tt2742\tt2744')\n",
    "cre = ('t2542\tt2735\tt2731 t2727\tt2732\tt2547' +\n",
    "       't2726\tt2712\tt2537 t2728\tt2713\t')\n"
   ]
  },
  {
   "cell_type": "code",
   "execution_count": null,
   "metadata": {},
   "outputs": [],
   "source": [
    "mating = tagSearch(ins + PB3 + PB7 + PBF + cre)\n",
    "df[mating].sort_values('Lineage').to_csv('file.csv')"
   ]
  },
  {
   "cell_type": "code",
   "execution_count": null,
   "metadata": {},
   "outputs": [],
   "source": []
  },
  {
   "cell_type": "code",
   "execution_count": null,
   "metadata": {},
   "outputs": [],
   "source": [
    "CreMask = (df.Lineage.str.contains(\"fCas\", na=False))\n",
    "PBFMask = (df.Lineage.str.contains(\"PBF\", na=False))\n",
    "insMask = tagSearch(\"t2620 t2632 t2623 t2463 t2625 t2622 t2616 t2626 t2633 t2720 t2721 t2722 t2755 t2750 t2751 t2415 t2445\")\n",
    "alreadyShipped = (df.Cage.str.contains(\"HOP\", na= True))\n",
    "traveling = (df.DOD.str.endswith(\"hopkins| \", na = False))"
   ]
  },
  {
   "cell_type": "code",
   "execution_count": null,
   "metadata": {},
   "outputs": [],
   "source": [
    "shipped_2 = df[(df.DOD.str.endswith(\"hopkins\", na = False))]"
   ]
  },
  {
   "cell_type": "code",
   "execution_count": null,
   "metadata": {},
   "outputs": [],
   "source": [
    "shipped_2.sort_values([\"Cage\", \"Tag\"])[['Cage', 'Sex', 'Tag', 'Ear', 'Color', 'DOB']].to_clipboard(excel=True, index=False)"
   ]
  },
  {
   "cell_type": "code",
   "execution_count": null,
   "metadata": {
    "scrolled": true
   },
   "outputs": [],
   "source": [
    "shipped_2.groupby([\"Cage\"]).agg({'Cage': 'count', 'Sex':'unique'}).to_clipboard(excel=True)"
   ]
  },
  {
   "cell_type": "code",
   "execution_count": null,
   "metadata": {},
   "outputs": [],
   "source": [
    "hop = df[((traveling & (CreMask | PBFMask)) | insMask ) & ~alreadyShipped]"
   ]
  },
  {
   "cell_type": "code",
   "execution_count": null,
   "metadata": {},
   "outputs": [],
   "source": [
    "hop.groupby([\"Cage\", \"Sex\"]).agg({'Cage': 'count'})"
   ]
  },
  {
   "cell_type": "code",
   "execution_count": null,
   "metadata": {},
   "outputs": [],
   "source": [
    "hop.groupby([\"Sex\", \"Cage\", \"Tag\"]).agg({'Lineage': 'unique',\n",
    "                                         'Color': 'unique',\n",
    "                                        'Ear': 'unique'})"
   ]
  },
  {
   "cell_type": "code",
   "execution_count": null,
   "metadata": {
    "scrolled": false
   },
   "outputs": [],
   "source": [
    "hop.groupby(['Sex','Cage']).agg({'Cage':'count'})"
   ]
  },
  {
   "cell_type": "code",
   "execution_count": null,
   "metadata": {},
   "outputs": [],
   "source": [
    "hop.sort_values(['Sex', \"Lineage\", 'Tag'])"
   ]
  },
  {
   "cell_type": "code",
   "execution_count": null,
   "metadata": {},
   "outputs": [],
   "source": []
  },
  {
   "cell_type": "code",
   "execution_count": null,
   "metadata": {},
   "outputs": [],
   "source": [
    "df[(df.Genotype.isnull()) \\\n",
    "   & (df['DOD'] != \"Dispensible\")].fillna(\"x\").groupby([\"Lineage\", 'Cage']).agg({'Sex': 'count',\n",
    "                                                                                   'Tag':'unique',\n",
    "                                                                                   'Name': 'unique' })"
   ]
  },
  {
   "cell_type": "code",
   "execution_count": null,
   "metadata": {},
   "outputs": [],
   "source": [
    "#mask for sorting centrifuge tube samples\n",
    "freezerMask = (df.Tag.notnull()) & \\\n",
    "    (~df['Notebook info'].str.startswith(\"T|Plate\", na=False))&\\\n",
    "     (df.Lineage != 'J024858-Cas9')\n",
    "\n",
    "#and the results\n",
    "df[freezerMask].sort_values(\"Tag\")"
   ]
  },
  {
   "cell_type": "code",
   "execution_count": null,
   "metadata": {},
   "outputs": [],
   "source": [
    "earlyMask, lateMask, fMask = collectAgeRange(df, '2019-12-01',\n",
    "                                             28, 0 , \"\", \"F\")\n",
    "earlyMask, lateMask, mMask = collectAgeRange(df, '2019-12-01',\n",
    "                                             40, 0 , \"\", \"M\")\n",
    "\n",
    "inc = df[mMask].append(df[fMask]) #combine\n",
    "\n",
    "inc['DOD'], inc['parsedDOD'] =  zip(*inc.DOD.apply(lambda row: cleanDOD(row))) #parse DOD\n",
    "inc = inc[(~inc.parsedDOD.notnull()) \\\n",
    "          & (~inc.DOD.str.contains('sperm|Diss|f.d.',\n",
    "                                   na = False))] #drop assorted dead mice"
   ]
  },
  {
   "cell_type": "code",
   "execution_count": null,
   "metadata": {},
   "outputs": [],
   "source": [
    "inc.fillna('n/a').groupby(['Lineage',\n",
    "                           'DOD',\n",
    "                           'Sex']).agg({'DOB': ['count',\n",
    "                                                'min',\n",
    "                                                'max']})"
   ]
  },
  {
   "cell_type": "code",
   "execution_count": null,
   "metadata": {},
   "outputs": [],
   "source": [
    "inc[inc.DOD.str.contains('Hopkins', na= False)].groupby(\"Sex\").agg({'Sex': 'count',\n",
    "                                                    'Cage': 'nunique'})\n"
   ]
  },
  {
   "cell_type": "code",
   "execution_count": null,
   "metadata": {},
   "outputs": [],
   "source": [
    "noMice, noCages"
   ]
  },
  {
   "cell_type": "code",
   "execution_count": null,
   "metadata": {},
   "outputs": [],
   "source": [
    "df[df.Plate == \"T885765\"].sort_values(['WellRow',\n",
    "                                       'WellCol'])[['Position',\n",
    "                                                    'Tag',\n",
    "                                                    'Lineage']].to_clipboard(excel=True, header = False, index = False)"
   ]
  },
  {
   "cell_type": "code",
   "execution_count": null,
   "metadata": {},
   "outputs": [],
   "source": [
    "def is_coherent(seq):\n",
    "    return seq == range(seq[0], seq[-1]+1)"
   ]
  },
  {
   "cell_type": "code",
   "execution_count": null,
   "metadata": {},
   "outputs": [],
   "source": [
    "MMRRC_cats = ['Tag',\n",
    "           'Cage',\n",
    "           'Ear',\n",
    "           'Sex',\n",
    "           'Color',\n",
    "           'Genotype',\n",
    "           'DOB',\n",
    "           'Lineage']"
   ]
  },
  {
   "cell_type": "code",
   "execution_count": null,
   "metadata": {
    "scrolled": true
   },
   "outputs": [],
   "source": [
    "# earlyMask, lateMask, mMask = collectAgeRange(df,\n",
    "#                                              '2019-09-16',\n",
    "#                                              13, 8,\n",
    "#                                              \"PB#\", \"M\")\n",
    "# earlyMask, lateMask, fMask = collectAgeRange(df, \n",
    "#                                              '2019-09-16',\n",
    "#                                              4, 1,\n",
    "#                                              \"PB#\", \"F\")\n",
    "# shippedMask = (df.DOD.str.contains(\"mrrc|opkins\",\n",
    "#                                    na=False)) & (df.Lineage.str.contains(\"PB#\")) #PBs marked for any maintenance movement\n",
    "\n",
    "# df[mMask|fMask|shippedMask].groupby([\"Lineage\",\n",
    "#                                      \"Sex\",\n",
    "#                                      \"DOD\"]).agg({'Tag':'count',\n",
    "#                                                    'DOB': ['first', 'last']}) #"
   ]
  },
  {
   "cell_type": "markdown",
   "metadata": {},
   "source": [
    "dispense, cSorted = makeOutputs(df)\n",
    "cSorted.to_clipboard(excel=True, index = True)"
   ]
  },
  {
   "cell_type": "code",
   "execution_count": null,
   "metadata": {},
   "outputs": [],
   "source": [
    "earlyMask, lateMask, incMask = collectAgeRange(df, '2019-09-16', 4, 1, \"\", \"F\")\n",
    "df[incMask][['Tag',\n",
    "             'Cage',\n",
    "             'Ear',\n",
    "             'Sex',\n",
    "             'Color',\n",
    "             'DOB',\n",
    "             'Genotype',\n",
    "             'Lineage']].groupby(\"Lineage\").count()"
   ]
  },
  {
   "cell_type": "code",
   "execution_count": null,
   "metadata": {
    "scrolled": true
   },
   "outputs": [],
   "source": [
    "earlyMask, lateMask, incMask = collectAgeRange(df, '2019-10-04', 10, 0 , \"\", \"\")\n",
    "#inc = df[incMask]\n",
    "#inc = inc.fillna(\"BLANK\")\n",
    "\n",
    "# [['Tag',\n",
    "#              'Cage',\n",
    "#              'Ear',\n",
    "#              'Sex',\n",
    "#              'Color',\n",
    "#              'DOB',\n",
    "#              'Genotype',\n",
    "#              'Lineage']]"
   ]
  },
  {
   "cell_type": "code",
   "execution_count": null,
   "metadata": {},
   "outputs": [],
   "source": [
    "# df[df.DOD == 'Shipped to mmrrc on 9/10'][['Tag',\n",
    "#              'Color',\n",
    "#              'Ear',\n",
    "#              'Cage', \n",
    "#              'Sex',\n",
    "#              'Genotype',\n",
    "#              'DOB',\n",
    "#              'Lineage']].sort_values(by = ['Cage',\n",
    "#                                            'Tag'])\\\n",
    "#                 .fillna(\"missing\").to_clipboard(index = False,\n",
    "#                                                excel = True)"
   ]
  },
  {
   "cell_type": "code",
   "execution_count": null,
   "metadata": {},
   "outputs": [],
   "source": [
    "# ## MICE WITH UNKNOWN FATE\n",
    "# df[(df.DOD.isnull())].groupby([\"Lineage\", \"Cage\"]).agg({'DOB': ['max', \n",
    "#                                                              'min', \n",
    "#                                                              'count'],\n",
    "#                                                         'Sex': 'max',\n",
    "#                                                         'Name': 'unique'}).fillna(\"\")"
   ]
  },
  {
   "cell_type": "code",
   "execution_count": null,
   "metadata": {},
   "outputs": [],
   "source": [
    "########## selecting mice by age#########\n",
    "shipDate = '2019-09-16'\n",
    "early1, late1, mask1 = collectAgeRange(df, shipDate, 13, 8, \"PB#\", \"M\")\n",
    "early2, late2, mask2 = collectAgeRange(df, shipDate, 9, 6.5, \"PB#\", \"F\")\n",
    "\n",
    "males_20190916  = df[mask1].sort_values([\"Lineage\", \"Genotype\"])\n",
    "females_20190916 = df[mask2].sort_values([\"Lineage\", \"Genotype\"])\n",
    "\n",
    "shipment_20190916 = males_20190916.append(females_20190916)\n",
    "\n",
    "# Sep09_shipment.sort_values([\"Lineage\",\n",
    "#                             \"Sex\",\n",
    "#                             \"Cage\"]).to_clipboard(excel=True,\n",
    "#                                                   index = False)\n",
    "\n",
    "# Sep09_shipment.groupby([\"Lineage\",\n",
    "#                         \"Sex\",\n",
    "#                         \"Cage\"])['Tag',\n",
    "#                                  'Genotype'].count().to_clipboard()"
   ]
  },
  {
   "cell_type": "code",
   "execution_count": null,
   "metadata": {},
   "outputs": [],
   "source": [
    "plate_reseq.sort_values([\"Tag\"])[['Tag',\n",
    "                                  'Lineage',\n",
    "                                  'Plate',\n",
    "                                  'WellRow',\n",
    "                                  'WellCol']].to_clipboard(excel = True, index= False)"
   ]
  },
  {
   "cell_type": "code",
   "execution_count": null,
   "metadata": {},
   "outputs": [],
   "source": [
    "df['Tag'] = 't' + df['Tag'].astype(str)"
   ]
  },
  {
   "cell_type": "code",
   "execution_count": null,
   "metadata": {},
   "outputs": [],
   "source": [
    "KL14_plateB = df[df['Plate'].str\\\n",
    "   .contains(\"T885773|T885761\", na= False)]\\\n",
    "    .sort_values(by=['Plate', 'WellRow', 'WellCol']).reset_index(drop = True)"
   ]
  },
  {
   "cell_type": "code",
   "execution_count": null,
   "metadata": {},
   "outputs": [],
   "source": [
    "KL14_plateB[['Tag','Lineage','Plate', 'WellRow', 'WellCol']]\\\n",
    "    .to_clipboard(excel=True, index=False)"
   ]
  },
  {
   "cell_type": "code",
   "execution_count": null,
   "metadata": {},
   "outputs": [],
   "source": [
    "KL14_plateA = df[df['Plate'].str\\\n",
    "   .contains(\"T885772\", na= False)]\\\n",
    "    .sort_values(by=['Plate', 'WellRow', 'WellCol']).reset_index(drop = True)"
   ]
  },
  {
   "cell_type": "code",
   "execution_count": null,
   "metadata": {},
   "outputs": [],
   "source": [
    "df[df['Plate'].str\\\n",
    "   .contains(\"T88572|T885761|T885772|T885773\",\n",
    "             na = False)][['Tag', 'Plate', 'Well']]\\\n",
    "    .sort_values(by=['Plate', 'Well'])\\\n",
    "    .to_clipboard(excel=True, index= False)"
   ]
  },
  {
   "cell_type": "code",
   "execution_count": null,
   "metadata": {},
   "outputs": [],
   "source": [
    "KL14_plateA[['Tag','Lineage','Plate', 'WellRow', 'WellCol']]\\\n",
    "    .to_clipboard(excel=True, index=False)"
   ]
  },
  {
   "cell_type": "code",
   "execution_count": null,
   "metadata": {},
   "outputs": [],
   "source": [
    "#KL14_plateA.reindex('WellCol', method='ffill')"
   ]
  },
  {
   "cell_type": "code",
   "execution_count": null,
   "metadata": {
    "scrolled": true
   },
   "outputs": [],
   "source": [
    "KL14_plateA.groupby('WellRow').Lineage.count()"
   ]
  },
  {
   "cell_type": "code",
   "execution_count": null,
   "metadata": {},
   "outputs": [],
   "source": [
    "KL14_plateA"
   ]
  },
  {
   "cell_type": "code",
   "execution_count": null,
   "metadata": {},
   "outputs": [],
   "source": [
    "KL14_plateA[['Tag', 'Plate', 'WellRow', 'WellCol']]\\\n",
    "    .sort_values(by=['Plate', 'WellRow', 'WellCol'])\\\n",
    "    .to_clipboard(excel=True, index= False)"
   ]
  },
  {
   "cell_type": "code",
   "execution_count": null,
   "metadata": {},
   "outputs": [],
   "source": []
  },
  {
   "cell_type": "code",
   "execution_count": null,
   "metadata": {},
   "outputs": [],
   "source": []
  },
  {
   "cell_type": "code",
   "execution_count": null,
   "metadata": {
    "scrolled": true
   },
   "outputs": [],
   "source": [
    "## lineage stats over time\n",
    "df.groupby([pd.Grouper(key=\"DOB\", freq = \"M\"),\n",
    "            \"Lineage\"]).Cage.count().unstack('DOB')"
   ]
  },
  {
   "cell_type": "code",
   "execution_count": null,
   "metadata": {},
   "outputs": [],
   "source": [
    "def dfContains(string, column = \"Cage\", keep_empties = False, case = False, df = df):\n",
    "    '''given a cage number/s (formatted as \"nrbxxxx|nrbxxx\") etc, the indexes of entries where true'''\n",
    "    return df[column].str.contains(string, na = keep_empties, case = case)"
   ]
  },
  {
   "cell_type": "code",
   "execution_count": null,
   "metadata": {},
   "outputs": [],
   "source": [
    "df[df.DOD.str.contains(\"Sperm\", na = False)].groupby('Lineage').count()"
   ]
  },
  {
   "cell_type": "code",
   "execution_count": null,
   "metadata": {},
   "outputs": [],
   "source": [
    "df[(dfContains(\"1036|1037\"))\n",
    "   & (df.Sex == \"M\")][['Tag',\n",
    "                      'Cage',\n",
    "                       'Ear',\n",
    "                       'Sex',\n",
    "                       'DOB',\n",
    "                       'Notes']]"
   ]
  },
  {
   "cell_type": "code",
   "execution_count": null,
   "metadata": {},
   "outputs": [],
   "source": []
  },
  {
   "cell_type": "code",
   "execution_count": null,
   "metadata": {},
   "outputs": [],
   "source": [
    "PB = ['1763PB#7', '1763PB#3']\n",
    "counted = df.groupby(\"Cage\").size().reset_index(name = 'Total')\n",
    "df = df.merge(counted)\n",
    "PB_solo_males = df[(df.Lineage.isin(PB))&(df.Sex == \"M\")&(df.Total == 1)]"
   ]
  },
  {
   "cell_type": "code",
   "execution_count": null,
   "metadata": {},
   "outputs": [],
   "source": []
  }
 ],
 "metadata": {
  "kernelspec": {
   "display_name": "Python 3",
   "language": "python",
   "name": "python3"
  },
  "language_info": {
   "codemirror_mode": {
    "name": "ipython",
    "version": 3
   },
   "file_extension": ".py",
   "mimetype": "text/x-python",
   "name": "python",
   "nbconvert_exporter": "python",
   "pygments_lexer": "ipython3",
   "version": "3.8.1"
  }
 },
 "nbformat": 4,
 "nbformat_minor": 2
}
