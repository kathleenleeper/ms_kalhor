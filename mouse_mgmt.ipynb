{
 "cells": [
  {
   "cell_type": "markdown",
   "metadata": {},
   "source": [
    "## some useful helper functions to consider\n",
    "Convert a given string to {current-date}{string}.csv\n",
    "\n",
    "```\n",
    "makefn('string')\n",
    "```\n",
    "\n",
    "### helpful consolidators\n",
    "Creates two dataframes of all cages + dispensible % > .2, and either saves them independently or pops them back for  further manip.\n",
    "```\n",
    "makeConsolidations(df, save = True, popBack = False)\n",
    "```    \n",
    "                  \n",
    "\n",
    "### helpful for euthanizing many animals\n",
    "```\n",
    "df.fillna(\"-\").groupby(['Cage','DOD']).agg({'Tag':'unique', 'Lineage': 'unique'}).to_csv(fn)\n",
    "```"
   ]
  },
  {
   "cell_type": "code",
   "execution_count": 1,
   "metadata": {
    "code_folding": []
   },
   "outputs": [],
   "source": [
    "from ColonyMgmt import * \n",
    "import seaborn as sns\n",
    "import gspread\n",
    "from tabulate import tabulate\n",
    "gc = gspread.oauth() #relies on specific json file existing in specific location. not robust, is my point."
   ]
  },
  {
   "cell_type": "code",
   "execution_count": 2,
   "metadata": {},
   "outputs": [],
   "source": [
    "sh = gc.open(\"KalhorLabMice\") #this line is liable to break when/if we change the sheetname\n",
    "ws_list = sh.worksheets()"
   ]
  },
  {
   "cell_type": "code",
   "execution_count": 3,
   "metadata": {},
   "outputs": [],
   "source": [
    "liveCol = sh.get_worksheet(0) #get first spreadsheet; gsheets uses zero indexing\n",
    "df = pd.DataFrame(liveCol.get_all_records()) #convert to dataframe\n",
    "# archived = pd.DataFrame(sh.get_worksheet(1).get_all_records()) #get second sheet and convert to dataframe -- in case of checking historic mice genos etc\n",
    "# df= df.append(archived) #combine the two"
   ]
  },
  {
   "cell_type": "code",
   "execution_count": 4,
   "metadata": {},
   "outputs": [],
   "source": [
    "parsePlate?"
   ]
  },
  {
   "cell_type": "code",
   "execution_count": 5,
   "metadata": {},
   "outputs": [
    {
     "name": "stdout",
     "output_type": "stream",
     "text": [
      "initial counts: {'numCages': 188, 'numMice': 526} \n",
      "after dropping dead {'numCages': 142, 'numMice': 385}\n",
      "calculted total dispensible counts\n",
      "calculated total cage sizes\n",
      "calculated % disp\n",
      "Parsed ear tags for Excel formatting\n"
     ]
    }
   ],
   "source": [
    "df['TagClean'] = df.Tag.astype(str)\n",
    "df['DOB_clean'] = pd.to_datetime(df.DOB)\n",
    "df = parseDOD(df, drop = True)\n",
    "if df.Ear.any():\n",
    "    df.Ear =  df.Ear.apply(lambda row: \"\\'\" + row if type(row)== str else np.nan) #convert ear tags to excel-clean formats\n",
    "    print(\"Parsed ear tags for Excel formatting\")\n",
    "colonyStats(df)\n",
    "df = parsePlate(df)"
   ]
  },
  {
   "cell_type": "code",
   "execution_count": 7,
   "metadata": {},
   "outputs": [
    {
     "data": {
      "text/html": [
       "<div>\n",
       "<style scoped>\n",
       "    .dataframe tbody tr th:only-of-type {\n",
       "        vertical-align: middle;\n",
       "    }\n",
       "\n",
       "    .dataframe tbody tr th {\n",
       "        vertical-align: top;\n",
       "    }\n",
       "\n",
       "    .dataframe thead th {\n",
       "        text-align: right;\n",
       "    }\n",
       "</style>\n",
       "<table border=\"1\" class=\"dataframe\">\n",
       "  <thead>\n",
       "    <tr style=\"text-align: right;\">\n",
       "      <th></th>\n",
       "      <th>Tag</th>\n",
       "      <th>Cage</th>\n",
       "      <th>Ear</th>\n",
       "      <th>Sex</th>\n",
       "      <th>Color</th>\n",
       "      <th>Name</th>\n",
       "      <th>Genotype</th>\n",
       "      <th>DOB</th>\n",
       "      <th>DOD</th>\n",
       "      <th>Father</th>\n",
       "      <th>...</th>\n",
       "      <th>TagClean</th>\n",
       "      <th>DOB_clean</th>\n",
       "      <th>parsedDOD</th>\n",
       "      <th>DispCount</th>\n",
       "      <th>CageSize</th>\n",
       "      <th>DispPercent</th>\n",
       "      <th>PlateID</th>\n",
       "      <th>Row</th>\n",
       "      <th>Column</th>\n",
       "      <th>Position</th>\n",
       "    </tr>\n",
       "  </thead>\n",
       "  <tbody>\n",
       "    <tr>\n",
       "      <th>0</th>\n",
       "      <td>5216</td>\n",
       "      <td>LSL-Syn_201023_c1</td>\n",
       "      <td>'+/t</td>\n",
       "      <td>M</td>\n",
       "      <td>Black</td>\n",
       "      <td></td>\n",
       "      <td>fCas9 MT (+/+), synCre (-)</td>\n",
       "      <td>2/27/2020</td>\n",
       "      <td>dispensible</td>\n",
       "      <td>2728</td>\n",
       "      <td>...</td>\n",
       "      <td>5216</td>\n",
       "      <td>2020-02-27</td>\n",
       "      <td>NaT</td>\n",
       "      <td>3.0</td>\n",
       "      <td>3</td>\n",
       "      <td>1.0</td>\n",
       "      <td>T965524</td>\n",
       "      <td>G</td>\n",
       "      <td>09</td>\n",
       "      <td>G9</td>\n",
       "    </tr>\n",
       "    <tr>\n",
       "      <th>1</th>\n",
       "      <td>5324</td>\n",
       "      <td>LSL-Syn_201023_c1</td>\n",
       "      <td>'+/t</td>\n",
       "      <td>F</td>\n",
       "      <td>Black</td>\n",
       "      <td></td>\n",
       "      <td>fCas9 MT(+/+), synCre (+)</td>\n",
       "      <td>3/24/2020</td>\n",
       "      <td>dispensible</td>\n",
       "      <td>2728</td>\n",
       "      <td>...</td>\n",
       "      <td>5324</td>\n",
       "      <td>2020-03-24</td>\n",
       "      <td>NaT</td>\n",
       "      <td>3.0</td>\n",
       "      <td>3</td>\n",
       "      <td>1.0</td>\n",
       "      <td>T965521</td>\n",
       "      <td>B</td>\n",
       "      <td>04</td>\n",
       "      <td>B4</td>\n",
       "    </tr>\n",
       "    <tr>\n",
       "      <th>2</th>\n",
       "      <td>5325</td>\n",
       "      <td>LSL-Syn_201023_c1</td>\n",
       "      <td>'++/t</td>\n",
       "      <td>F</td>\n",
       "      <td>Black</td>\n",
       "      <td></td>\n",
       "      <td>fCas9 MT(+/+), synCre (+)</td>\n",
       "      <td>3/24/2020</td>\n",
       "      <td>dispensible</td>\n",
       "      <td>2728</td>\n",
       "      <td>...</td>\n",
       "      <td>5325</td>\n",
       "      <td>2020-03-24</td>\n",
       "      <td>NaT</td>\n",
       "      <td>3.0</td>\n",
       "      <td>3</td>\n",
       "      <td>1.0</td>\n",
       "      <td>T965521</td>\n",
       "      <td>C</td>\n",
       "      <td>04</td>\n",
       "      <td>C4</td>\n",
       "    </tr>\n",
       "    <tr>\n",
       "      <th>3</th>\n",
       "      <td>5569</td>\n",
       "      <td>1763PB#7_c4</td>\n",
       "      <td>'+/t</td>\n",
       "      <td>F</td>\n",
       "      <td>Agouti</td>\n",
       "      <td></td>\n",
       "      <td>4E,7I,18S,12ina</td>\n",
       "      <td>11/17/2020</td>\n",
       "      <td>dispensible</td>\n",
       "      <td>5444</td>\n",
       "      <td>...</td>\n",
       "      <td>5569</td>\n",
       "      <td>2020-11-17</td>\n",
       "      <td>NaT</td>\n",
       "      <td>2.0</td>\n",
       "      <td>2</td>\n",
       "      <td>1.0</td>\n",
       "      <td>T1129056</td>\n",
       "      <td>H</td>\n",
       "      <td>04</td>\n",
       "      <td>H4</td>\n",
       "    </tr>\n",
       "    <tr>\n",
       "      <th>4</th>\n",
       "      <td>5659</td>\n",
       "      <td>1763PB#7_c4</td>\n",
       "      <td>'+/t</td>\n",
       "      <td>F</td>\n",
       "      <td>Black</td>\n",
       "      <td></td>\n",
       "      <td>4E,5I,18S,10ina</td>\n",
       "      <td>12/4/2020</td>\n",
       "      <td>dispensible</td>\n",
       "      <td>5239</td>\n",
       "      <td>...</td>\n",
       "      <td>5659</td>\n",
       "      <td>2020-12-04</td>\n",
       "      <td>NaT</td>\n",
       "      <td>2.0</td>\n",
       "      <td>2</td>\n",
       "      <td>1.0</td>\n",
       "      <td>T1103209</td>\n",
       "      <td>E</td>\n",
       "      <td>02</td>\n",
       "      <td>E2</td>\n",
       "    </tr>\n",
       "  </tbody>\n",
       "</table>\n",
       "<p>5 rows × 27 columns</p>\n",
       "</div>"
      ],
      "text/plain": [
       "    Tag               Cage    Ear Sex   Color Name  \\\n",
       "0  5216  LSL-Syn_201023_c1   '+/t   M   Black        \n",
       "1  5324  LSL-Syn_201023_c1   '+/t   F   Black        \n",
       "2  5325  LSL-Syn_201023_c1  '++/t   F   Black        \n",
       "3  5569        1763PB#7_c4   '+/t   F  Agouti        \n",
       "4  5659        1763PB#7_c4   '+/t   F   Black        \n",
       "\n",
       "                     Genotype         DOB          DOD Father  ... TagClean  \\\n",
       "0  fCas9 MT (+/+), synCre (-)   2/27/2020  dispensible   2728  ...     5216   \n",
       "1   fCas9 MT(+/+), synCre (+)   3/24/2020  dispensible   2728  ...     5324   \n",
       "2   fCas9 MT(+/+), synCre (+)   3/24/2020  dispensible   2728  ...     5325   \n",
       "3             4E,7I,18S,12ina  11/17/2020  dispensible   5444  ...     5569   \n",
       "4             4E,5I,18S,10ina   12/4/2020  dispensible   5239  ...     5659   \n",
       "\n",
       "   DOB_clean parsedDOD DispCount CageSize DispPercent   PlateID Row Column  \\\n",
       "0 2020-02-27       NaT       3.0        3         1.0   T965524   G     09   \n",
       "1 2020-03-24       NaT       3.0        3         1.0   T965521   B     04   \n",
       "2 2020-03-24       NaT       3.0        3         1.0   T965521   C     04   \n",
       "3 2020-11-17       NaT       2.0        2         1.0  T1129056   H     04   \n",
       "4 2020-12-04       NaT       2.0        2         1.0  T1103209   E     02   \n",
       "\n",
       "  Position  \n",
       "0       G9  \n",
       "1       B4  \n",
       "2       C4  \n",
       "3       H4  \n",
       "4       E2  \n",
       "\n",
       "[5 rows x 27 columns]"
      ]
     },
     "execution_count": 7,
     "metadata": {},
     "output_type": "execute_result"
    }
   ],
   "source": [
    "df.head()"
   ]
  },
  {
   "cell_type": "code",
   "execution_count": 8,
   "metadata": {},
   "outputs": [
    {
     "name": "stdout",
     "output_type": "stream",
     "text": [
      "calculted total dispensible counts\n",
      "calculated total cage sizes\n",
      "calculated % disp\n"
     ]
    }
   ],
   "source": [
    "df = calcDisp(df)"
   ]
  },
  {
   "cell_type": "code",
   "execution_count": 9,
   "metadata": {},
   "outputs": [],
   "source": [
    "# df.sort_values('DispPercent', ascending = False).head(20)"
   ]
  },
  {
   "cell_type": "code",
   "execution_count": 9,
   "metadata": {},
   "outputs": [],
   "source": [
    "df = df.sort_values('DOB')"
   ]
  },
  {
   "cell_type": "code",
   "execution_count": 12,
   "metadata": {},
   "outputs": [
    {
     "data": {
      "text/plain": [
       "Sex\n",
       "F    34\n",
       "M    29\n",
       "dtype: int64"
      ]
     },
     "execution_count": 12,
     "metadata": {},
     "output_type": "execute_result"
    }
   ],
   "source": [
    "df.query('Lineage.str.contains(\"PB#7\")').groupby(\"Sex\").size()"
   ]
  },
  {
   "cell_type": "code",
   "execution_count": 10,
   "metadata": {},
   "outputs": [
    {
     "data": {
      "text/plain": [
       "array(['', '1853PBF#1', 'J024858-Cas9 x PB#21 (not B6)', 'PB#21', 'PBF',\n",
       "       '1763PB#7', '1763PB#3', 'LSL-Cas9 x SynCre', '1685ins21#2',\n",
       "       'J024858-Cas9', 'LSL-Cas9 x hCD2', 'C57BL/6J', 'J028555_B6-Cas9',\n",
       "       'J000664_B6 x PB#21', 'J028555_B6-Cas9 x PB#21'], dtype=object)"
      ]
     },
     "execution_count": 10,
     "metadata": {},
     "output_type": "execute_result"
    }
   ],
   "source": [
    "df.Lineage.unique()"
   ]
  },
  {
   "cell_type": "code",
   "execution_count": 11,
   "metadata": {},
   "outputs": [
    {
     "name": "stdout",
     "output_type": "stream",
     "text": [
      "0 \n",
      "1 1853PBF#1\n",
      "2 J024858-Cas9 x PB#21 (not B6)\n",
      "3 PB#21\n",
      "4 PBF\n",
      "5 1763PB#7\n",
      "6 1763PB#3\n",
      "7 LSL-Cas9 x SynCre\n",
      "8 1685ins21#2\n",
      "9 J024858-Cas9\n",
      "10 LSL-Cas9 x hCD2\n",
      "11 C57BL/6J\n",
      "12 J028555_B6-Cas9\n",
      "13 J000664_B6 x PB#21\n",
      "14 J028555_B6-Cas9 x PB#21\n"
     ]
    }
   ],
   "source": [
    "# check that lineages are correct\n",
    "for num, el in enumerate(df.Lineage.unique()):\n",
    "    print(num, el)"
   ]
  },
  {
   "cell_type": "code",
   "execution_count": 12,
   "metadata": {},
   "outputs": [],
   "source": [
    "# remapDict= {'PB3': '1763PB#3',\n",
    "#             'PB21' : 'PB#21'}\n",
    "# #             'pb7' : '1763PB#7',\n",
    "# #             'pbf': '1853PBF#1'}\n",
    "# for key, value in remapDict.items():\n",
    "#     df.Lineage = df.Lineage.apply(lambda row: value if key in row else row)"
   ]
  },
  {
   "cell_type": "code",
   "execution_count": 13,
   "metadata": {},
   "outputs": [
    {
     "name": "stdout",
     "output_type": "stream",
     "text": [
      "Saved CSV with fns 211117-AllCages.csv\n",
      "Saved CSV with fns 211117-FemaleCons.csv\n"
     ]
    }
   ],
   "source": [
    "makeConsolidations(df, save = True, popBack = False) #save current state of the colony for quick statuses etc"
   ]
  },
  {
   "cell_type": "code",
   "execution_count": 14,
   "metadata": {},
   "outputs": [],
   "source": [
    "df = df.sort_values('DOB_clean')"
   ]
  },
  {
   "cell_type": "code",
   "execution_count": 33,
   "metadata": {},
   "outputs": [
    {
     "data": {
      "text/html": [
       "<div>\n",
       "<style scoped>\n",
       "    .dataframe tbody tr th:only-of-type {\n",
       "        vertical-align: middle;\n",
       "    }\n",
       "\n",
       "    .dataframe tbody tr th {\n",
       "        vertical-align: top;\n",
       "    }\n",
       "\n",
       "    .dataframe thead th {\n",
       "        text-align: right;\n",
       "    }\n",
       "</style>\n",
       "<table border=\"1\" class=\"dataframe\">\n",
       "  <thead>\n",
       "    <tr style=\"text-align: right;\">\n",
       "      <th></th>\n",
       "      <th>DOB_clean</th>\n",
       "      <th>2021-08-31 00:00:00</th>\n",
       "      <th>2021-09-30 00:00:00</th>\n",
       "      <th>2021-10-31 00:00:00</th>\n",
       "      <th>Total</th>\n",
       "    </tr>\n",
       "    <tr>\n",
       "      <th>Lineage</th>\n",
       "      <th>Sex</th>\n",
       "      <th></th>\n",
       "      <th></th>\n",
       "      <th></th>\n",
       "      <th></th>\n",
       "    </tr>\n",
       "  </thead>\n",
       "  <tbody>\n",
       "    <tr>\n",
       "      <th rowspan=\"2\" valign=\"top\">1685ins21#2</th>\n",
       "      <th>F</th>\n",
       "      <td>-</td>\n",
       "      <td>2.0</td>\n",
       "      <td>-</td>\n",
       "      <td>2.0</td>\n",
       "    </tr>\n",
       "    <tr>\n",
       "      <th>M</th>\n",
       "      <td>-</td>\n",
       "      <td>3.0</td>\n",
       "      <td>-</td>\n",
       "      <td>3.0</td>\n",
       "    </tr>\n",
       "    <tr>\n",
       "      <th rowspan=\"2\" valign=\"top\">1763PB#3</th>\n",
       "      <th>F</th>\n",
       "      <td>-</td>\n",
       "      <td>9.0</td>\n",
       "      <td>-</td>\n",
       "      <td>9.0</td>\n",
       "    </tr>\n",
       "    <tr>\n",
       "      <th>M</th>\n",
       "      <td>-</td>\n",
       "      <td>10.0</td>\n",
       "      <td>-</td>\n",
       "      <td>10.0</td>\n",
       "    </tr>\n",
       "    <tr>\n",
       "      <th rowspan=\"2\" valign=\"top\">1763PB#7</th>\n",
       "      <th>F</th>\n",
       "      <td>3.0</td>\n",
       "      <td>-</td>\n",
       "      <td>-</td>\n",
       "      <td>3.0</td>\n",
       "    </tr>\n",
       "    <tr>\n",
       "      <th>M</th>\n",
       "      <td>6.0</td>\n",
       "      <td>-</td>\n",
       "      <td>-</td>\n",
       "      <td>6.0</td>\n",
       "    </tr>\n",
       "    <tr>\n",
       "      <th rowspan=\"2\" valign=\"top\">J000664_B6 x PB#21</th>\n",
       "      <th>F</th>\n",
       "      <td>12.0</td>\n",
       "      <td>-</td>\n",
       "      <td>-</td>\n",
       "      <td>12.0</td>\n",
       "    </tr>\n",
       "    <tr>\n",
       "      <th>M</th>\n",
       "      <td>10.0</td>\n",
       "      <td>-</td>\n",
       "      <td>-</td>\n",
       "      <td>10.0</td>\n",
       "    </tr>\n",
       "    <tr>\n",
       "      <th rowspan=\"2\" valign=\"top\">J024858-Cas9 x PB#21 (not B6)</th>\n",
       "      <th>F</th>\n",
       "      <td>5.0</td>\n",
       "      <td>-</td>\n",
       "      <td>-</td>\n",
       "      <td>5.0</td>\n",
       "    </tr>\n",
       "    <tr>\n",
       "      <th>M</th>\n",
       "      <td>9.0</td>\n",
       "      <td>-</td>\n",
       "      <td>-</td>\n",
       "      <td>9.0</td>\n",
       "    </tr>\n",
       "    <tr>\n",
       "      <th rowspan=\"2\" valign=\"top\">J028555_B6-Cas9 x PB#21</th>\n",
       "      <th>F</th>\n",
       "      <td>8.0</td>\n",
       "      <td>-</td>\n",
       "      <td>-</td>\n",
       "      <td>8.0</td>\n",
       "    </tr>\n",
       "    <tr>\n",
       "      <th>M</th>\n",
       "      <td>9.0</td>\n",
       "      <td>-</td>\n",
       "      <td>-</td>\n",
       "      <td>9.0</td>\n",
       "    </tr>\n",
       "    <tr>\n",
       "      <th rowspan=\"2\" valign=\"top\">PB#21</th>\n",
       "      <th>F</th>\n",
       "      <td>5.0</td>\n",
       "      <td>-</td>\n",
       "      <td>1.0</td>\n",
       "      <td>6.0</td>\n",
       "    </tr>\n",
       "    <tr>\n",
       "      <th>M</th>\n",
       "      <td>5.0</td>\n",
       "      <td>-</td>\n",
       "      <td>3.0</td>\n",
       "      <td>8.0</td>\n",
       "    </tr>\n",
       "    <tr>\n",
       "      <th rowspan=\"2\" valign=\"top\">PBF</th>\n",
       "      <th>F</th>\n",
       "      <td>-</td>\n",
       "      <td>-</td>\n",
       "      <td>3.0</td>\n",
       "      <td>3.0</td>\n",
       "    </tr>\n",
       "    <tr>\n",
       "      <th>M</th>\n",
       "      <td>-</td>\n",
       "      <td>-</td>\n",
       "      <td>1.0</td>\n",
       "      <td>1.0</td>\n",
       "    </tr>\n",
       "  </tbody>\n",
       "</table>\n",
       "</div>"
      ],
      "text/plain": [
       "DOB_clean                         2021-08-31 00:00:00 2021-09-30 00:00:00  \\\n",
       "Lineage                       Sex                                           \n",
       "1685ins21#2                   F                     -                 2.0   \n",
       "                              M                     -                 3.0   \n",
       "1763PB#3                      F                     -                 9.0   \n",
       "                              M                     -                10.0   \n",
       "1763PB#7                      F                   3.0                   -   \n",
       "                              M                   6.0                   -   \n",
       "J000664_B6 x PB#21            F                  12.0                   -   \n",
       "                              M                  10.0                   -   \n",
       "J024858-Cas9 x PB#21 (not B6) F                   5.0                   -   \n",
       "                              M                   9.0                   -   \n",
       "J028555_B6-Cas9 x PB#21       F                   8.0                   -   \n",
       "                              M                   9.0                   -   \n",
       "PB#21                         F                   5.0                   -   \n",
       "                              M                   5.0                   -   \n",
       "PBF                           F                     -                   -   \n",
       "                              M                     -                   -   \n",
       "\n",
       "DOB_clean                         2021-10-31 00:00:00  Total  \n",
       "Lineage                       Sex                             \n",
       "1685ins21#2                   F                     -    2.0  \n",
       "                              M                     -    3.0  \n",
       "1763PB#3                      F                     -    9.0  \n",
       "                              M                     -   10.0  \n",
       "1763PB#7                      F                     -    3.0  \n",
       "                              M                     -    6.0  \n",
       "J000664_B6 x PB#21            F                     -   12.0  \n",
       "                              M                     -   10.0  \n",
       "J024858-Cas9 x PB#21 (not B6) F                     -    5.0  \n",
       "                              M                     -    9.0  \n",
       "J028555_B6-Cas9 x PB#21       F                     -    8.0  \n",
       "                              M                     -    9.0  \n",
       "PB#21                         F                   1.0    6.0  \n",
       "                              M                   3.0    8.0  \n",
       "PBF                           F                   3.0    3.0  \n",
       "                              M                   1.0    1.0  "
      ]
     },
     "execution_count": 33,
     "metadata": {},
     "output_type": "execute_result"
    }
   ],
   "source": [
    "grouped = df.query('DOB_clean > \"2021-08\"').groupby([pd.Grouper(key='DOB_clean',freq='m'), 'Lineage',\n",
    "            'Sex']).size().unstack('DOB_clean')#.reset_index()\n",
    "grouped['Total'] = grouped.sum(axis=1)\n",
    "grouped = grouped.fillna(\"-\")\n",
    "grouped\n",
    "# tabulate(grouped, headers='keys', tablefmt='psql')"
   ]
  },
  {
   "cell_type": "code",
   "execution_count": 87,
   "metadata": {},
   "outputs": [
    {
     "data": {
      "text/html": [
       "<div>\n",
       "<style scoped>\n",
       "    .dataframe tbody tr th:only-of-type {\n",
       "        vertical-align: middle;\n",
       "    }\n",
       "\n",
       "    .dataframe tbody tr th {\n",
       "        vertical-align: top;\n",
       "    }\n",
       "\n",
       "    .dataframe thead th {\n",
       "        text-align: right;\n",
       "    }\n",
       "</style>\n",
       "<table border=\"1\" class=\"dataframe\">\n",
       "  <thead>\n",
       "    <tr style=\"text-align: right;\">\n",
       "      <th></th>\n",
       "      <th>Lineage</th>\n",
       "      <th>Sex</th>\n",
       "      <th>DOB_clean</th>\n",
       "      <th>0</th>\n",
       "      <th>Total</th>\n",
       "    </tr>\n",
       "  </thead>\n",
       "  <tbody>\n",
       "    <tr>\n",
       "      <th>0</th>\n",
       "      <td>1685ins21#2</td>\n",
       "      <td>F</td>\n",
       "      <td>2021-06-30</td>\n",
       "      <td>12</td>\n",
       "      <td>12</td>\n",
       "    </tr>\n",
       "    <tr>\n",
       "      <th>1</th>\n",
       "      <td>1685ins21#2</td>\n",
       "      <td>F</td>\n",
       "      <td>2021-09-30</td>\n",
       "      <td>2</td>\n",
       "      <td>2</td>\n",
       "    </tr>\n",
       "    <tr>\n",
       "      <th>2</th>\n",
       "      <td>1685ins21#2</td>\n",
       "      <td>M</td>\n",
       "      <td>2021-06-30</td>\n",
       "      <td>6</td>\n",
       "      <td>6</td>\n",
       "    </tr>\n",
       "    <tr>\n",
       "      <th>3</th>\n",
       "      <td>1685ins21#2</td>\n",
       "      <td>M</td>\n",
       "      <td>2021-09-30</td>\n",
       "      <td>3</td>\n",
       "      <td>3</td>\n",
       "    </tr>\n",
       "    <tr>\n",
       "      <th>4</th>\n",
       "      <td>1763PB#3</td>\n",
       "      <td>F</td>\n",
       "      <td>2020-12-31</td>\n",
       "      <td>4</td>\n",
       "      <td>4</td>\n",
       "    </tr>\n",
       "    <tr>\n",
       "      <th>5</th>\n",
       "      <td>1763PB#3</td>\n",
       "      <td>F</td>\n",
       "      <td>2021-06-30</td>\n",
       "      <td>22</td>\n",
       "      <td>22</td>\n",
       "    </tr>\n",
       "    <tr>\n",
       "      <th>6</th>\n",
       "      <td>1763PB#3</td>\n",
       "      <td>F</td>\n",
       "      <td>2021-09-30</td>\n",
       "      <td>20</td>\n",
       "      <td>20</td>\n",
       "    </tr>\n",
       "    <tr>\n",
       "      <th>7</th>\n",
       "      <td>1763PB#3</td>\n",
       "      <td>M</td>\n",
       "      <td>2021-06-30</td>\n",
       "      <td>22</td>\n",
       "      <td>22</td>\n",
       "    </tr>\n",
       "    <tr>\n",
       "      <th>8</th>\n",
       "      <td>1763PB#3</td>\n",
       "      <td>M</td>\n",
       "      <td>2021-09-30</td>\n",
       "      <td>17</td>\n",
       "      <td>17</td>\n",
       "    </tr>\n",
       "    <tr>\n",
       "      <th>9</th>\n",
       "      <td>1763PB#7</td>\n",
       "      <td>F</td>\n",
       "      <td>2020-12-31</td>\n",
       "      <td>3</td>\n",
       "      <td>3</td>\n",
       "    </tr>\n",
       "    <tr>\n",
       "      <th>10</th>\n",
       "      <td>1763PB#7</td>\n",
       "      <td>F</td>\n",
       "      <td>2021-06-30</td>\n",
       "      <td>19</td>\n",
       "      <td>19</td>\n",
       "    </tr>\n",
       "    <tr>\n",
       "      <th>11</th>\n",
       "      <td>1763PB#7</td>\n",
       "      <td>F</td>\n",
       "      <td>2021-09-30</td>\n",
       "      <td>12</td>\n",
       "      <td>12</td>\n",
       "    </tr>\n",
       "    <tr>\n",
       "      <th>12</th>\n",
       "      <td>1763PB#7</td>\n",
       "      <td>M</td>\n",
       "      <td>2020-12-31</td>\n",
       "      <td>1</td>\n",
       "      <td>1</td>\n",
       "    </tr>\n",
       "    <tr>\n",
       "      <th>13</th>\n",
       "      <td>1763PB#7</td>\n",
       "      <td>M</td>\n",
       "      <td>2021-06-30</td>\n",
       "      <td>7</td>\n",
       "      <td>7</td>\n",
       "    </tr>\n",
       "    <tr>\n",
       "      <th>14</th>\n",
       "      <td>1763PB#7</td>\n",
       "      <td>M</td>\n",
       "      <td>2021-09-30</td>\n",
       "      <td>21</td>\n",
       "      <td>21</td>\n",
       "    </tr>\n",
       "    <tr>\n",
       "      <th>15</th>\n",
       "      <td>1853PBF#1</td>\n",
       "      <td>F</td>\n",
       "      <td>2021-03-31</td>\n",
       "      <td>5</td>\n",
       "      <td>5</td>\n",
       "    </tr>\n",
       "    <tr>\n",
       "      <th>16</th>\n",
       "      <td>1853PBF#1</td>\n",
       "      <td>M</td>\n",
       "      <td>2020-12-31</td>\n",
       "      <td>1</td>\n",
       "      <td>1</td>\n",
       "    </tr>\n",
       "    <tr>\n",
       "      <th>17</th>\n",
       "      <td>1853PBF#1</td>\n",
       "      <td>M</td>\n",
       "      <td>2021-03-31</td>\n",
       "      <td>2</td>\n",
       "      <td>2</td>\n",
       "    </tr>\n",
       "    <tr>\n",
       "      <th>18</th>\n",
       "      <td>C57BL/6J</td>\n",
       "      <td>F</td>\n",
       "      <td>2021-06-30</td>\n",
       "      <td>3</td>\n",
       "      <td>3</td>\n",
       "    </tr>\n",
       "    <tr>\n",
       "      <th>19</th>\n",
       "      <td>J000664_B6 x PB#21</td>\n",
       "      <td>F</td>\n",
       "      <td>2021-09-30</td>\n",
       "      <td>12</td>\n",
       "      <td>12</td>\n",
       "    </tr>\n",
       "    <tr>\n",
       "      <th>20</th>\n",
       "      <td>J000664_B6 x PB#21</td>\n",
       "      <td>M</td>\n",
       "      <td>2021-09-30</td>\n",
       "      <td>8</td>\n",
       "      <td>8</td>\n",
       "    </tr>\n",
       "    <tr>\n",
       "      <th>21</th>\n",
       "      <td>J000664_B6 x PB#21</td>\n",
       "      <td>Male</td>\n",
       "      <td>2021-09-30</td>\n",
       "      <td>1</td>\n",
       "      <td>1</td>\n",
       "    </tr>\n",
       "    <tr>\n",
       "      <th>22</th>\n",
       "      <td>J000664_B6 x PB#21</td>\n",
       "      <td>na</td>\n",
       "      <td>2021-09-30</td>\n",
       "      <td>1</td>\n",
       "      <td>1</td>\n",
       "    </tr>\n",
       "    <tr>\n",
       "      <th>23</th>\n",
       "      <td>J024858-Cas9</td>\n",
       "      <td>F</td>\n",
       "      <td>2021-06-30</td>\n",
       "      <td>17</td>\n",
       "      <td>17</td>\n",
       "    </tr>\n",
       "    <tr>\n",
       "      <th>24</th>\n",
       "      <td>J024858-Cas9</td>\n",
       "      <td>F</td>\n",
       "      <td>2021-09-30</td>\n",
       "      <td>5</td>\n",
       "      <td>5</td>\n",
       "    </tr>\n",
       "    <tr>\n",
       "      <th>25</th>\n",
       "      <td>J024858-Cas9</td>\n",
       "      <td>M</td>\n",
       "      <td>2021-06-30</td>\n",
       "      <td>7</td>\n",
       "      <td>7</td>\n",
       "    </tr>\n",
       "    <tr>\n",
       "      <th>26</th>\n",
       "      <td>J024858-Cas9</td>\n",
       "      <td>M</td>\n",
       "      <td>2021-09-30</td>\n",
       "      <td>3</td>\n",
       "      <td>3</td>\n",
       "    </tr>\n",
       "    <tr>\n",
       "      <th>27</th>\n",
       "      <td>J024858-Cas9 x PB#21 (not B6)</td>\n",
       "      <td>F</td>\n",
       "      <td>2020-12-31</td>\n",
       "      <td>9</td>\n",
       "      <td>9</td>\n",
       "    </tr>\n",
       "    <tr>\n",
       "      <th>28</th>\n",
       "      <td>J024858-Cas9 x PB#21 (not B6)</td>\n",
       "      <td>F</td>\n",
       "      <td>2021-03-31</td>\n",
       "      <td>3</td>\n",
       "      <td>3</td>\n",
       "    </tr>\n",
       "    <tr>\n",
       "      <th>29</th>\n",
       "      <td>J024858-Cas9 x PB#21 (not B6)</td>\n",
       "      <td>F</td>\n",
       "      <td>2021-09-30</td>\n",
       "      <td>11</td>\n",
       "      <td>11</td>\n",
       "    </tr>\n",
       "    <tr>\n",
       "      <th>30</th>\n",
       "      <td>J024858-Cas9 x PB#21 (not B6)</td>\n",
       "      <td>F\\n</td>\n",
       "      <td>2021-09-30</td>\n",
       "      <td>2</td>\n",
       "      <td>2</td>\n",
       "    </tr>\n",
       "    <tr>\n",
       "      <th>31</th>\n",
       "      <td>J024858-Cas9 x PB#21 (not B6)</td>\n",
       "      <td>M</td>\n",
       "      <td>2020-12-31</td>\n",
       "      <td>7</td>\n",
       "      <td>7</td>\n",
       "    </tr>\n",
       "    <tr>\n",
       "      <th>32</th>\n",
       "      <td>J024858-Cas9 x PB#21 (not B6)</td>\n",
       "      <td>M</td>\n",
       "      <td>2021-03-31</td>\n",
       "      <td>10</td>\n",
       "      <td>10</td>\n",
       "    </tr>\n",
       "    <tr>\n",
       "      <th>33</th>\n",
       "      <td>J024858-Cas9 x PB#21 (not B6)</td>\n",
       "      <td>M</td>\n",
       "      <td>2021-09-30</td>\n",
       "      <td>25</td>\n",
       "      <td>25</td>\n",
       "    </tr>\n",
       "    <tr>\n",
       "      <th>34</th>\n",
       "      <td>J028555_B6-Cas9</td>\n",
       "      <td>F</td>\n",
       "      <td>2021-06-30</td>\n",
       "      <td>3</td>\n",
       "      <td>3</td>\n",
       "    </tr>\n",
       "    <tr>\n",
       "      <th>35</th>\n",
       "      <td>J028555_B6-Cas9 x PB#21</td>\n",
       "      <td>F</td>\n",
       "      <td>2021-09-30</td>\n",
       "      <td>8</td>\n",
       "      <td>8</td>\n",
       "    </tr>\n",
       "    <tr>\n",
       "      <th>36</th>\n",
       "      <td>J028555_B6-Cas9 x PB#21</td>\n",
       "      <td>M</td>\n",
       "      <td>2021-09-30</td>\n",
       "      <td>9</td>\n",
       "      <td>9</td>\n",
       "    </tr>\n",
       "    <tr>\n",
       "      <th>37</th>\n",
       "      <td>LSL-Cas9 x SynCre</td>\n",
       "      <td>F</td>\n",
       "      <td>2020-03-31</td>\n",
       "      <td>2</td>\n",
       "      <td>2</td>\n",
       "    </tr>\n",
       "    <tr>\n",
       "      <th>38</th>\n",
       "      <td>LSL-Cas9 x SynCre</td>\n",
       "      <td>M</td>\n",
       "      <td>2020-03-31</td>\n",
       "      <td>1</td>\n",
       "      <td>1</td>\n",
       "    </tr>\n",
       "    <tr>\n",
       "      <th>39</th>\n",
       "      <td>LSL-Cas9 x hCD2</td>\n",
       "      <td>F</td>\n",
       "      <td>2021-06-30</td>\n",
       "      <td>2</td>\n",
       "      <td>2</td>\n",
       "    </tr>\n",
       "    <tr>\n",
       "      <th>40</th>\n",
       "      <td>LSL-Cas9 x hCD2</td>\n",
       "      <td>M</td>\n",
       "      <td>2021-09-30</td>\n",
       "      <td>2</td>\n",
       "      <td>2</td>\n",
       "    </tr>\n",
       "    <tr>\n",
       "      <th>41</th>\n",
       "      <td>PB#21</td>\n",
       "      <td></td>\n",
       "      <td>2021-09-30</td>\n",
       "      <td>10</td>\n",
       "      <td>10</td>\n",
       "    </tr>\n",
       "    <tr>\n",
       "      <th>42</th>\n",
       "      <td>PB#21</td>\n",
       "      <td>F</td>\n",
       "      <td>2021-06-30</td>\n",
       "      <td>4</td>\n",
       "      <td>4</td>\n",
       "    </tr>\n",
       "    <tr>\n",
       "      <th>43</th>\n",
       "      <td>PB#21</td>\n",
       "      <td>F</td>\n",
       "      <td>2021-09-30</td>\n",
       "      <td>3</td>\n",
       "      <td>3</td>\n",
       "    </tr>\n",
       "    <tr>\n",
       "      <th>44</th>\n",
       "      <td>PB#21</td>\n",
       "      <td>F</td>\n",
       "      <td>2021-12-31</td>\n",
       "      <td>1</td>\n",
       "      <td>1</td>\n",
       "    </tr>\n",
       "    <tr>\n",
       "      <th>45</th>\n",
       "      <td>PB#21</td>\n",
       "      <td>M</td>\n",
       "      <td>2020-12-31</td>\n",
       "      <td>6</td>\n",
       "      <td>6</td>\n",
       "    </tr>\n",
       "    <tr>\n",
       "      <th>46</th>\n",
       "      <td>PB#21</td>\n",
       "      <td>M</td>\n",
       "      <td>2021-06-30</td>\n",
       "      <td>12</td>\n",
       "      <td>12</td>\n",
       "    </tr>\n",
       "    <tr>\n",
       "      <th>47</th>\n",
       "      <td>PB#21</td>\n",
       "      <td>M</td>\n",
       "      <td>2021-09-30</td>\n",
       "      <td>11</td>\n",
       "      <td>11</td>\n",
       "    </tr>\n",
       "    <tr>\n",
       "      <th>48</th>\n",
       "      <td>PB#21</td>\n",
       "      <td>M</td>\n",
       "      <td>2021-12-31</td>\n",
       "      <td>3</td>\n",
       "      <td>3</td>\n",
       "    </tr>\n",
       "    <tr>\n",
       "      <th>49</th>\n",
       "      <td>PBF</td>\n",
       "      <td>F</td>\n",
       "      <td>2021-12-31</td>\n",
       "      <td>3</td>\n",
       "      <td>3</td>\n",
       "    </tr>\n",
       "    <tr>\n",
       "      <th>50</th>\n",
       "      <td>PBF</td>\n",
       "      <td>M</td>\n",
       "      <td>2021-12-31</td>\n",
       "      <td>1</td>\n",
       "      <td>1</td>\n",
       "    </tr>\n",
       "  </tbody>\n",
       "</table>\n",
       "</div>"
      ],
      "text/plain": [
       "                          Lineage   Sex  DOB_clean   0  Total\n",
       "0                     1685ins21#2     F 2021-06-30  12     12\n",
       "1                     1685ins21#2     F 2021-09-30   2      2\n",
       "2                     1685ins21#2     M 2021-06-30   6      6\n",
       "3                     1685ins21#2     M 2021-09-30   3      3\n",
       "4                        1763PB#3     F 2020-12-31   4      4\n",
       "5                        1763PB#3     F 2021-06-30  22     22\n",
       "6                        1763PB#3     F 2021-09-30  20     20\n",
       "7                        1763PB#3     M 2021-06-30  22     22\n",
       "8                        1763PB#3     M 2021-09-30  17     17\n",
       "9                        1763PB#7     F 2020-12-31   3      3\n",
       "10                       1763PB#7     F 2021-06-30  19     19\n",
       "11                       1763PB#7     F 2021-09-30  12     12\n",
       "12                       1763PB#7     M 2020-12-31   1      1\n",
       "13                       1763PB#7     M 2021-06-30   7      7\n",
       "14                       1763PB#7     M 2021-09-30  21     21\n",
       "15                      1853PBF#1     F 2021-03-31   5      5\n",
       "16                      1853PBF#1     M 2020-12-31   1      1\n",
       "17                      1853PBF#1     M 2021-03-31   2      2\n",
       "18                       C57BL/6J     F 2021-06-30   3      3\n",
       "19             J000664_B6 x PB#21     F 2021-09-30  12     12\n",
       "20             J000664_B6 x PB#21     M 2021-09-30   8      8\n",
       "21             J000664_B6 x PB#21  Male 2021-09-30   1      1\n",
       "22             J000664_B6 x PB#21    na 2021-09-30   1      1\n",
       "23                   J024858-Cas9     F 2021-06-30  17     17\n",
       "24                   J024858-Cas9     F 2021-09-30   5      5\n",
       "25                   J024858-Cas9     M 2021-06-30   7      7\n",
       "26                   J024858-Cas9     M 2021-09-30   3      3\n",
       "27  J024858-Cas9 x PB#21 (not B6)     F 2020-12-31   9      9\n",
       "28  J024858-Cas9 x PB#21 (not B6)     F 2021-03-31   3      3\n",
       "29  J024858-Cas9 x PB#21 (not B6)     F 2021-09-30  11     11\n",
       "30  J024858-Cas9 x PB#21 (not B6)   F\\n 2021-09-30   2      2\n",
       "31  J024858-Cas9 x PB#21 (not B6)     M 2020-12-31   7      7\n",
       "32  J024858-Cas9 x PB#21 (not B6)     M 2021-03-31  10     10\n",
       "33  J024858-Cas9 x PB#21 (not B6)     M 2021-09-30  25     25\n",
       "34                J028555_B6-Cas9     F 2021-06-30   3      3\n",
       "35        J028555_B6-Cas9 x PB#21     F 2021-09-30   8      8\n",
       "36        J028555_B6-Cas9 x PB#21     M 2021-09-30   9      9\n",
       "37              LSL-Cas9 x SynCre     F 2020-03-31   2      2\n",
       "38              LSL-Cas9 x SynCre     M 2020-03-31   1      1\n",
       "39                LSL-Cas9 x hCD2     F 2021-06-30   2      2\n",
       "40                LSL-Cas9 x hCD2     M 2021-09-30   2      2\n",
       "41                          PB#21       2021-09-30  10     10\n",
       "42                          PB#21     F 2021-06-30   4      4\n",
       "43                          PB#21     F 2021-09-30   3      3\n",
       "44                          PB#21     F 2021-12-31   1      1\n",
       "45                          PB#21     M 2020-12-31   6      6\n",
       "46                          PB#21     M 2021-06-30  12     12\n",
       "47                          PB#21     M 2021-09-30  11     11\n",
       "48                          PB#21     M 2021-12-31   3      3\n",
       "49                            PBF     F 2021-12-31   3      3\n",
       "50                            PBF     M 2021-12-31   1      1"
      ]
     },
     "execution_count": 87,
     "metadata": {},
     "output_type": "execute_result"
    }
   ],
   "source": [
    "grouped = df.groupby(['Lineage',\n",
    "            'Sex',\n",
    "            pd.Grouper(key='DOB_clean',freq='q')]).size()..reset_index()\n",
    "grouped['Total'] = grouped.sum(axis=1)\n",
    "grouped\n",
    "# grouped.fillna(\"-\").to_csv(saveFn)"
   ]
  },
  {
   "cell_type": "code",
   "execution_count": 13,
   "metadata": {},
   "outputs": [
    {
     "data": {
      "text/html": [
       "<div>\n",
       "<style scoped>\n",
       "    .dataframe tbody tr th:only-of-type {\n",
       "        vertical-align: middle;\n",
       "    }\n",
       "\n",
       "    .dataframe tbody tr th {\n",
       "        vertical-align: top;\n",
       "    }\n",
       "\n",
       "    .dataframe thead th {\n",
       "        text-align: right;\n",
       "    }\n",
       "</style>\n",
       "<table border=\"1\" class=\"dataframe\">\n",
       "  <thead>\n",
       "    <tr style=\"text-align: right;\">\n",
       "      <th></th>\n",
       "      <th>Tag</th>\n",
       "      <th>Cage</th>\n",
       "      <th>Ear</th>\n",
       "      <th>Sex</th>\n",
       "      <th>Color</th>\n",
       "      <th>DOB</th>\n",
       "      <th>Lineage</th>\n",
       "      <th>Plate</th>\n",
       "      <th>DOD</th>\n",
       "      <th>Genotype</th>\n",
       "      <th>Father</th>\n",
       "      <th>Mother</th>\n",
       "    </tr>\n",
       "  </thead>\n",
       "  <tbody>\n",
       "    <tr>\n",
       "      <th>224</th>\n",
       "      <td>7077</td>\n",
       "      <td>AA0297</td>\n",
       "      <td>'t/++</td>\n",
       "      <td>F</td>\n",
       "      <td>Black</td>\n",
       "      <td>6/18/2021</td>\n",
       "      <td>PB#21</td>\n",
       "      <td>T1103218-H08</td>\n",
       "      <td>hold till 01/01/21</td>\n",
       "      <td>9E,12I,7S,17ina</td>\n",
       "      <td>5572</td>\n",
       "      <td>5653/5619</td>\n",
       "    </tr>\n",
       "    <tr>\n",
       "      <th>275</th>\n",
       "      <td>7033</td>\n",
       "      <td>AA0285</td>\n",
       "      <td>'t+\\-</td>\n",
       "      <td>F</td>\n",
       "      <td>Black</td>\n",
       "      <td>7/1/2021</td>\n",
       "      <td>PB#21</td>\n",
       "      <td>T1103218-B03</td>\n",
       "      <td>hold till 01/01/21</td>\n",
       "      <td>8E,14I,16S,12ina</td>\n",
       "      <td>5483</td>\n",
       "      <td>5642/5671</td>\n",
       "    </tr>\n",
       "    <tr>\n",
       "      <th>273</th>\n",
       "      <td>7031</td>\n",
       "      <td>AA0285</td>\n",
       "      <td>'t/+</td>\n",
       "      <td>F</td>\n",
       "      <td>Black</td>\n",
       "      <td>7/1/2021</td>\n",
       "      <td>PB#21</td>\n",
       "      <td>T1103218-H02</td>\n",
       "      <td>hold till 01/01/21</td>\n",
       "      <td>7E,15I,15S,14ina</td>\n",
       "      <td>5483</td>\n",
       "      <td>5642/5671</td>\n",
       "    </tr>\n",
       "    <tr>\n",
       "      <th>271</th>\n",
       "      <td>7029</td>\n",
       "      <td>AA0285</td>\n",
       "      <td>'+/t</td>\n",
       "      <td>F</td>\n",
       "      <td>Agouti</td>\n",
       "      <td>7/1/2021</td>\n",
       "      <td>PB#21</td>\n",
       "      <td>T1103218-F02</td>\n",
       "      <td>hold till 01/01/21</td>\n",
       "      <td>7E,15I,16S,16ina</td>\n",
       "      <td>5483</td>\n",
       "      <td>5642/5671</td>\n",
       "    </tr>\n",
       "  </tbody>\n",
       "</table>\n",
       "</div>"
      ],
      "text/plain": [
       "      Tag    Cage    Ear Sex   Color        DOB Lineage         Plate  \\\n",
       "224  7077  AA0297  't/++   F   Black  6/18/2021   PB#21  T1103218-H08   \n",
       "275  7033  AA0285  't+\\-   F   Black   7/1/2021   PB#21  T1103218-B03   \n",
       "273  7031  AA0285   't/+   F   Black   7/1/2021   PB#21  T1103218-H02   \n",
       "271  7029  AA0285   '+/t   F  Agouti   7/1/2021   PB#21  T1103218-F02   \n",
       "\n",
       "                    DOD          Genotype Father     Mother  \n",
       "224  hold till 01/01/21   9E,12I,7S,17ina   5572  5653/5619  \n",
       "275  hold till 01/01/21  8E,14I,16S,12ina   5483  5642/5671  \n",
       "273  hold till 01/01/21  7E,15I,15S,14ina   5483  5642/5671  \n",
       "271  hold till 01/01/21  7E,15I,16S,16ina   5483  5642/5671  "
      ]
     },
     "execution_count": 13,
     "metadata": {},
     "output_type": "execute_result"
    }
   ],
   "source": [
    "df.query('DOD.str.contains(\"hold\") & Sex == \"F\"')[easyCats + ['DOD','Genotype', 'Father', 'Mother']]"
   ]
  },
  {
   "cell_type": "code",
   "execution_count": 10,
   "metadata": {},
   "outputs": [
    {
     "data": {
      "text/html": [
       "<div>\n",
       "<style scoped>\n",
       "    .dataframe tbody tr th:only-of-type {\n",
       "        vertical-align: middle;\n",
       "    }\n",
       "\n",
       "    .dataframe tbody tr th {\n",
       "        vertical-align: top;\n",
       "    }\n",
       "\n",
       "    .dataframe thead tr th {\n",
       "        text-align: left;\n",
       "    }\n",
       "\n",
       "    .dataframe thead tr:last-of-type th {\n",
       "        text-align: right;\n",
       "    }\n",
       "</style>\n",
       "<table border=\"1\" class=\"dataframe\">\n",
       "  <thead>\n",
       "    <tr>\n",
       "      <th></th>\n",
       "      <th>Tag</th>\n",
       "      <th colspan=\"2\" halign=\"left\">DOB_clean</th>\n",
       "      <th>DOD</th>\n",
       "    </tr>\n",
       "    <tr>\n",
       "      <th></th>\n",
       "      <th>count</th>\n",
       "      <th>min</th>\n",
       "      <th>max</th>\n",
       "      <th>unique</th>\n",
       "    </tr>\n",
       "    <tr>\n",
       "      <th>Lineage</th>\n",
       "      <th></th>\n",
       "      <th></th>\n",
       "      <th></th>\n",
       "      <th></th>\n",
       "    </tr>\n",
       "  </thead>\n",
       "  <tbody>\n",
       "    <tr>\n",
       "      <th>1685ins21#2</th>\n",
       "      <td>2</td>\n",
       "      <td>2021-09-10</td>\n",
       "      <td>2021-09-10</td>\n",
       "      <td>[]</td>\n",
       "    </tr>\n",
       "    <tr>\n",
       "      <th>1763PB#3</th>\n",
       "      <td>16</td>\n",
       "      <td>2021-06-07</td>\n",
       "      <td>2021-07-22</td>\n",
       "      <td>[dispensible, ]</td>\n",
       "    </tr>\n",
       "    <tr>\n",
       "      <th>1763PB#7</th>\n",
       "      <td>11</td>\n",
       "      <td>2021-06-18</td>\n",
       "      <td>2021-08-25</td>\n",
       "      <td>[]</td>\n",
       "    </tr>\n",
       "    <tr>\n",
       "      <th>C57BL/6J</th>\n",
       "      <td>3</td>\n",
       "      <td>2021-06-08</td>\n",
       "      <td>2021-06-08</td>\n",
       "      <td>[]</td>\n",
       "    </tr>\n",
       "    <tr>\n",
       "      <th>J000664_B6 x PB#21</th>\n",
       "      <td>12</td>\n",
       "      <td>2021-08-10</td>\n",
       "      <td>2021-08-17</td>\n",
       "      <td>[]</td>\n",
       "    </tr>\n",
       "    <tr>\n",
       "      <th>J024858-Cas9</th>\n",
       "      <td>8</td>\n",
       "      <td>2021-06-17</td>\n",
       "      <td>2021-07-10</td>\n",
       "      <td>[]</td>\n",
       "    </tr>\n",
       "    <tr>\n",
       "      <th>J024858-Cas9 x PB#21 (not B6)</th>\n",
       "      <td>11</td>\n",
       "      <td>2021-07-08</td>\n",
       "      <td>2021-08-04</td>\n",
       "      <td>[]</td>\n",
       "    </tr>\n",
       "    <tr>\n",
       "      <th>J028555_B6-Cas9</th>\n",
       "      <td>3</td>\n",
       "      <td>2021-06-08</td>\n",
       "      <td>2021-06-08</td>\n",
       "      <td>[]</td>\n",
       "    </tr>\n",
       "    <tr>\n",
       "      <th>J028555_B6-Cas9 x PB#21</th>\n",
       "      <td>8</td>\n",
       "      <td>2021-08-10</td>\n",
       "      <td>2021-08-12</td>\n",
       "      <td>[]</td>\n",
       "    </tr>\n",
       "    <tr>\n",
       "      <th>PB#21</th>\n",
       "      <td>4</td>\n",
       "      <td>2021-06-18</td>\n",
       "      <td>2021-07-01</td>\n",
       "      <td>[hold till 01/01/21]</td>\n",
       "    </tr>\n",
       "    <tr>\n",
       "      <th>PB3</th>\n",
       "      <td>6</td>\n",
       "      <td>2021-09-24</td>\n",
       "      <td>2021-09-24</td>\n",
       "      <td>[]</td>\n",
       "    </tr>\n",
       "  </tbody>\n",
       "</table>\n",
       "</div>"
      ],
      "text/plain": [
       "                                Tag  DOB_clean             \\\n",
       "                              count        min        max   \n",
       "Lineage                                                     \n",
       "1685ins21#2                       2 2021-09-10 2021-09-10   \n",
       "1763PB#3                         16 2021-06-07 2021-07-22   \n",
       "1763PB#7                         11 2021-06-18 2021-08-25   \n",
       "C57BL/6J                          3 2021-06-08 2021-06-08   \n",
       "J000664_B6 x PB#21               12 2021-08-10 2021-08-17   \n",
       "J024858-Cas9                      8 2021-06-17 2021-07-10   \n",
       "J024858-Cas9 x PB#21 (not B6)    11 2021-07-08 2021-08-04   \n",
       "J028555_B6-Cas9                   3 2021-06-08 2021-06-08   \n",
       "J028555_B6-Cas9 x PB#21           8 2021-08-10 2021-08-12   \n",
       "PB#21                             4 2021-06-18 2021-07-01   \n",
       "PB3                               6 2021-09-24 2021-09-24   \n",
       "\n",
       "                                                DOD  \n",
       "                                             unique  \n",
       "Lineage                                              \n",
       "1685ins21#2                                      []  \n",
       "1763PB#3                            [dispensible, ]  \n",
       "1763PB#7                                         []  \n",
       "C57BL/6J                                         []  \n",
       "J000664_B6 x PB#21                               []  \n",
       "J024858-Cas9                                     []  \n",
       "J024858-Cas9 x PB#21 (not B6)                    []  \n",
       "J028555_B6-Cas9                                  []  \n",
       "J028555_B6-Cas9 x PB#21                          []  \n",
       "PB#21                          [hold till 01/01/21]  \n",
       "PB3                                              []  "
      ]
     },
     "execution_count": 10,
     "metadata": {},
     "output_type": "execute_result"
    }
   ],
   "source": [
    "df.query('Sex == \"F\"  \\\n",
    "         & DOB_clean > \"2021-06\" \\\n",
    "         & ~DOD.str.contains(\"breeder\")').sort_values('DOB_clean',\n",
    "                                                       ascending=False).groupby([\n",
    "                                                                                 \"Lineage\"]).agg({'Tag':'unique',\n",
    "                                                                                                         'DOB_clean':['min', 'max'], 'Tag':'count', 'DOD':'unique'})\n",
    "# [easyCats + ['DOD','Genotype', 'Father', 'Mother']]"
   ]
  },
  {
   "cell_type": "code",
   "execution_count": null,
   "metadata": {},
   "outputs": [],
   "source": []
  },
  {
   "cell_type": "code",
   "execution_count": 12,
   "metadata": {},
   "outputs": [
    {
     "data": {
      "text/html": [
       "<div>\n",
       "<style scoped>\n",
       "    .dataframe tbody tr th:only-of-type {\n",
       "        vertical-align: middle;\n",
       "    }\n",
       "\n",
       "    .dataframe tbody tr th {\n",
       "        vertical-align: top;\n",
       "    }\n",
       "\n",
       "    .dataframe thead tr th {\n",
       "        text-align: left;\n",
       "    }\n",
       "\n",
       "    .dataframe thead tr:last-of-type th {\n",
       "        text-align: right;\n",
       "    }\n",
       "</style>\n",
       "<table border=\"1\" class=\"dataframe\">\n",
       "  <thead>\n",
       "    <tr>\n",
       "      <th></th>\n",
       "      <th></th>\n",
       "      <th>Cage</th>\n",
       "      <th colspan=\"2\" halign=\"left\">Tag</th>\n",
       "      <th colspan=\"2\" halign=\"left\">DOB_clean</th>\n",
       "    </tr>\n",
       "    <tr>\n",
       "      <th></th>\n",
       "      <th></th>\n",
       "      <th>unique</th>\n",
       "      <th>unique</th>\n",
       "      <th>count</th>\n",
       "      <th>min</th>\n",
       "      <th>max</th>\n",
       "    </tr>\n",
       "    <tr>\n",
       "      <th>DOD</th>\n",
       "      <th>Lineage</th>\n",
       "      <th></th>\n",
       "      <th></th>\n",
       "      <th></th>\n",
       "      <th></th>\n",
       "      <th></th>\n",
       "    </tr>\n",
       "  </thead>\n",
       "  <tbody>\n",
       "    <tr>\n",
       "      <th>dispensible</th>\n",
       "      <th>1763PB#3</th>\n",
       "      <td>[AA0320, AA0326, AA0331, AA0308]</td>\n",
       "      <td>[5877, 5891, 7091, 6023, 6025]</td>\n",
       "      <td>5</td>\n",
       "      <td>2021-06-19</td>\n",
       "      <td>2021-07-22</td>\n",
       "    </tr>\n",
       "  </tbody>\n",
       "</table>\n",
       "</div>"
      ],
      "text/plain": [
       "                                                  Cage  \\\n",
       "                                                unique   \n",
       "DOD         Lineage                                      \n",
       "dispensible 1763PB#3  [AA0320, AA0326, AA0331, AA0308]   \n",
       "\n",
       "                                                 Tag        DOB_clean  \\\n",
       "                                              unique count        min   \n",
       "DOD         Lineage                                                     \n",
       "dispensible 1763PB#3  [5877, 5891, 7091, 6023, 6025]     5 2021-06-19   \n",
       "\n",
       "                                 \n",
       "                            max  \n",
       "DOD         Lineage              \n",
       "dispensible 1763PB#3 2021-07-22  "
      ]
     },
     "execution_count": 12,
     "metadata": {},
     "output_type": "execute_result"
    }
   ],
   "source": [
    "df.query('Sex == \"F\"  \\\n",
    "         & DOB_clean > \"2021-06\" \\\n",
    "         & ~DOD.str.contains(\"breeder\") \\\n",
    "        & DOD.str.contains(\"disp\")').sort_values('DOB_clean',\n",
    "                                                       ascending=False).groupby(['DOD',\n",
    "                                                                                 \"Lineage\"]).agg({'Cage':'unique','Tag':['unique', 'count'],\n",
    "                                                                                                         'DOB_clean':['min', 'max']})\n",
    "# [easyCats + ['DOD','Genotype', 'Father', 'Mother']]\n",
    "# "
   ]
  },
  {
   "cell_type": "code",
   "execution_count": null,
   "metadata": {},
   "outputs": [],
   "source": [
    "df.DOB.unique()"
   ]
  },
  {
   "cell_type": "code",
   "execution_count": null,
   "metadata": {},
   "outputs": [],
   "source": [
    "df.query('DOD.str.contains(\"cross\")')"
   ]
  },
  {
   "cell_type": "code",
   "execution_count": 39,
   "metadata": {},
   "outputs": [
    {
     "data": {
      "text/html": [
       "<div>\n",
       "<style scoped>\n",
       "    .dataframe tbody tr th:only-of-type {\n",
       "        vertical-align: middle;\n",
       "    }\n",
       "\n",
       "    .dataframe tbody tr th {\n",
       "        vertical-align: top;\n",
       "    }\n",
       "\n",
       "    .dataframe thead th {\n",
       "        text-align: right;\n",
       "    }\n",
       "</style>\n",
       "<table border=\"1\" class=\"dataframe\">\n",
       "  <thead>\n",
       "    <tr style=\"text-align: right;\">\n",
       "      <th></th>\n",
       "      <th>Tag</th>\n",
       "      <th>DOB_clean</th>\n",
       "    </tr>\n",
       "  </thead>\n",
       "  <tbody>\n",
       "    <tr>\n",
       "      <th>count</th>\n",
       "      <td>62.0</td>\n",
       "      <td>NaT</td>\n",
       "    </tr>\n",
       "    <tr>\n",
       "      <th>min</th>\n",
       "      <td>NaN</td>\n",
       "      <td>2021-06-16</td>\n",
       "    </tr>\n",
       "    <tr>\n",
       "      <th>max</th>\n",
       "      <td>NaN</td>\n",
       "      <td>2021-08-12</td>\n",
       "    </tr>\n",
       "  </tbody>\n",
       "</table>\n",
       "</div>"
      ],
      "text/plain": [
       "        Tag  DOB_clean\n",
       "count  62.0        NaT\n",
       "min     NaN 2021-06-16\n",
       "max     NaN 2021-08-12"
      ]
     },
     "execution_count": 39,
     "metadata": {},
     "output_type": "execute_result"
    }
   ],
   "source": [
    "df.query('Sex == \"M\"  \\\n",
    "         & DOB_clean > \"2021-06\" \\\n",
    "         & ~DOD.str.contains(\"breeder\") \\\n",
    "         & Lineage.str.contains(\"PB#21\")').sort_values('DOB_clean',\n",
    "                                                       ascending=False)[easyCats + ['DOD','Genotype', 'Father', 'Mother']].groupby([\"Sex\", \"Lineage\"])\n",
    "# .agg({'Tag':'unique','DOB_clean':['min', 'max'], 'Tag':'count'})"
   ]
  },
  {
   "cell_type": "code",
   "execution_count": null,
   "metadata": {},
   "outputs": [],
   "source": [
    "for l in df.Lineage.unique(): print(l)"
   ]
  },
  {
   "cell_type": "code",
   "execution_count": null,
   "metadata": {},
   "outputs": [],
   "source": [
    "df.Lineage.unique()"
   ]
  },
  {
   "cell_type": "code",
   "execution_count": null,
   "metadata": {},
   "outputs": [],
   "source": [
    "# df.query(\"Lineage.str.contains('21') & DOD.str.contains('disp')\").sort_values(\"DispPercent\").groupby([\"Lineage\", \"DOD\", \"Cage\",]).agg({'Tag':'unique', 'Lineage': 'unique', \"DispPercent\": 'mean'})"
   ]
  },
  {
   "cell_type": "code",
   "execution_count": null,
   "metadata": {},
   "outputs": [],
   "source": [
    "fn = makefn('euthanize_sheet')\n",
    "df.fillna(\"-\").groupby(['Cage','DOD']).agg({'Tag':'unique', 'Lineage': 'unique'}).to_csv(fn)"
   ]
  },
  {
   "cell_type": "code",
   "execution_count": null,
   "metadata": {},
   "outputs": [],
   "source": [
    "df.DOB[df.DOB.notnull()]"
   ]
  },
  {
   "cell_type": "code",
   "execution_count": null,
   "metadata": {
    "scrolled": false
   },
   "outputs": [],
   "source": [
    "df.groupby(\"Lineage\").count()"
   ]
  },
  {
   "cell_type": "code",
   "execution_count": null,
   "metadata": {},
   "outputs": [],
   "source": [
    "breeders = (df.DOD == \"breeder\")"
   ]
  },
  {
   "cell_type": "markdown",
   "metadata": {},
   "source": [
    "## prolapsed mice "
   ]
  },
  {
   "cell_type": "code",
   "execution_count": null,
   "metadata": {},
   "outputs": [],
   "source": [
    "# df[breeders].to_clipboard('tsv')"
   ]
  },
  {
   "cell_type": "code",
   "execution_count": null,
   "metadata": {},
   "outputs": [],
   "source": [
    "# #5522 - 2/23/2021\n",
    "# # 5511 \n",
    "# # 5693 5/17\n",
    "# # 5645 5/17\n",
    "# # 5777 & cagemates ()\n",
    "# prolapses = [5522, 5511, 5693, 5645, 5777, 5778]\n",
    "# easyCats.append('DOD')"
   ]
  },
  {
   "cell_type": "code",
   "execution_count": null,
   "metadata": {},
   "outputs": [],
   "source": [
    "# df[df.Tag.isin(prolapses)][easyCats]"
   ]
  },
  {
   "cell_type": "code",
   "execution_count": null,
   "metadata": {},
   "outputs": [],
   "source": [
    "# df.query('Lineage == \"PB#21\" & DOD.str.contains(\"back\")').Tag.unique()"
   ]
  },
  {
   "cell_type": "code",
   "execution_count": null,
   "metadata": {},
   "outputs": [],
   "source": [
    "df[breeders].sort_values('Cage').groupby(['Cage']).agg({\n",
    "        'DispPercent': 'mean',\n",
    "#         'DispCount': 'mean',\n",
    "        #'Cage': 'size',\n",
    "        'Sex': 'unique',\n",
    "        'DOD': 'unique',\n",
    "        'Tag': 'unique',\n",
    "        'Color': 'unique',\n",
    "        'Ear': 'unique',\n",
    "        'Lineage': 'unique'\n",
    "    }).to_clipboard()"
   ]
  },
  {
   "cell_type": "code",
   "execution_count": null,
   "metadata": {},
   "outputs": [],
   "source": [
    "mask = ~df.TagClean.isin(tier1) \n",
    "experimental = df.Lineage.str.contains(\"Cas9 x\")\n",
    "PB = df.Lineage.str.contains(\"PB#\")\n",
    "tier1 = df.DOD.str.contains(\"tier1_confirmed|breed\")\n",
    "femalesM = (df.Sex.str.lower() == \"f\")\n",
    "malesM = (df.Sex.str.lower() == \"m\")\n",
    "not_ancient = df.DOB > '2020-04-01'"
   ]
  },
  {
   "cell_type": "code",
   "execution_count": null,
   "metadata": {},
   "outputs": [],
   "source": [
    "cats = ['Tag', 'Ear', 'Sex', 'Color','DOB', 'Lineage']"
   ]
  },
  {
   "cell_type": "code",
   "execution_count": null,
   "metadata": {},
   "outputs": [],
   "source": [
    "claire_january[cats].to_clipboard(index=False, sep=\"\\t\")"
   ]
  },
  {
   "cell_type": "code",
   "execution_count": null,
   "metadata": {},
   "outputs": [],
   "source": [
    "def is_number(s):\n",
    "    try:\n",
    "        float(s)\n",
    "        return s\n",
    "    except ValueError:\n",
    "        return float(''.join(ele for ele in s if ele.isdigit()))\n",
    "        print(s)''\n"
   ]
  },
  {
   "cell_type": "code",
   "execution_count": null,
   "metadata": {},
   "outputs": [],
   "source": [
    "# ts = os.path.getmtime(file)\n",
    "# print(\"mtime:\", dt.utcfromtimestamp(ts).strftime('%Y-%m-%d %H:%M:%S'))"
   ]
  },
  {
   "cell_type": "code",
   "execution_count": null,
   "metadata": {
    "scrolled": true
   },
   "outputs": [],
   "source": [
    "# df = importCleanDF(file,\n",
    "#                    dropDeads=False,\n",
    "#                    dropTransfers=True)\n",
    "\n",
    "# df = df[~df.DOD.str.contains(\"euthan|fd\")]"
   ]
  },
  {
   "cell_type": "code",
   "execution_count": null,
   "metadata": {},
   "outputs": [],
   "source": [
    "df.Lineage.unique()"
   ]
  },
  {
   "cell_type": "code",
   "execution_count": null,
   "metadata": {},
   "outputs": [],
   "source": [
    "# check that lineages are correct\n",
    "for num, el in enumerate(df.Lineage.unique()):\n",
    "    print(num, el)"
   ]
  },
  {
   "cell_type": "code",
   "execution_count": null,
   "metadata": {},
   "outputs": [],
   "source": [
    "# mask = ~df.TagClean.isin(tier1) \n",
    "experimental = df.Lineage.str.contains(\"Cas9 x\")\n",
    "PB = df.Lineage.str.contains(\"PB#\")\n",
    "tier1 = df.DOD.str.contains(\"tier1_confirmed|breed\")\n",
    "femalesM = (df.Sex.str.lower() == \"f\")\n",
    "malesM = (df.Sex.str.lower() == \"m\")\n",
    "not_ancient = df.DOB > '2020-04-01'\n",
    "ins = df.Lineage.str.contains(\"ins\")\n",
    "not_new = df.DOB < '2020-10-20'\n",
    "pb3 = df.Lineage.str.contains(\"PB#\")\n"
   ]
  },
  {
   "cell_type": "code",
   "execution_count": null,
   "metadata": {},
   "outputs": [],
   "source": [
    "df[ins & not_new][cats+['DOD']].to_clipboard(index=False)\n"
   ]
  },
  {
   "cell_type": "code",
   "execution_count": null,
   "metadata": {},
   "outputs": [],
   "source": [
    "# a, b = makeConsolidations(df, save = True, popBack = True)"
   ]
  },
  {
   "cell_type": "code",
   "execution_count": null,
   "metadata": {},
   "outputs": [],
   "source": [
    "df.groupby(['Lineage', 'DOD']).agg({'Cage': 'nunique', 'Sex':'unique', 'Tag': ['nunique','unique'], })"
   ]
  },
  {
   "cell_type": "code",
   "execution_count": null,
   "metadata": {},
   "outputs": [],
   "source": [
    "fns = glob.glob(f\"{source_dir}/*{date}*/*\")"
   ]
  },
  {
   "cell_type": "code",
   "execution_count": null,
   "metadata": {},
   "outputs": [],
   "source": [
    "animal_frames = []\n",
    "\n",
    "for fn in fns:\n",
    "        frame = pd.read_csv(fn, sep=\"\\t\")\n",
    "        frame['Lineage'], frame['Date'] = fn[10:24].split(\"-\", 1)\n",
    "        frame['SourceFn'] = fn\n",
    "        animal_frames.append(frame)"
   ]
  },
  {
   "cell_type": "markdown",
   "metadata": {},
   "source": [
    "# speciality functions - check breedings, splitting genotypes"
   ]
  },
  {
   "cell_type": "code",
   "execution_count": null,
   "metadata": {},
   "outputs": [],
   "source": [
    "source_dir = \"Breedings\"\n",
    "date = \"210827\"\n",
    "\n",
    "breeders = getBreedingList(source_dir, date)\n",
    "tier2 = set(breeders.query('SourceFn.str.contains(\"compositions2\")')['Tag'])\n",
    "tier1 = set(breeders.query('SourceFn.str.contains(\"compositions1\")')['Tag'])\n",
    "\n",
    "# syntax to check if breeder list against colony list\n",
    "df[df['Tag'].isin(tier1) & df['Tag'].notnull()] \n",
    "\n",
    "#if any of the breeding pairs have an NA in them -- i.e. a pair that is set up with only one female, this will match *all* animals that also have a null tag. Check with the below line to see if this is the case.\n",
    "breeders.query('Tag.isnull()')\n"
   ]
  },
  {
   "cell_type": "code",
   "execution_count": null,
   "metadata": {},
   "outputs": [],
   "source": [
    "breeders[breeders.Tag.isin(tier2)].sort_values('Tag')"
   ]
  },
  {
   "cell_type": "code",
   "execution_count": null,
   "metadata": {},
   "outputs": [],
   "source": [
    "# df[df['Tag'].isin(tier2) & df['Tag'].notnull()] "
   ]
  },
  {
   "cell_type": "code",
   "execution_count": null,
   "metadata": {},
   "outputs": [],
   "source": [
    "## TEMPORARY CODE\n",
    "transfers = df.query('DOD.str.contains(\"glatzer|west\")')\n",
    "transfers.groupby(['DOD']).agg({'Cage': ['nunique','unique'], 'Tag': ['nunique','unique'], 'Lineage':'unique'}).to_clipboard()"
   ]
  },
  {
   "cell_type": "code",
   "execution_count": null,
   "metadata": {},
   "outputs": [],
   "source": [
    "# to split genotyping info\n",
    "df = splitGenotypes(df)"
   ]
  },
  {
   "cell_type": "code",
   "execution_count": null,
   "metadata": {},
   "outputs": [],
   "source": [
    "PB21 = df.query(\"Lineage == 'PB#21'\")."
   ]
  },
  {
   "cell_type": "code",
   "execution_count": null,
   "metadata": {},
   "outputs": [],
   "source": [
    "cleaned = PB21.sort_values('E_num', ascending = False).head(10).reset_index()"
   ]
  },
  {
   "cell_type": "code",
   "execution_count": null,
   "metadata": {},
   "outputs": [],
   "source": [
    "trim = cleaned[['Tag', 'E_num', \"I_num\",'S_num', 'summedhgRNAs_active']].reset_index()\n",
    "# melt = cleaned.melt(value_vars = [\"E_num\", \"I_num\", \n",
    "#                                            'S_num', \n",
    "#                                            'summedhgRNAs_active'])"
   ]
  },
  {
   "cell_type": "code",
   "execution_count": null,
   "metadata": {},
   "outputs": [],
   "source": [
    "trim"
   ]
  },
  {
   "cell_type": "code",
   "execution_count": null,
   "metadata": {},
   "outputs": [],
   "source": [
    "melt = trim.melt(id_vars = ['index', 'summedhgRNAs_active'], value_vars = [\"E_num\", \"I_num\", \n",
    "                                           'S_num'], ignore_index = True)\n",
    "melt['var_percent'] = melt['value']/melt['summedhgRNAs_active']"
   ]
  },
  {
   "cell_type": "code",
   "execution_count": null,
   "metadata": {},
   "outputs": [],
   "source": [
    "melt"
   ]
  },
  {
   "cell_type": "code",
   "execution_count": null,
   "metadata": {},
   "outputs": [],
   "source": [
    "# ax = sns.histplot(df, x='year', hue='country', weights='percentage',\n",
    "#              multiple='stack', palette='tab20c', shrink=0.8)\n",
    "ax = sns.histplot(data=melt, x= 'index', hue =\"variable\", weights = \"value\", multiple = \"stack\", bins = 10)\n",
    "# plt.xticks(range(0,101,10))\n",
    "legend = ax.get_legend()\n",
    "legend.set_bbox_to_anchor((1, 1))"
   ]
  },
  {
   "cell_type": "code",
   "execution_count": null,
   "metadata": {},
   "outputs": [],
   "source": [
    "sns.histplot(data = cleaned, x = \"\")"
   ]
  },
  {
   "cell_type": "code",
   "execution_count": null,
   "metadata": {},
   "outputs": [],
   "source": [
    "import pandas as pd\n",
    "import seaborn as sns\n",
    "\n",
    "# Put data in long format in a dataframe.\n",
    "df = pd.DataFrame({\n",
    "    'country': countries2012 + countries2013,\n",
    "    'year': ['2012'] * len(countries2012) + ['2013'] * len(countries2013),\n",
    "    'percentage': percentage2012 + percentage2013\n",
    "})\n",
    "\n",
    "# One liner to create a stacked bar chart.\n",
    "ax = sns.histplot(df, x='year', hue='country', weights='percentage',\n",
    "             multiple='stack', palette='tab20c', shrink=0.8)\n",
    "ax.set_ylabel('percentage')\n",
    "# Fix the legend so it's not on top of the bars.\n",
    "legend = ax.get_legend()\n",
    "legend.set_bbox_to_anchor((1, 1))"
   ]
  },
  {
   "cell_type": "code",
   "execution_count": null,
   "metadata": {},
   "outputs": [],
   "source": [
    "cleaned.max(numeric_only = True)"
   ]
  },
  {
   "cell_type": "code",
   "execution_count": null,
   "metadata": {},
   "outputs": [],
   "source": [
    "cleand.groupby(\"Lineage\")['I_num'].max().dropna()"
   ]
  },
  {
   "cell_type": "code",
   "execution_count": null,
   "metadata": {},
   "outputs": [],
   "source": [
    "sns.displot(PB21, )"
   ]
  },
  {
   "cell_type": "code",
   "execution_count": null,
   "metadata": {},
   "outputs": [],
   "source": [
    "df.groupby(['DOD']).agg({'Cage': 'nunique', 'Tag': ['nunique','unique'], 'Lineage':'unique'})"
   ]
  },
  {
   "cell_type": "code",
   "execution_count": null,
   "metadata": {},
   "outputs": [],
   "source": [
    "mask = ~df.TagClean.isin(tier1) \n",
    "experimental = df.Lineage.str.contains(\"Cas9 x\")\n",
    "PB = df.Lineage.str.contains(\"PB#\")\n",
    "tier1 = df.DOD.str.contains(\"tier1_confirmed|breed\")\n",
    "femalesM = (df.Sex.str.lower() == \"f\")\n",
    "malesM = (df.Sex.str.lower() == \"m\")\n",
    "not_ancient = df.DOB > '2020-04-01'\n"
   ]
  },
  {
   "cell_type": "code",
   "execution_count": null,
   "metadata": {},
   "outputs": [],
   "source": [
    "df['mutationScore'] = df['Genotype'].str.split(\":\", expand = True)[1].astype(float)\n",
    "df['early_and_mid_ct'] = df['E_num'] + df ['I_num']"
   ]
  },
  {
   "cell_type": "code",
   "execution_count": null,
   "metadata": {},
   "outputs": [],
   "source": [
    "df[mask & PB & not_ancient & ~tier1 & malesM][['Tag', 'Cage', 'Ear', 'Sex', 'Color', 'DOB', 'DOD', 'Lineage', 'early_and_mid_ct','summedhgRNAs_active']].sort_values('early_and_mid_ct', ascending = False).to_clipboard(index = False)"
   ]
  },
  {
   "cell_type": "code",
   "execution_count": null,
   "metadata": {},
   "outputs": [],
   "source": [
    "df[mask & experimental & not_ancient & ~tier1][['Tag', 'Cage', 'Ear', 'Sex', 'Color', 'Name', 'Genotype', 'DOB', 'DOD', 'Lineage', 'E_num', 'I_num', 'S_num',\n",
    "       'ina_num', 'summedhgRNAs', 'summedhgRNAs_active']].sort_values([['E_num', 'I_num'])]\n",
    "# .to_clipboard(index = False)"
   ]
  },
  {
   "cell_type": "code",
   "execution_count": null,
   "metadata": {},
   "outputs": [],
   "source": [
    "df[mask & experimental & not_ancient & ~tier1][['Tag', 'Cage', 'Ear', 'Sex', 'Color', 'Name', 'Genotype', 'DOB', 'DOD', 'mutationScore']].sort_values('mutationScore', ascending = False).to_clipboard(index = False)"
   ]
  },
  {
   "cell_type": "code",
   "execution_count": null,
   "metadata": {},
   "outputs": [],
   "source": [
    "df.query(\"Lineage.str.contains('PB')\").groupby([\"Lineage\", 'DOD']).agg({'Tag':'nunique'})"
   ]
  },
  {
   "cell_type": "code",
   "execution_count": null,
   "metadata": {},
   "outputs": [],
   "source": [
    "breedersM = df['Tag'].isin(set(breeders['Tag']))\n",
    "\n",
    "euthReqM = (df['DOD'] == 'requested euthanasia')\n",
    "fdM = df.DOD.str.contains(\"fd\")\n",
    "experimentalM = df.DOD.str.contains(\"experimental|~breeder\") | df.Lineage.str.contains(\"Exp\")\n",
    "pbM = df.Lineage.str.contains(\"PB#\")\n",
    "insM = df.Lineage.str.contains(\"ins\")"
   ]
  },
  {
   "cell_type": "code",
   "execution_count": null,
   "metadata": {},
   "outputs": [],
   "source": [
    "working = df[ ~euthReqM & ~fdM].copy().reset_index()"
   ]
  },
  {
   "cell_type": "code",
   "execution_count": null,
   "metadata": {},
   "outputs": [],
   "source": [
    "working['mutationScore'] = working['Genotype'].str.split(\":\", expand = True)[1].astype(float)"
   ]
  },
  {
   "cell_type": "code",
   "execution_count": null,
   "metadata": {},
   "outputs": [],
   "source": [
    "working[easyCats + ['DOD','Genotype', 'mutationScore', 'Father', 'Mother']].sort_values(['Sex', 'mutationScore'], ascending = False)\n",
    "# .to_clipboard(index = False)"
   ]
  },
  {
   "cell_type": "code",
   "execution_count": null,
   "metadata": {},
   "outputs": [],
   "source": [
    "working.query(\"DOD.str.contains('putative')\")[easyCats +['DOD']]"
   ]
  },
  {
   "cell_type": "code",
   "execution_count": null,
   "metadata": {},
   "outputs": [],
   "source": [
    "df[malesM & pbM & ~euthReqM][easyCats + ['DOD', 'E_num', 'I_num', 'S_num', 'summedhgRNAs', 'summedhgRNAs_active']].sort_values('summedhgRNAs_active', ascending = False).query('~DOD.str.contains(\"confirmed|xcas9|transferred|tier1|breeder-may20\")')"
   ]
  },
  {
   "cell_type": "code",
   "execution_count": null,
   "metadata": {},
   "outputs": [],
   "source": [
    "meese = df.query(\n",
    "    'DOD.str.contains(\"pbf|pb3\") & DOD.str.contains(\"tier1\")').sort_values(\n",
    "        ['Sex', 'Lineage'], ascending=False)\n",
    "meese.groupby(\"Cage\", sort = False).agg({\n",
    "    'Tag': 'unique', 'CageSize':'mean',\n",
    "    'Ear': 'unique',\n",
    "    'Color': 'unique',\n",
    "    'Lineage':'unique', 'Sex': 'unique'\n",
    "})"
   ]
  },
  {
   "cell_type": "code",
   "execution_count": null,
   "metadata": {},
   "outputs": [],
   "source": [
    "meese[easyCats].to_clipboard(index = False)"
   ]
  },
  {
   "cell_type": "code",
   "execution_count": null,
   "metadata": {},
   "outputs": [],
   "source": [
    "# cages_find.head()"
   ]
  },
  {
   "cell_type": "code",
   "execution_count": null,
   "metadata": {},
   "outputs": [],
   "source": [
    "# cages_find.groupby(\"Cage\").agg({'Tag': ['count', 'unique'], 'Ear': 'unique', 'Color': 'unique'}).to_clipboard(sep = \"\\t\")"
   ]
  },
  {
   "cell_type": "code",
   "execution_count": null,
   "metadata": {},
   "outputs": [],
   "source": [
    "# df.query('DOD == \"breeding-putative-201015\"')[easyCats].sort_values('DOB').to_csv(makefn('PB7_breeders'), sep = \"\\t\")"
   ]
  },
  {
   "cell_type": "code",
   "execution_count": null,
   "metadata": {},
   "outputs": [],
   "source": [
    "# ## vickie cages\n",
    "# # mutant:\n",
    "# AA0105 AA0105\n",
    "# AA0056 5171-5174 (WT / syn cre relevant)"
   ]
  },
  {
   "cell_type": "code",
   "execution_count": null,
   "metadata": {},
   "outputs": [],
   "source": []
  },
  {
   "cell_type": "code",
   "execution_count": null,
   "metadata": {},
   "outputs": [],
   "source": [
    "# df.query('Cage.str.contains(\"AA0105|AA0056\")')[easyCats].to_clipboard(index = False, sep = \"\\t\")"
   ]
  },
  {
   "cell_type": "code",
   "execution_count": null,
   "metadata": {},
   "outputs": [],
   "source": [
    "# df.query('Cage.str.contains(\"AA0105|AA0056\")')[['Tag', 'Cage', 'Ear', 'Sex', 'Color', 'DOB', 'Lineage']].to_clipboard(index = False, sep = \"\\t\")"
   ]
  },
  {
   "cell_type": "code",
   "execution_count": null,
   "metadata": {},
   "outputs": [],
   "source": [
    "# mice = df.fillna(\"-\").query('Tag.str.contains(\"5049|5253|5254|5242\")')\n",
    "# cages = mice.Cage.unique()"
   ]
  },
  {
   "cell_type": "code",
   "execution_count": null,
   "metadata": {},
   "outputs": [],
   "source": []
  },
  {
   "cell_type": "code",
   "execution_count": null,
   "metadata": {},
   "outputs": [],
   "source": [
    "# # cages = mice.Cage.unique()\n",
    "# df[df.Cage.isin(cages)][easyCats].to_clipboard(index = False, sep = \"\\t\")"
   ]
  },
  {
   "cell_type": "code",
   "execution_count": null,
   "metadata": {},
   "outputs": [],
   "source": []
  },
  {
   "cell_type": "code",
   "execution_count": null,
   "metadata": {},
   "outputs": [],
   "source": [
    "# df[df.Cage.isin(cages)][['Tag', 'Cage', 'Ear', 'Sex', 'Color', 'DOB', 'Lineage']]"
   ]
  },
  {
   "cell_type": "markdown",
   "metadata": {},
   "source": [
    "# code from summing total hgRNA counts for collecting animal samples"
   ]
  },
  {
   "cell_type": "markdown",
   "metadata": {},
   "source": [
    "## splitting hgRNA genotypes into columns"
   ]
  },
  {
   "cell_type": "code",
   "execution_count": null,
   "metadata": {},
   "outputs": [],
   "source": [
    "## speciality speed code for re-splitting genotypes by hgRNA tyep\n",
    "def splitGenotypes(df):\n",
    "    '''for splitting genotypes into hgRNA categories and summing to pick breeders when Reza hasn't, or for distribution, or whatever'''\n",
    "    split = df['Genotype'].str.split(r'(\\w,)', expand=True)\n",
    "    split[6] = split[6].str.extract('(\\d+)')\n",
    "    split = split.rename({\n",
    "        0: \"E\",\n",
    "        2: 'I',\n",
    "        4: \"S\",\n",
    "        6: 'ina'\n",
    "    }, axis=1).drop(columns=[1, 3, 5])\n",
    "\n",
    "    newcols = []\n",
    "    oldcols = []\n",
    "    for col in split:\n",
    "        colN = str(col) + \"_num\"\n",
    "        split[colN] = pd.to_numeric(split[col], errors='coerce')\n",
    "        oldcols.append(col)\n",
    "        newcols.append(colN)\n",
    "\n",
    "    split['summedhgRNAs'] = split[newcols].sum(axis=1)\n",
    "    split['summedhgRNAs_active'] = split[newcols[0:3]].sum(axis=1)\n",
    "    split = split.drop(oldcols[0:4], axis=1)\n",
    "    df = df.merge(split, left_index=True, right_index=True)\n",
    "    return df"
   ]
  },
  {
   "cell_type": "code",
   "execution_count": null,
   "metadata": {},
   "outputs": [],
   "source": [
    "df = splitGenotypes(df)"
   ]
  },
  {
   "cell_type": "code",
   "execution_count": null,
   "metadata": {},
   "outputs": [],
   "source": [
    "breedersMask = df['Tag'].isin(set(breeders['Tag']))\n",
    "euthanasiaMask = (df['DOD'] == 'requested euthanasia')\n",
    "fdMask = df.DOD.str.contains(\"fd|breeder-may|experimental\")\n",
    "pbMask = df.Lineage.str.contains(\"PB#\")\n",
    "fMask = (df.Sex.str.lower() == \"f\")"
   ]
  },
  {
   "cell_type": "code",
   "execution_count": null,
   "metadata": {},
   "outputs": [],
   "source": [
    "df[~breedersMask & ~euthanasiaMask & ~fdMask & pbMask & ~fMask].sort_values(['E_num', 'I_num', 'S_num'])[easyCats]"
   ]
  },
  {
   "cell_type": "code",
   "execution_count": null,
   "metadata": {},
   "outputs": [],
   "source": [
    "# .to_clipboard(index=False, sep = \"\\t\")\n",
    "df.query('DOD.str.contains(\"zack\")')[['Tag','Genotype', 'summedhgRNAs', 'summedhgRNAs_active']].to_csv('ZackTransferGenotypes.tsv', sep = '\\t', index=False) "
   ]
  },
  {
   "cell_type": "markdown",
   "metadata": {
    "heading_collapsed": true
   },
   "source": [
    "## query each lineage + create CSV from it"
   ]
  },
  {
   "cell_type": "markdown",
   "metadata": {},
   "source": [
    "# checking breedings against spreadsheet"
   ]
  },
  {
   "cell_type": "code",
   "execution_count": null,
   "metadata": {
    "code_folding": []
   },
   "outputs": [],
   "source": [
    "source_dir = \"Breedings\"\n",
    "date = \"2020-10-09\"\n",
    "fns = glob.glob(f\"{source_dir}/*{date}_cage*\")\n",
    "data = []\n",
    "\n",
    "for fn in fns:\n",
    "    frame = pd.read_csv(fn, sep=\"\\t\")\n",
    "    frame['Lineage'], frame['Date'] = fn[10:24].split(\"-\", 1)\n",
    "    data.append(frame)\n",
    "\n",
    "animals = pd.concat(\n",
    "    data, ignore_index=True)  #dont want pandas to try an align row indexes\n",
    "\n",
    "animals = animals.applymap(lambda x: x.strip(\"t\") if isinstance(\n",
    "    x, str) else x)  #remove t for easier comparison to big frame applys\n",
    "\n",
    "tagCols = ['Male', 'Female1',\n",
    "           'Female2']  #grab columns with animals for flattening\n",
    "\n",
    "data = []\n",
    "for col in tagCols:\n",
    "    frame = pd.concat((animals[i] for i in [col, 'Lineage', 'Date']),\n",
    "                      axis=1).rename({col: 'Tag'}, axis=1)\n",
    "    data.append(frame)\n",
    "\n",
    "#            #, animals['Lineage'], animals['Date']]\n",
    "# #     data.append(frame)\n",
    "breeders = pd.concat(\n",
    "    data, ignore_index=True)  #dont want pandas to try an align row indexes;"
   ]
  },
  {
   "cell_type": "markdown",
   "metadata": {
    "code_folding": []
   },
   "source": [
    "## check that all animals are correctly marked in the spreadsheet"
   ]
  },
  {
   "cell_type": "code",
   "execution_count": null,
   "metadata": {
    "code_folding": []
   },
   "outputs": [],
   "source": [
    "## #### parsing breedings etc - check that all breeders are marked as such on the sheet\n",
    "breedrs = pd.merge(df, breeders, left_on ='TagClean', right_on = 'Tag', how = 'right')\n",
    "if len(breedrs.DOD.unique()) > 1:\n",
    "    print(\"Not all breeders marked\")\n",
    "else:\n",
    "    print(\"Only one DOD found, {}\".format(breedrs.DOD.unique()[0]))\n",
    "    \n",
    "list(set(breeders['Tag'])-set(breedrs['TagClean']))"
   ]
  },
  {
   "cell_type": "code",
   "execution_count": null,
   "metadata": {},
   "outputs": [],
   "source": [
    "breedrs.query('DOD.str.contains(\"pbfbreeder_tier1\", na = False)').groupby(\"Cage\").agg({'Cage': 'nunique', 'TagClean': ['nunique','unique'], 'Lineage_x':'unique'})"
   ]
  },
  {
   "cell_type": "markdown",
   "metadata": {},
   "source": [
    "# something eles happens here? something about querying for samples of a specific type"
   ]
  },
  {
   "cell_type": "code",
   "execution_count": null,
   "metadata": {},
   "outputs": [],
   "source": [
    "# def query(df, lineage, disp=1):\n",
    "#     result = df.query(\n",
    "#         'Lineage.str.contains(\"{}\")'.format(lineage))\n",
    "#     if disp:\n",
    "#         result = result.query('DispPercent >= {}'.format(disp))\n",
    "#     result = result.sort_values(\"summedhgRNAs_active\", ascending=False)\n",
    "#     return result\n",
    "\n",
    "# frames = {}\n",
    "# lineages = ['#3', '#7', 'ins21', '-Cas9', 'PBF']\n",
    "\n",
    "# for line in lineages:\n",
    "#     frame = query(df, line).head(5)\n",
    "#     frames.update({line: frame})\n",
    "# for frame in frames:\n",
    "#     fn = makefn(frame)\n",
    "#     frames[frame].to_csv(fn, sep=\"\\t\")\n",
    "#     df[['fCas', 'transgene']] = df['Genotype'].str.split(\",\", 1, expand = True)\n",
    "# frame = query(df, 'fCas9').query('transgene.str.contains(\"-\")')\n",
    "# frame = frame.sort_values(['fCas', 'transgene'], ascending = [True, True]).head(10)\n",
    "# fn = makefn('creFlipped-negative_ampliconSamples')\n",
    "# frame.to_csv(fn, sep ='\\t')\n"
   ]
  },
  {
   "cell_type": "code",
   "execution_count": null,
   "metadata": {},
   "outputs": [],
   "source": []
  },
  {
   "cell_type": "code",
   "execution_count": null,
   "metadata": {},
   "outputs": [],
   "source": [
    "##############################################"
   ]
  },
  {
   "cell_type": "markdown",
   "metadata": {},
   "source": [
    "# assessing parental genotypes to consider offspring (for fCas9 maintenance/breeding)"
   ]
  },
  {
   "cell_type": "code",
   "execution_count": null,
   "metadata": {},
   "outputs": [],
   "source": [
    "df.Lineage = df.Lineage.fillna(\"--\")\n",
    "fathers = df[df.Lineage.str.contains('fCas9')].Father.unique().flatten()\n",
    "mothers = df[df.Lineage.str.contains('fCas9')].Mother.unique().flatten()\n",
    "rents = np.append(fathers, mothers)\n",
    "parentList = []\n",
    "for i in rents:\n",
    "    parentList.extend(i.split(\"/\")) \n",
    "parents = df.loc[df['Tag'].isin(parentList)]"
   ]
  },
  {
   "cell_type": "code",
   "execution_count": null,
   "metadata": {},
   "outputs": [],
   "source": [
    "## easy categories\n",
    "plateCats =  ['Genotype','PlateID', 'Row', 'Column',\n",
    "       'Position']\n",
    "cats = easyCats + plateCats"
   ]
  },
  {
   "cell_type": "code",
   "execution_count": null,
   "metadata": {},
   "outputs": [],
   "source": [
    "df[['fCas', 'transgene']] = df['Genotype'].str.split(\",\", 1, expand = True)"
   ]
  },
  {
   "cell_type": "code",
   "execution_count": null,
   "metadata": {},
   "outputs": [],
   "source": [
    "df.Lineage = df.Lineage.fillna(\"--\")\n",
    "linMask = df.Lineage.str.contains('fCas9')\n",
    "genoMask = df.Genotype.isnull()\n",
    "fCas9 = df[linMask].fillna(\"-\")\n",
    "H_linMask = fCas9.Lineage.str.contains('hCD2')\n",
    "S_linMask = fCas9.Lineage.str.lower().str.contains('syn')"
   ]
  },
  {
   "cell_type": "code",
   "execution_count": null,
   "metadata": {},
   "outputs": [],
   "source": [
    "df.query(\"Tag == '5326'\")"
   ]
  },
  {
   "cell_type": "code",
   "execution_count": null,
   "metadata": {
    "code_folding": [
     0
    ]
   },
   "outputs": [],
   "source": [
    "fCas9.groupby(['Sex', 'DOD', 'fCas', 'transgene']).agg({'Genotype': 'count',\n",
    "                                                   'Tag':'unique', 'Cage':'unique', \n",
    "                                                  'DOB': ['min', 'max']})"
   ]
  },
  {
   "cell_type": "code",
   "execution_count": null,
   "metadata": {},
   "outputs": [],
   "source": [
    "cages = df.groupby([\"Cage\", \"Sex\"]).agg({'Color':'unique',\n",
    "                                         'DOD':'unique',\n",
    "                                         'Lineage':'unique'})   #yay!"
   ]
  },
  {
   "cell_type": "code",
   "execution_count": null,
   "metadata": {},
   "outputs": [],
   "source": []
  },
  {
   "cell_type": "code",
   "execution_count": null,
   "metadata": {},
   "outputs": [],
   "source": [
    "df.groupby('Cage').agg({\n",
    "    'dispensible': 'mean',\n",
    "    'Cage': 'size',\n",
    "    'Sex': 'unique',\n",
    "    'DOD': 'unique',\n",
    "    'Tag': 'unique',\n",
    "    'Color': 'unique',\n",
    "    'Ear': 'unique',\n",
    "    'Lineage': 'unique'\n",
    "}).sort_values('dispensible', ascending = False)"
   ]
  },
  {
   "cell_type": "code",
   "execution_count": null,
   "metadata": {},
   "outputs": [],
   "source": [
    "df[df.Sex == \"F\"].groupby(['Cage']).agg({'Cage': 'size',\n",
    "                                         'DOD': 'unique',\n",
    "                                         'Tag':'unique',\n",
    "                                        'Color' : 'unique',\n",
    "                                         'Ear' : 'unique',}).sort_values"
   ]
  },
  {
   "cell_type": "code",
   "execution_count": null,
   "metadata": {},
   "outputs": [],
   "source": [
    "df[df.Sex == \"F\"].groupby(['Cage']).agg({'Cage':'size',\n",
    "                                         'Color':'unique',\n",
    "                                         'DOD':'unique',\n",
    "                                         'Lineage':'unique'})   #yay!"
   ]
  },
  {
   "cell_type": "markdown",
   "metadata": {},
   "source": [
    "# retrieve animals with null genotypes in a certain lineage + get their well plates"
   ]
  },
  {
   "cell_type": "code",
   "execution_count": null,
   "metadata": {},
   "outputs": [],
   "source": [
    "insGeno = df[(df.Lineage.str.contains(\"ins21\")) & (df.Genotype.isnull())]"
   ]
  },
  {
   "cell_type": "code",
   "execution_count": null,
   "metadata": {},
   "outputs": [],
   "source": [
    "locs = pd.read_pickle('96-wellLocs.pkl').sort_values(\n",
    "        ['Column',\n",
    "         'Row']).reset_index(drop=True)  # impt standard plate indexing\n",
    "# locs.join(df, rsuffix = \"_init\")\n",
    "# insGeno.sort_values(join(locs, rsuffix = 'init')\n",
    "locs.join(insGeno, rsuffix='init')"
   ]
  },
  {
   "cell_type": "code",
   "execution_count": null,
   "metadata": {},
   "outputs": [],
   "source": [
    "insGeno.pivot(index='WellRow', columns='WellCol',\n",
    "                      values=['Tag', 'Plate'])"
   ]
  },
  {
   "cell_type": "markdown",
   "metadata": {},
   "source": [
    "# generate a general colony pivot table by lineage, sex, and DOB with total numbers"
   ]
  },
  {
   "cell_type": "code",
   "execution_count": null,
   "metadata": {},
   "outputs": [],
   "source": [
    "file = \"05227-mst.tsv\"\n",
    "saveFn = makefn(\"05227-ms\".replace(\" \", \"\")+'_summary')\n",
    "remapDict= {'ins': '1685ins21#2',\n",
    "            'pb3' : '1763PB#3',\n",
    "            'pb7' : '1763PB#7',\n",
    "            'pbf': '1853PBF#1'}\n",
    "for key, value in remapDict.items():\n",
    "    df.Lineage = df.Lineage.apply(lambda row: value if key in row.lower() else row)\n",
    "grouped = df.groupby(['Lineage',\n",
    "            'Sex',\n",
    "            pd.Grouper(key='DOB',freq='q')]).size().unstack('DOB').reset_index()\n",
    "grouped['Total'] = grouped.sum(axis=1)\n",
    "grouped.fillna(\"-\").to_csv(saveFn)"
   ]
  },
  {
   "cell_type": "code",
   "execution_count": null,
   "metadata": {},
   "outputs": [],
   "source": [
    "saveFn = makefn(file.replace(\" \", \"\")+'_femaleConsolidation')"
   ]
  },
  {
   "cell_type": "code",
   "execution_count": null,
   "metadata": {},
   "outputs": [],
   "source": [
    "df.groupby([\"Cage\"]).agg({'Cage': 'count',  'Sex': 'unique',\n",
    "                                 'Color':'unique',\n",
    "                                'DOD': 'unique'})"
   ]
  },
  {
   "cell_type": "code",
   "execution_count": null,
   "metadata": {},
   "outputs": [],
   "source": [
    "mating = tagSearch(ins + PB3 + PB7 + PBF + cre)\n",
    "df[mating].sort_values('Lineage').to_csv('file.csv')"
   ]
  },
  {
   "cell_type": "markdown",
   "metadata": {},
   "source": [
    "# break - 2019 and previous code snippets"
   ]
  },
  {
   "cell_type": "code",
   "execution_count": null,
   "metadata": {},
   "outputs": [],
   "source": [
    "CreMask = (df.Lineage.str.contains(\"fCas\", na=False))\n",
    "PBFMask = (df.Lineage.str.contains(\"PBF\", na=False))\n",
    "insMask = tagSearch(\"t2620 t2632 t2623 t2463 t2625 t2622 t2616 t2626 t2633 t2720 t2721 t2722 t2755 t2750 t2751 t2415 t2445\")\n",
    "alreadyShipped = (df.Cage.str.contains(\"HOP\", na= True))\n",
    "traveling = (df.DOD.str.endswith(\"hopkins| \", na = False))"
   ]
  },
  {
   "cell_type": "code",
   "execution_count": null,
   "metadata": {},
   "outputs": [],
   "source": [
    "shipped_2 = df[(df.DOD.str.endswith(\"hopkins\", na = False))]"
   ]
  },
  {
   "cell_type": "code",
   "execution_count": null,
   "metadata": {},
   "outputs": [],
   "source": [
    "shipped_2.sort_values([\"Cage\", \"Tag\"])[['Cage', 'Sex', 'Tag', 'Ear', 'Color', 'DOB']].to_clipboard(excel=True, index=False)"
   ]
  },
  {
   "cell_type": "code",
   "execution_count": null,
   "metadata": {
    "scrolled": true
   },
   "outputs": [],
   "source": [
    "shipped_2.groupby([\"Cage\"]).agg({'Cage': 'count', 'Sex':'unique'}).to_clipboard(excel=True)"
   ]
  },
  {
   "cell_type": "code",
   "execution_count": null,
   "metadata": {},
   "outputs": [],
   "source": [
    "hop = df[((traveling & (CreMask | PBFMask)) | insMask ) & ~alreadyShipped]"
   ]
  },
  {
   "cell_type": "code",
   "execution_count": null,
   "metadata": {},
   "outputs": [],
   "source": [
    "hop.groupby([\"Cage\", \"Sex\"]).agg({'Cage': 'count'})"
   ]
  },
  {
   "cell_type": "code",
   "execution_count": null,
   "metadata": {},
   "outputs": [],
   "source": [
    "hop.groupby([\"Sex\", \"Cage\", \"Tag\"]).agg({'Lineage': 'unique',\n",
    "                                         'Color': 'unique',\n",
    "                                        'Ear': 'unique'})"
   ]
  },
  {
   "cell_type": "code",
   "execution_count": null,
   "metadata": {
    "scrolled": false
   },
   "outputs": [],
   "source": [
    "hop.groupby(['Sex','Cage']).agg({'Cage':'count'})"
   ]
  },
  {
   "cell_type": "code",
   "execution_count": null,
   "metadata": {},
   "outputs": [],
   "source": [
    "hop.sort_values(['Sex', \"Lineage\", 'Tag'])"
   ]
  },
  {
   "cell_type": "code",
   "execution_count": null,
   "metadata": {},
   "outputs": [],
   "source": []
  },
  {
   "cell_type": "code",
   "execution_count": null,
   "metadata": {},
   "outputs": [],
   "source": [
    "df[(df.Genotype.isnull()) \\\n",
    "   & (df['DOD'] != \"Dispensible\")].fillna(\"x\").groupby([\"Lineage\", 'Cage']).agg({'Sex': 'count',\n",
    "                                                                                   'Tag':'unique',\n",
    "                                                                                   'Name': 'unique' })"
   ]
  },
  {
   "cell_type": "code",
   "execution_count": null,
   "metadata": {},
   "outputs": [],
   "source": [
    "#mask for sorting centrifuge tube samples\n",
    "freezerMask = (df.Tag.notnull()) & \\\n",
    "    (~df['Notebook info'].str.startswith(\"T|Plate\", na=False))&\\\n",
    "     (df.Lineage != 'J024858-Cas9')\n",
    "\n",
    "#and the results\n",
    "df[freezerMask].sort_values(\"Tag\")"
   ]
  },
  {
   "cell_type": "code",
   "execution_count": null,
   "metadata": {},
   "outputs": [],
   "source": [
    "earlyMask, lateMask, fMask = collectAgeRange(df, '2019-12-01',\n",
    "                                             28, 0 , \"\", \"F\")\n",
    "earlyMask, lateMask, mMask = collectAgeRange(df, '2019-12-01',\n",
    "                                             40, 0 , \"\", \"M\")\n",
    "\n",
    "inc = df[mMask].append(df[fMask]) #combine\n",
    "\n",
    "inc['DOD'], inc['parsedDOD'] =  zip(*inc.DOD.apply(lambda row: cleanDOD(row))) #parse DOD\n",
    "inc = inc[(~inc.parsedDOD.notnull()) \\\n",
    "          & (~inc.DOD.str.contains('sperm|Diss|f.d.',\n",
    "                                   na = False))] #drop assorted dead mice"
   ]
  },
  {
   "cell_type": "code",
   "execution_count": null,
   "metadata": {},
   "outputs": [],
   "source": [
    "inc.fillna('n/a').groupby(['Lineage',\n",
    "                           'DOD',\n",
    "                           'Sex']).agg({'DOB': ['count',\n",
    "                                                'min',\n",
    "                                                'max']})"
   ]
  },
  {
   "cell_type": "code",
   "execution_count": null,
   "metadata": {},
   "outputs": [],
   "source": [
    "inc[inc.DOD.str.contains('Hopkins', na= False)].groupby(\"Sex\").agg({'Sex': 'count',\n",
    "                                                    'Cage': 'nunique'})\n"
   ]
  },
  {
   "cell_type": "code",
   "execution_count": null,
   "metadata": {},
   "outputs": [],
   "source": [
    "noMice, noCages"
   ]
  },
  {
   "cell_type": "code",
   "execution_count": null,
   "metadata": {},
   "outputs": [],
   "source": [
    "df[df.Plate == \"T885765\"].sort_values(['WellRow',\n",
    "                                       'WellCol'])[['Position',\n",
    "                                                    'Tag',\n",
    "                                                    'Lineage']].to_clipboard(excel=True, header = False, index = False)"
   ]
  },
  {
   "cell_type": "code",
   "execution_count": null,
   "metadata": {},
   "outputs": [],
   "source": [
    "def is_coherent(seq):\n",
    "    return seq == range(seq[0], seq[-1]+1)"
   ]
  },
  {
   "cell_type": "code",
   "execution_count": null,
   "metadata": {},
   "outputs": [],
   "source": [
    "MMRRC_cats = ['Tag',\n",
    "           'Cage',\n",
    "           'Ear',\n",
    "           'Sex',\n",
    "           'Color',\n",
    "           'Genotype',\n",
    "           'DOB',\n",
    "           'Lineage']"
   ]
  },
  {
   "cell_type": "code",
   "execution_count": null,
   "metadata": {
    "scrolled": true
   },
   "outputs": [],
   "source": [
    "# earlyMask, lateMask, mMask = collectAgeRange(df,\n",
    "#                                              '2019-09-16',\n",
    "#                                              13, 8,\n",
    "#                                              \"PB#\", \"M\")\n",
    "# earlyMask, lateMask, fMask = collectAgeRange(df, \n",
    "#                                              '2019-09-16',\n",
    "#                                              4, 1,\n",
    "#                                              \"PB#\", \"F\")\n",
    "# shippedMask = (df.DOD.str.contains(\"mrrc|opkins\",\n",
    "#                                    na=False)) & (df.Lineage.str.contains(\"PB#\")) #PBs marked for any maintenance movement\n",
    "\n",
    "# df[mMask|fMask|shippedMask].groupby([\"Lineage\",\n",
    "#                                      \"Sex\",\n",
    "#                                      \"DOD\"]).agg({'Tag':'count',\n",
    "#                                                    'DOB': ['first', 'last']}) #"
   ]
  },
  {
   "cell_type": "markdown",
   "metadata": {},
   "source": [
    "dispense, cSorted = makeOutputs(df)\n",
    "cSorted.to_clipboard(excel=True, index = True)"
   ]
  },
  {
   "cell_type": "code",
   "execution_count": null,
   "metadata": {},
   "outputs": [],
   "source": [
    "earlyMask, lateMask, incMask = collectAgeRange(df, '2019-09-16', 4, 1, \"\", \"F\")\n",
    "df[incMask][['Tag',\n",
    "             'Cage',\n",
    "             'Ear',\n",
    "             'Sex',\n",
    "             'Color',\n",
    "             'DOB',\n",
    "             'Genotype',\n",
    "             'Lineage']].groupby(\"Lineage\").count()"
   ]
  },
  {
   "cell_type": "code",
   "execution_count": null,
   "metadata": {
    "scrolled": true
   },
   "outputs": [],
   "source": [
    "earlyMask, lateMask, incMask = collectAgeRange(df, '2019-10-04', 10, 0 , \"\", \"\")\n",
    "#inc = df[incMask]\n",
    "#inc = inc.fillna(\"BLANK\")\n",
    "\n",
    "# [['Tag',\n",
    "#              'Cage',\n",
    "#              'Ear',\n",
    "#              'Sex',\n",
    "#              'Color',\n",
    "#              'DOB',\n",
    "#              'Genotype',\n",
    "#              'Lineage']]"
   ]
  },
  {
   "cell_type": "code",
   "execution_count": null,
   "metadata": {},
   "outputs": [],
   "source": [
    "# df[df.DOD == 'Shipped to mmrrc on 9/10'][['Tag',\n",
    "#              'Color',\n",
    "#              'Ear',\n",
    "#              'Cage', \n",
    "#              'Sex',\n",
    "#              'Genotype',\n",
    "#              'DOB',\n",
    "#              'Lineage']].sort_values(by = ['Cage',\n",
    "#                                            'Tag'])\\\n",
    "#                 .fillna(\"missing\").to_clipboard(index = False,\n",
    "#                                                excel = True)"
   ]
  },
  {
   "cell_type": "code",
   "execution_count": null,
   "metadata": {},
   "outputs": [],
   "source": [
    "# ## MICE WITH UNKNOWN FATE\n",
    "# df[(df.DOD.isnull())].groupby([\"Lineage\", \"Cage\"]).agg({'DOB': ['max', \n",
    "#                                                              'min', \n",
    "#                                                              'count'],\n",
    "#                                                         'Sex': 'max',\n",
    "#                                                         'Name': 'unique'}).fillna(\"\")"
   ]
  },
  {
   "cell_type": "code",
   "execution_count": null,
   "metadata": {},
   "outputs": [],
   "source": [
    "########## selecting mice by age#########\n",
    "shipDate = '2019-09-16'\n",
    "early1, late1, mask1 = collectAgeRange(df, shipDate, 13, 8, \"PB#\", \"M\")\n",
    "early2, late2, mask2 = collectAgeRange(df, shipDate, 9, 6.5, \"PB#\", \"F\")\n",
    "\n",
    "males_20190916  = df[mask1].sort_values([\"Lineage\", \"Genotype\"])\n",
    "females_20190916 = df[mask2].sort_values([\"Lineage\", \"Genotype\"])\n",
    "\n",
    "shipment_20190916 = males_20190916.append(females_20190916)\n",
    "\n",
    "# Sep09_shipment.sort_values([\"Lineage\",\n",
    "#                             \"Sex\",\n",
    "#                             \"Cage\"]).to_clipboard(excel=True,\n",
    "#                                                   index = False)\n",
    "\n",
    "# Sep09_shipment.groupby([\"Lineage\",\n",
    "#                         \"Sex\",\n",
    "#                         \"Cage\"])['Tag',\n",
    "#                                  'Genotype'].count().to_clipboard()"
   ]
  },
  {
   "cell_type": "code",
   "execution_count": null,
   "metadata": {},
   "outputs": [],
   "source": [
    "plate_reseq.sort_values([\"Tag\"])[['Tag',\n",
    "                                  'Lineage',\n",
    "                                  'Plate',\n",
    "                                  'WellRow',\n",
    "                                  'WellCol']].to_clipboard(excel = True, index= False)"
   ]
  },
  {
   "cell_type": "code",
   "execution_count": null,
   "metadata": {},
   "outputs": [],
   "source": [
    "df['Tag'] = 't' + df['Tag'].astype(str)"
   ]
  },
  {
   "cell_type": "code",
   "execution_count": null,
   "metadata": {},
   "outputs": [],
   "source": [
    "KL14_plateB = df[df['Plate'].str\\\n",
    "   .contains(\"T885773|T885761\", na= False)]\\\n",
    "    .sort_values(by=['Plate', 'WellRow', 'WellCol']).reset_index(drop = True)"
   ]
  },
  {
   "cell_type": "code",
   "execution_count": null,
   "metadata": {},
   "outputs": [],
   "source": [
    "KL14_plateB[['Tag','Lineage','Plate', 'WellRow', 'WellCol']]\\\n",
    "    .to_clipboard(excel=True, index=False)"
   ]
  },
  {
   "cell_type": "code",
   "execution_count": null,
   "metadata": {},
   "outputs": [],
   "source": [
    "KL14_plateA = df[df['Plate'].str\\\n",
    "   .contains(\"T885772\", na= False)]\\\n",
    "    .sort_values(by=['Plate', 'WellRow', 'WellCol']).reset_index(drop = True)"
   ]
  },
  {
   "cell_type": "code",
   "execution_count": null,
   "metadata": {},
   "outputs": [],
   "source": [
    "df[df['Plate'].str\\\n",
    "   .contains(\"T88572|T885761|T885772|T885773\",\n",
    "             na = False)][['Tag', 'Plate', 'Well']]\\\n",
    "    .sort_values(by=['Plate', 'Well'])\\\n",
    "    .to_clipboard(excel=True, index= False)"
   ]
  },
  {
   "cell_type": "code",
   "execution_count": null,
   "metadata": {},
   "outputs": [],
   "source": [
    "KL14_plateA[['Tag','Lineage','Plate', 'WellRow', 'WellCol']]\\\n",
    "    .to_clipboard(excel=True, index=False)"
   ]
  },
  {
   "cell_type": "code",
   "execution_count": null,
   "metadata": {},
   "outputs": [],
   "source": [
    "#KL14_plateA.reindex('WellCol', method='ffill')"
   ]
  },
  {
   "cell_type": "code",
   "execution_count": null,
   "metadata": {
    "scrolled": true
   },
   "outputs": [],
   "source": [
    "KL14_plateA.groupby('WellRow').Lineage.count()"
   ]
  },
  {
   "cell_type": "code",
   "execution_count": null,
   "metadata": {},
   "outputs": [],
   "source": [
    "KL14_plateA"
   ]
  },
  {
   "cell_type": "code",
   "execution_count": null,
   "metadata": {},
   "outputs": [],
   "source": [
    "KL14_plateA[['Tag', 'Plate', 'WellRow', 'WellCol']]\\\n",
    "    .sort_values(by=['Plate', 'WellRow', 'WellCol'])\\\n",
    "    .to_clipboard(excel=True, index= False)"
   ]
  },
  {
   "cell_type": "code",
   "execution_count": null,
   "metadata": {
    "scrolled": true
   },
   "outputs": [],
   "source": [
    "## lineage stats over time\n",
    "df.groupby([pd.Grouper(key=\"DOB\", freq = \"M\"),\n",
    "            \"Lineage\"]).Cage.count().unstack('DOB')"
   ]
  },
  {
   "cell_type": "code",
   "execution_count": null,
   "metadata": {},
   "outputs": [],
   "source": [
    "def dfContains(string, column = \"Cage\", keep_empties = False, case = False, df = df):\n",
    "    '''given a cage number/s (formatted as \"nrbxxxx|nrbxxx\") etc, the indexes of entries where true'''\n",
    "    return df[column].str.contains(string, na = keep_empties, case = case)"
   ]
  },
  {
   "cell_type": "code",
   "execution_count": null,
   "metadata": {},
   "outputs": [],
   "source": [
    "df[df.DOD.str.contains(\"Sperm\", na = False)].groupby('Lineage').count()"
   ]
  },
  {
   "cell_type": "code",
   "execution_count": null,
   "metadata": {},
   "outputs": [],
   "source": [
    "df[(dfContains(\"1036|1037\"))\n",
    "   & (df.Sex == \"M\")][['Tag',\n",
    "                      'Cage',\n",
    "                       'Ear',\n",
    "                       'Sex',\n",
    "                       'DOB',\n",
    "                       'Notes']]"
   ]
  },
  {
   "cell_type": "code",
   "execution_count": null,
   "metadata": {},
   "outputs": [],
   "source": [
    "PB = ['1763PB#7', '1763PB#3']\n",
    "counted = df.groupby(\"Cage\").size().reset_index(name = 'Total')\n",
    "df = df.merge(counted)\n",
    "PB_solo_males = df[(df.Lineage.isin(PB))&(df.Sex == \"M\")&(df.Total == 1)]"
   ]
  }
 ],
 "metadata": {
  "kernelspec": {
   "display_name": "Python 3",
   "language": "python",
   "name": "python3"
  },
  "language_info": {
   "codemirror_mode": {
    "name": "ipython",
    "version": 3
   },
   "file_extension": ".py",
   "mimetype": "text/x-python",
   "name": "python",
   "nbconvert_exporter": "python",
   "pygments_lexer": "ipython3",
   "version": "3.9.2"
  }
 },
 "nbformat": 4,
 "nbformat_minor": 2
}
